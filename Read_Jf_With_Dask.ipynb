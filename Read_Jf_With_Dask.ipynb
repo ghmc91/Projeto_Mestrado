{
 "cells": [
  {
   "cell_type": "code",
   "execution_count": 1,
   "metadata": {},
   "outputs": [],
   "source": [
    "import csv \n",
    "import pandas as pd\n",
    "import dask.dataframe as dd\n",
    "\n",
    "filename = '/home/gustavo/Desktop/Mestrado/mestrado_dados/dados_18.11/cdr/cdr_regiao_imediata_jf_all.txt'\n",
    "\n",
    "cdr = dd.read_csv(filename, delimiter=';')"
   ]
  },
  {
   "cell_type": "code",
   "execution_count": 2,
   "metadata": {},
   "outputs": [],
   "source": [
    "cdr_new = cdr[cdr['duration'].between(0.07,120)]"
   ]
  },
  {
   "cell_type": "code",
   "execution_count": 3,
   "metadata": {},
   "outputs": [],
   "source": [
    "def filters_of_call(cdr):\n",
    "    cdr_filter_by_quantity_of_call = cdr.groupby('user_from').size().reset_index().rename(columns={0:'QUANTITY_OF_CALLS'})\n",
    "\n",
    "    cdr_filter_by_quantity_of_call = cdr_filter_by_quantity_of_call.loc[(\n",
    "                                    (cdr_filter_by_quantity_of_call['QUANTITY_OF_CALLS'] >= 3) \n",
    "                                    & (cdr_filter_by_quantity_of_call['QUANTITY_OF_CALLS'] <= 500))]\n",
    "    return cdr\n",
    "\n",
    "def cdr_filter_by_quantity_of_days(cdr_new):\n",
    "    cdr_filter_by_quantity_of_days = cdr_new.groupby('user_from').date.nunique().to_frame('QUANTITY_OF_DAYS').reset_index()\n",
    "    cdr_filter_by_quantity_of_days = cdr_filter_by_quantity_of_days.loc[(cdr_filter_by_quantity_of_days['QUANTITY_OF_DAYS'] >= 3)]\n",
    "    \n",
    "#     df_filter_over_call = dd.merge(cdr_filter_by_quantity_of_call, cdr_filter_by_quantity_of_days,\n",
    "#                                    how='inner',on=['user_from'])\n",
    "#     cdr_after_filters_of_calls = cdr_new[(cdr_new['user_from'].isin(df_filter_over_call['user_from']))]\n",
    "#     cdr_after_filters_of_calls.to_csv('file.csv')\n",
    "    return cdr_filter_by_quantity_of_days"
   ]
  },
  {
   "cell_type": "code",
   "execution_count": 4,
   "metadata": {},
   "outputs": [],
   "source": [
    "cdr_call = filters_of_call(cdr_new)\n",
    "cdr_days = cdr_filter_by_quantity_of_days(cdr_new)"
   ]
  },
  {
   "cell_type": "code",
   "execution_count": 5,
   "metadata": {},
   "outputs": [],
   "source": [
    "df_filter_over_call = dd.merge(cdr_call, cdr_days, how='inner',on=['user_from'])"
   ]
  },
  {
   "cell_type": "code",
   "execution_count": null,
   "metadata": {},
   "outputs": [],
   "source": [
    "cdr_after_filters_of_calls = cdr_new[(cdr_new['user_from'].isin(df_filter_over_call['user_from']))]"
   ]
  }
 ],
 "metadata": {
  "kernelspec": {
   "display_name": "Python 3",
   "language": "python",
   "name": "python3"
  },
  "language_info": {
   "codemirror_mode": {
    "name": "ipython",
    "version": 3
   },
   "file_extension": ".py",
   "mimetype": "text/x-python",
   "name": "python",
   "nbconvert_exporter": "python",
   "pygments_lexer": "ipython3",
   "version": "3.7.3"
  }
 },
 "nbformat": 4,
 "nbformat_minor": 2
}
