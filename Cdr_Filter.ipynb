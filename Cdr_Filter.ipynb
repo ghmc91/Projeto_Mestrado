{
 "cells": [
  {
   "cell_type": "code",
   "execution_count": 1,
   "metadata": {},
   "outputs": [],
   "source": [
    "import pandas as pd\n",
    "import numpy as np\n",
    "pd.set_option('float_format', '{:f}'.format)"
   ]
  },
  {
   "cell_type": "code",
   "execution_count": 2,
   "metadata": {},
   "outputs": [],
   "source": [
    "path_jf = '/home/gustavo/Desktop/Mestrado/mestrado_dados/dados_18.11/cdr/cdr_regiao_imediata_jf_all.txt'\n",
    "path_sjdr = '/home/gustavo/Desktop/Mestrado/mestrado_dados/dados_18.11/cdr/cdr_regiao_imediata_sjdr.csv'"
   ]
  },
  {
   "cell_type": "code",
   "execution_count": 3,
   "metadata": {},
   "outputs": [],
   "source": [
    "def get_period(path, city):\n",
    "    cdr = pd.read_csv(path, sep=';', header=None)\n",
    "    cdr.rename(columns={0:'DATE', 1:'HOUR', 2:'DURATION', 3:'DDD_USER_FROM',\n",
    "                    4:'USER_FROM', 5:'DDD_USER_TO', 6:'USER_TO', 7: 'ANTENNA'},inplace=True)\n",
    "    cdr = cdr.drop(8,1)\n",
    "    print(city + ': \\nPeríodo:' + cdr['DATE'].min() + ' a ' + cdr['DATE'].max())"
   ]
  },
  {
   "cell_type": "code",
   "execution_count": 4,
   "metadata": {},
   "outputs": [
    {
     "name": "stdout",
     "output_type": "stream",
     "text": [
      "SJDR: \n",
      "Período:2013-03-21 a 2013-04-19\n"
     ]
    }
   ],
   "source": [
    "get_period(path_sjdr, 'SJDR')"
   ]
  },
  {
   "cell_type": "code",
   "execution_count": 5,
   "metadata": {},
   "outputs": [
    {
     "data": {
      "text/html": [
       "<div>\n",
       "<style scoped>\n",
       "    .dataframe tbody tr th:only-of-type {\n",
       "        vertical-align: middle;\n",
       "    }\n",
       "\n",
       "    .dataframe tbody tr th {\n",
       "        vertical-align: top;\n",
       "    }\n",
       "\n",
       "    .dataframe thead th {\n",
       "        text-align: right;\n",
       "    }\n",
       "</style>\n",
       "<table border=\"1\" class=\"dataframe\">\n",
       "  <thead>\n",
       "    <tr style=\"text-align: right;\">\n",
       "      <th></th>\n",
       "      <th>0</th>\n",
       "      <th>1</th>\n",
       "      <th>2</th>\n",
       "      <th>3</th>\n",
       "      <th>4</th>\n",
       "      <th>5</th>\n",
       "      <th>6</th>\n",
       "      <th>7</th>\n",
       "      <th>8</th>\n",
       "      <th>9</th>\n",
       "      <th>10</th>\n",
       "      <th>11</th>\n",
       "      <th>12</th>\n",
       "      <th>13</th>\n",
       "      <th>14</th>\n",
       "    </tr>\n",
       "  </thead>\n",
       "  <tbody>\n",
       "    <tr>\n",
       "      <th>0</th>\n",
       "      <td>2013-03-21</td>\n",
       "      <td>11:51:30</td>\n",
       "      <td>0.370000</td>\n",
       "      <td>32</td>\n",
       "      <td>5B5F2C071D12AF13219DF5EBE05132AF</td>\n",
       "      <td>32</td>\n",
       "      <td>9FB3B96B6D5E16C9DD564AA3E84F1954</td>\n",
       "      <td>50141</td>\n",
       "      <td>nan</td>\n",
       "      <td>117</td>\n",
       "      <td>LOCAL</td>\n",
       "      <td>OI</td>\n",
       "      <td>OI</td>\n",
       "      <td>PRE PAGO</td>\n",
       "      <td>300000533</td>\n",
       "    </tr>\n",
       "    <tr>\n",
       "      <th>1</th>\n",
       "      <td>2013-03-21</td>\n",
       "      <td>21:03:30</td>\n",
       "      <td>0.130000</td>\n",
       "      <td>61</td>\n",
       "      <td>B3299B0E587D7275E3E4D530E9EECF50</td>\n",
       "      <td>98</td>\n",
       "      <td>6432F1DF21BA38368D9A165C739EEBB3</td>\n",
       "      <td>51601</td>\n",
       "      <td>nan</td>\n",
       "      <td>195</td>\n",
       "      <td>LONGA DISTANCIA</td>\n",
       "      <td>BRT</td>\n",
       "      <td>OI</td>\n",
       "      <td>PRE PAGO</td>\n",
       "      <td>300000210</td>\n",
       "    </tr>\n",
       "    <tr>\n",
       "      <th>2</th>\n",
       "      <td>2013-03-21</td>\n",
       "      <td>17:33:20</td>\n",
       "      <td>0.330000</td>\n",
       "      <td>61</td>\n",
       "      <td>85D5C50A6D882CA8E4BB00BCA3574417</td>\n",
       "      <td>61</td>\n",
       "      <td>0D8583F810B9720A8032BB939F12B3FF</td>\n",
       "      <td>51601</td>\n",
       "      <td>nan</td>\n",
       "      <td>117</td>\n",
       "      <td>LOCAL</td>\n",
       "      <td>BRT</td>\n",
       "      <td>BRT</td>\n",
       "      <td>PRE PAGO</td>\n",
       "      <td>300000210</td>\n",
       "    </tr>\n",
       "    <tr>\n",
       "      <th>3</th>\n",
       "      <td>2013-03-21</td>\n",
       "      <td>11:58:26</td>\n",
       "      <td>1.270000</td>\n",
       "      <td>61</td>\n",
       "      <td>6C10A9E9F325CAA3CCB7F9A0D6983D2A</td>\n",
       "      <td>61</td>\n",
       "      <td>B0C50ED1DEC9E06E4C64E7419DDC4B09</td>\n",
       "      <td>51601</td>\n",
       "      <td>nan</td>\n",
       "      <td>117</td>\n",
       "      <td>LOCAL</td>\n",
       "      <td>BRT</td>\n",
       "      <td>BRT</td>\n",
       "      <td>PRE PAGO</td>\n",
       "      <td>300000210</td>\n",
       "    </tr>\n",
       "    <tr>\n",
       "      <th>4</th>\n",
       "      <td>2013-03-21</td>\n",
       "      <td>16:06:59</td>\n",
       "      <td>0.170000</td>\n",
       "      <td>61</td>\n",
       "      <td>29122DCF4189448865B03F24C2DFEAE6</td>\n",
       "      <td>61</td>\n",
       "      <td>E0B097D86BF9C02A23011610EBAF47FD</td>\n",
       "      <td>51601</td>\n",
       "      <td>nan</td>\n",
       "      <td>77</td>\n",
       "      <td>LOCAL</td>\n",
       "      <td>BRT</td>\n",
       "      <td>GVT</td>\n",
       "      <td>PRE PAGO</td>\n",
       "      <td>300000210</td>\n",
       "    </tr>\n",
       "    <tr>\n",
       "      <th>...</th>\n",
       "      <td>...</td>\n",
       "      <td>...</td>\n",
       "      <td>...</td>\n",
       "      <td>...</td>\n",
       "      <td>...</td>\n",
       "      <td>...</td>\n",
       "      <td>...</td>\n",
       "      <td>...</td>\n",
       "      <td>...</td>\n",
       "      <td>...</td>\n",
       "      <td>...</td>\n",
       "      <td>...</td>\n",
       "      <td>...</td>\n",
       "      <td>...</td>\n",
       "      <td>...</td>\n",
       "    </tr>\n",
       "    <tr>\n",
       "      <th>9293311</th>\n",
       "      <td>2013-04-19</td>\n",
       "      <td>14:51:18</td>\n",
       "      <td>1.100000</td>\n",
       "      <td>32</td>\n",
       "      <td>88407A1D70978E30C7EABBAEAB1AAC70</td>\n",
       "      <td>32</td>\n",
       "      <td>B6489911B08BC46BE4961AE216AEC568</td>\n",
       "      <td>23461</td>\n",
       "      <td>nan</td>\n",
       "      <td>77</td>\n",
       "      <td>LOCAL</td>\n",
       "      <td>OI</td>\n",
       "      <td>TNL</td>\n",
       "      <td>POS PAGO</td>\n",
       "      <td>300000292</td>\n",
       "    </tr>\n",
       "    <tr>\n",
       "      <th>9293312</th>\n",
       "      <td>2013-04-19</td>\n",
       "      <td>12:32:44</td>\n",
       "      <td>0.670000</td>\n",
       "      <td>82</td>\n",
       "      <td>B97BACF4DACB5EC2C85D387FC67866BB</td>\n",
       "      <td>82</td>\n",
       "      <td>C438210ABEE57B97AEAB00958919CF3F</td>\n",
       "      <td>23441</td>\n",
       "      <td>nan</td>\n",
       "      <td>117</td>\n",
       "      <td>LOCAL</td>\n",
       "      <td>OI</td>\n",
       "      <td>OI</td>\n",
       "      <td>PRE PAGO</td>\n",
       "      <td>300000210</td>\n",
       "    </tr>\n",
       "    <tr>\n",
       "      <th>9293313</th>\n",
       "      <td>2013-04-19</td>\n",
       "      <td>22:29:57</td>\n",
       "      <td>6.280000</td>\n",
       "      <td>82</td>\n",
       "      <td>06D5FF5901283A69AD23C295D3E24EFB</td>\n",
       "      <td>82</td>\n",
       "      <td>1029D7F81B2BCE9812F20CBE5A01599E</td>\n",
       "      <td>23451</td>\n",
       "      <td>nan</td>\n",
       "      <td>117</td>\n",
       "      <td>LOCAL</td>\n",
       "      <td>OI</td>\n",
       "      <td>OI</td>\n",
       "      <td>PRE PAGO</td>\n",
       "      <td>300000533</td>\n",
       "    </tr>\n",
       "    <tr>\n",
       "      <th>9293314</th>\n",
       "      <td>2013-04-19</td>\n",
       "      <td>01:56:58</td>\n",
       "      <td>1.580000</td>\n",
       "      <td>82</td>\n",
       "      <td>7670BF3A1F8C74B01779DDA73554BC8D</td>\n",
       "      <td>82</td>\n",
       "      <td>94253ECA00D72C7FBF8C6706192CF3F8</td>\n",
       "      <td>23451</td>\n",
       "      <td>nan</td>\n",
       "      <td>117</td>\n",
       "      <td>LOCAL</td>\n",
       "      <td>OI</td>\n",
       "      <td>OI</td>\n",
       "      <td>PRE PAGO</td>\n",
       "      <td>300000210</td>\n",
       "    </tr>\n",
       "    <tr>\n",
       "      <th>9293315</th>\n",
       "      <td>2013-04-19</td>\n",
       "      <td>21:29:30</td>\n",
       "      <td>0.520000</td>\n",
       "      <td>84</td>\n",
       "      <td>DFE77D3B1B427F9CBBAF0A881FE77D02</td>\n",
       "      <td>84</td>\n",
       "      <td>6E63698755FC8FCA40FE5AB8FAB7C1D0</td>\n",
       "      <td>60761</td>\n",
       "      <td>nan</td>\n",
       "      <td>117</td>\n",
       "      <td>LOCAL</td>\n",
       "      <td>OI</td>\n",
       "      <td>OI</td>\n",
       "      <td>PRE PAGO</td>\n",
       "      <td>300000210</td>\n",
       "    </tr>\n",
       "  </tbody>\n",
       "</table>\n",
       "<p>9293316 rows × 15 columns</p>\n",
       "</div>"
      ],
      "text/plain": [
       "                 0         1        2   3                                 4   \\\n",
       "0        2013-03-21  11:51:30 0.370000  32  5B5F2C071D12AF13219DF5EBE05132AF   \n",
       "1        2013-03-21  21:03:30 0.130000  61  B3299B0E587D7275E3E4D530E9EECF50   \n",
       "2        2013-03-21  17:33:20 0.330000  61  85D5C50A6D882CA8E4BB00BCA3574417   \n",
       "3        2013-03-21  11:58:26 1.270000  61  6C10A9E9F325CAA3CCB7F9A0D6983D2A   \n",
       "4        2013-03-21  16:06:59 0.170000  61  29122DCF4189448865B03F24C2DFEAE6   \n",
       "...             ...       ...      ...  ..                               ...   \n",
       "9293311  2013-04-19  14:51:18 1.100000  32  88407A1D70978E30C7EABBAEAB1AAC70   \n",
       "9293312  2013-04-19  12:32:44 0.670000  82  B97BACF4DACB5EC2C85D387FC67866BB   \n",
       "9293313  2013-04-19  22:29:57 6.280000  82  06D5FF5901283A69AD23C295D3E24EFB   \n",
       "9293314  2013-04-19  01:56:58 1.580000  82  7670BF3A1F8C74B01779DDA73554BC8D   \n",
       "9293315  2013-04-19  21:29:30 0.520000  84  DFE77D3B1B427F9CBBAF0A881FE77D02   \n",
       "\n",
       "         5                                 6      7   8    9   \\\n",
       "0        32  9FB3B96B6D5E16C9DD564AA3E84F1954  50141 nan  117   \n",
       "1        98  6432F1DF21BA38368D9A165C739EEBB3  51601 nan  195   \n",
       "2        61  0D8583F810B9720A8032BB939F12B3FF  51601 nan  117   \n",
       "3        61  B0C50ED1DEC9E06E4C64E7419DDC4B09  51601 nan  117   \n",
       "4        61  E0B097D86BF9C02A23011610EBAF47FD  51601 nan   77   \n",
       "...      ..                               ...    ...  ..  ...   \n",
       "9293311  32  B6489911B08BC46BE4961AE216AEC568  23461 nan   77   \n",
       "9293312  82  C438210ABEE57B97AEAB00958919CF3F  23441 nan  117   \n",
       "9293313  82  1029D7F81B2BCE9812F20CBE5A01599E  23451 nan  117   \n",
       "9293314  82  94253ECA00D72C7FBF8C6706192CF3F8  23451 nan  117   \n",
       "9293315  84  6E63698755FC8FCA40FE5AB8FAB7C1D0  60761 nan  117   \n",
       "\n",
       "                      10   11   12        13         14  \n",
       "0                  LOCAL   OI   OI  PRE PAGO  300000533  \n",
       "1        LONGA DISTANCIA  BRT   OI  PRE PAGO  300000210  \n",
       "2                  LOCAL  BRT  BRT  PRE PAGO  300000210  \n",
       "3                  LOCAL  BRT  BRT  PRE PAGO  300000210  \n",
       "4                  LOCAL  BRT  GVT  PRE PAGO  300000210  \n",
       "...                  ...  ...  ...       ...        ...  \n",
       "9293311            LOCAL   OI  TNL  POS PAGO  300000292  \n",
       "9293312            LOCAL   OI   OI  PRE PAGO  300000210  \n",
       "9293313            LOCAL   OI   OI  PRE PAGO  300000533  \n",
       "9293314            LOCAL   OI   OI  PRE PAGO  300000210  \n",
       "9293315            LOCAL   OI   OI  PRE PAGO  300000210  \n",
       "\n",
       "[9293316 rows x 15 columns]"
      ]
     },
     "execution_count": 5,
     "metadata": {},
     "output_type": "execute_result"
    }
   ],
   "source": [
    "cdr = pd.read_csv(path_sjdr, sep=';', header=None)\n",
    "cdr"
   ]
  },
  {
   "cell_type": "code",
   "execution_count": 6,
   "metadata": {},
   "outputs": [
    {
     "data": {
      "text/html": [
       "<div>\n",
       "<style scoped>\n",
       "    .dataframe tbody tr th:only-of-type {\n",
       "        vertical-align: middle;\n",
       "    }\n",
       "\n",
       "    .dataframe tbody tr th {\n",
       "        vertical-align: top;\n",
       "    }\n",
       "\n",
       "    .dataframe thead th {\n",
       "        text-align: right;\n",
       "    }\n",
       "</style>\n",
       "<table border=\"1\" class=\"dataframe\">\n",
       "  <thead>\n",
       "    <tr style=\"text-align: right;\">\n",
       "      <th></th>\n",
       "      <th>DATE</th>\n",
       "      <th>HOUR</th>\n",
       "      <th>DURATION</th>\n",
       "      <th>DDD_USER_FROM</th>\n",
       "      <th>USER_FROM</th>\n",
       "      <th>DDD_USER_TO</th>\n",
       "      <th>USER_TO</th>\n",
       "      <th>ANTENNA</th>\n",
       "      <th>8</th>\n",
       "      <th>9</th>\n",
       "      <th>10</th>\n",
       "      <th>11</th>\n",
       "      <th>12</th>\n",
       "      <th>13</th>\n",
       "      <th>14</th>\n",
       "    </tr>\n",
       "  </thead>\n",
       "  <tbody>\n",
       "    <tr>\n",
       "      <th>0</th>\n",
       "      <td>2013-03-21</td>\n",
       "      <td>11:51:30</td>\n",
       "      <td>0.370000</td>\n",
       "      <td>32</td>\n",
       "      <td>5B5F2C071D12AF13219DF5EBE05132AF</td>\n",
       "      <td>32</td>\n",
       "      <td>9FB3B96B6D5E16C9DD564AA3E84F1954</td>\n",
       "      <td>50141</td>\n",
       "      <td>nan</td>\n",
       "      <td>117</td>\n",
       "      <td>LOCAL</td>\n",
       "      <td>OI</td>\n",
       "      <td>OI</td>\n",
       "      <td>PRE PAGO</td>\n",
       "      <td>300000533</td>\n",
       "    </tr>\n",
       "    <tr>\n",
       "      <th>1</th>\n",
       "      <td>2013-03-21</td>\n",
       "      <td>21:03:30</td>\n",
       "      <td>0.130000</td>\n",
       "      <td>61</td>\n",
       "      <td>B3299B0E587D7275E3E4D530E9EECF50</td>\n",
       "      <td>98</td>\n",
       "      <td>6432F1DF21BA38368D9A165C739EEBB3</td>\n",
       "      <td>51601</td>\n",
       "      <td>nan</td>\n",
       "      <td>195</td>\n",
       "      <td>LONGA DISTANCIA</td>\n",
       "      <td>BRT</td>\n",
       "      <td>OI</td>\n",
       "      <td>PRE PAGO</td>\n",
       "      <td>300000210</td>\n",
       "    </tr>\n",
       "    <tr>\n",
       "      <th>2</th>\n",
       "      <td>2013-03-21</td>\n",
       "      <td>17:33:20</td>\n",
       "      <td>0.330000</td>\n",
       "      <td>61</td>\n",
       "      <td>85D5C50A6D882CA8E4BB00BCA3574417</td>\n",
       "      <td>61</td>\n",
       "      <td>0D8583F810B9720A8032BB939F12B3FF</td>\n",
       "      <td>51601</td>\n",
       "      <td>nan</td>\n",
       "      <td>117</td>\n",
       "      <td>LOCAL</td>\n",
       "      <td>BRT</td>\n",
       "      <td>BRT</td>\n",
       "      <td>PRE PAGO</td>\n",
       "      <td>300000210</td>\n",
       "    </tr>\n",
       "    <tr>\n",
       "      <th>3</th>\n",
       "      <td>2013-03-21</td>\n",
       "      <td>11:58:26</td>\n",
       "      <td>1.270000</td>\n",
       "      <td>61</td>\n",
       "      <td>6C10A9E9F325CAA3CCB7F9A0D6983D2A</td>\n",
       "      <td>61</td>\n",
       "      <td>B0C50ED1DEC9E06E4C64E7419DDC4B09</td>\n",
       "      <td>51601</td>\n",
       "      <td>nan</td>\n",
       "      <td>117</td>\n",
       "      <td>LOCAL</td>\n",
       "      <td>BRT</td>\n",
       "      <td>BRT</td>\n",
       "      <td>PRE PAGO</td>\n",
       "      <td>300000210</td>\n",
       "    </tr>\n",
       "    <tr>\n",
       "      <th>4</th>\n",
       "      <td>2013-03-21</td>\n",
       "      <td>16:06:59</td>\n",
       "      <td>0.170000</td>\n",
       "      <td>61</td>\n",
       "      <td>29122DCF4189448865B03F24C2DFEAE6</td>\n",
       "      <td>61</td>\n",
       "      <td>E0B097D86BF9C02A23011610EBAF47FD</td>\n",
       "      <td>51601</td>\n",
       "      <td>nan</td>\n",
       "      <td>77</td>\n",
       "      <td>LOCAL</td>\n",
       "      <td>BRT</td>\n",
       "      <td>GVT</td>\n",
       "      <td>PRE PAGO</td>\n",
       "      <td>300000210</td>\n",
       "    </tr>\n",
       "    <tr>\n",
       "      <th>...</th>\n",
       "      <td>...</td>\n",
       "      <td>...</td>\n",
       "      <td>...</td>\n",
       "      <td>...</td>\n",
       "      <td>...</td>\n",
       "      <td>...</td>\n",
       "      <td>...</td>\n",
       "      <td>...</td>\n",
       "      <td>...</td>\n",
       "      <td>...</td>\n",
       "      <td>...</td>\n",
       "      <td>...</td>\n",
       "      <td>...</td>\n",
       "      <td>...</td>\n",
       "      <td>...</td>\n",
       "    </tr>\n",
       "    <tr>\n",
       "      <th>9293311</th>\n",
       "      <td>2013-04-19</td>\n",
       "      <td>14:51:18</td>\n",
       "      <td>1.100000</td>\n",
       "      <td>32</td>\n",
       "      <td>88407A1D70978E30C7EABBAEAB1AAC70</td>\n",
       "      <td>32</td>\n",
       "      <td>B6489911B08BC46BE4961AE216AEC568</td>\n",
       "      <td>23461</td>\n",
       "      <td>nan</td>\n",
       "      <td>77</td>\n",
       "      <td>LOCAL</td>\n",
       "      <td>OI</td>\n",
       "      <td>TNL</td>\n",
       "      <td>POS PAGO</td>\n",
       "      <td>300000292</td>\n",
       "    </tr>\n",
       "    <tr>\n",
       "      <th>9293312</th>\n",
       "      <td>2013-04-19</td>\n",
       "      <td>12:32:44</td>\n",
       "      <td>0.670000</td>\n",
       "      <td>82</td>\n",
       "      <td>B97BACF4DACB5EC2C85D387FC67866BB</td>\n",
       "      <td>82</td>\n",
       "      <td>C438210ABEE57B97AEAB00958919CF3F</td>\n",
       "      <td>23441</td>\n",
       "      <td>nan</td>\n",
       "      <td>117</td>\n",
       "      <td>LOCAL</td>\n",
       "      <td>OI</td>\n",
       "      <td>OI</td>\n",
       "      <td>PRE PAGO</td>\n",
       "      <td>300000210</td>\n",
       "    </tr>\n",
       "    <tr>\n",
       "      <th>9293313</th>\n",
       "      <td>2013-04-19</td>\n",
       "      <td>22:29:57</td>\n",
       "      <td>6.280000</td>\n",
       "      <td>82</td>\n",
       "      <td>06D5FF5901283A69AD23C295D3E24EFB</td>\n",
       "      <td>82</td>\n",
       "      <td>1029D7F81B2BCE9812F20CBE5A01599E</td>\n",
       "      <td>23451</td>\n",
       "      <td>nan</td>\n",
       "      <td>117</td>\n",
       "      <td>LOCAL</td>\n",
       "      <td>OI</td>\n",
       "      <td>OI</td>\n",
       "      <td>PRE PAGO</td>\n",
       "      <td>300000533</td>\n",
       "    </tr>\n",
       "    <tr>\n",
       "      <th>9293314</th>\n",
       "      <td>2013-04-19</td>\n",
       "      <td>01:56:58</td>\n",
       "      <td>1.580000</td>\n",
       "      <td>82</td>\n",
       "      <td>7670BF3A1F8C74B01779DDA73554BC8D</td>\n",
       "      <td>82</td>\n",
       "      <td>94253ECA00D72C7FBF8C6706192CF3F8</td>\n",
       "      <td>23451</td>\n",
       "      <td>nan</td>\n",
       "      <td>117</td>\n",
       "      <td>LOCAL</td>\n",
       "      <td>OI</td>\n",
       "      <td>OI</td>\n",
       "      <td>PRE PAGO</td>\n",
       "      <td>300000210</td>\n",
       "    </tr>\n",
       "    <tr>\n",
       "      <th>9293315</th>\n",
       "      <td>2013-04-19</td>\n",
       "      <td>21:29:30</td>\n",
       "      <td>0.520000</td>\n",
       "      <td>84</td>\n",
       "      <td>DFE77D3B1B427F9CBBAF0A881FE77D02</td>\n",
       "      <td>84</td>\n",
       "      <td>6E63698755FC8FCA40FE5AB8FAB7C1D0</td>\n",
       "      <td>60761</td>\n",
       "      <td>nan</td>\n",
       "      <td>117</td>\n",
       "      <td>LOCAL</td>\n",
       "      <td>OI</td>\n",
       "      <td>OI</td>\n",
       "      <td>PRE PAGO</td>\n",
       "      <td>300000210</td>\n",
       "    </tr>\n",
       "  </tbody>\n",
       "</table>\n",
       "<p>9293316 rows × 15 columns</p>\n",
       "</div>"
      ],
      "text/plain": [
       "               DATE      HOUR  DURATION  DDD_USER_FROM  \\\n",
       "0        2013-03-21  11:51:30  0.370000             32   \n",
       "1        2013-03-21  21:03:30  0.130000             61   \n",
       "2        2013-03-21  17:33:20  0.330000             61   \n",
       "3        2013-03-21  11:58:26  1.270000             61   \n",
       "4        2013-03-21  16:06:59  0.170000             61   \n",
       "...             ...       ...       ...            ...   \n",
       "9293311  2013-04-19  14:51:18  1.100000             32   \n",
       "9293312  2013-04-19  12:32:44  0.670000             82   \n",
       "9293313  2013-04-19  22:29:57  6.280000             82   \n",
       "9293314  2013-04-19  01:56:58  1.580000             82   \n",
       "9293315  2013-04-19  21:29:30  0.520000             84   \n",
       "\n",
       "                                USER_FROM  DDD_USER_TO  \\\n",
       "0        5B5F2C071D12AF13219DF5EBE05132AF           32   \n",
       "1        B3299B0E587D7275E3E4D530E9EECF50           98   \n",
       "2        85D5C50A6D882CA8E4BB00BCA3574417           61   \n",
       "3        6C10A9E9F325CAA3CCB7F9A0D6983D2A           61   \n",
       "4        29122DCF4189448865B03F24C2DFEAE6           61   \n",
       "...                                   ...          ...   \n",
       "9293311  88407A1D70978E30C7EABBAEAB1AAC70           32   \n",
       "9293312  B97BACF4DACB5EC2C85D387FC67866BB           82   \n",
       "9293313  06D5FF5901283A69AD23C295D3E24EFB           82   \n",
       "9293314  7670BF3A1F8C74B01779DDA73554BC8D           82   \n",
       "9293315  DFE77D3B1B427F9CBBAF0A881FE77D02           84   \n",
       "\n",
       "                                  USER_TO  ANTENNA   8    9               10  \\\n",
       "0        9FB3B96B6D5E16C9DD564AA3E84F1954    50141 nan  117            LOCAL   \n",
       "1        6432F1DF21BA38368D9A165C739EEBB3    51601 nan  195  LONGA DISTANCIA   \n",
       "2        0D8583F810B9720A8032BB939F12B3FF    51601 nan  117            LOCAL   \n",
       "3        B0C50ED1DEC9E06E4C64E7419DDC4B09    51601 nan  117            LOCAL   \n",
       "4        E0B097D86BF9C02A23011610EBAF47FD    51601 nan   77            LOCAL   \n",
       "...                                   ...      ...  ..  ...              ...   \n",
       "9293311  B6489911B08BC46BE4961AE216AEC568    23461 nan   77            LOCAL   \n",
       "9293312  C438210ABEE57B97AEAB00958919CF3F    23441 nan  117            LOCAL   \n",
       "9293313  1029D7F81B2BCE9812F20CBE5A01599E    23451 nan  117            LOCAL   \n",
       "9293314  94253ECA00D72C7FBF8C6706192CF3F8    23451 nan  117            LOCAL   \n",
       "9293315  6E63698755FC8FCA40FE5AB8FAB7C1D0    60761 nan  117            LOCAL   \n",
       "\n",
       "          11   12        13         14  \n",
       "0         OI   OI  PRE PAGO  300000533  \n",
       "1        BRT   OI  PRE PAGO  300000210  \n",
       "2        BRT  BRT  PRE PAGO  300000210  \n",
       "3        BRT  BRT  PRE PAGO  300000210  \n",
       "4        BRT  GVT  PRE PAGO  300000210  \n",
       "...      ...  ...       ...        ...  \n",
       "9293311   OI  TNL  POS PAGO  300000292  \n",
       "9293312   OI   OI  PRE PAGO  300000210  \n",
       "9293313   OI   OI  PRE PAGO  300000533  \n",
       "9293314   OI   OI  PRE PAGO  300000210  \n",
       "9293315   OI   OI  PRE PAGO  300000210  \n",
       "\n",
       "[9293316 rows x 15 columns]"
      ]
     },
     "execution_count": 6,
     "metadata": {},
     "output_type": "execute_result"
    }
   ],
   "source": [
    "cdr.rename(columns={0:'DATE', 1:'HOUR', 2:'DURATION', 3:'DDD_USER_FROM',\n",
    "                    4:'USER_FROM', 5:'DDD_USER_TO', 6:'USER_TO', 7: 'ANTENNA'},inplace=True)\n",
    "\n",
    "cdr"
   ]
  },
  {
   "cell_type": "markdown",
   "metadata": {},
   "source": [
    "# Análise Exploratória"
   ]
  },
  {
   "cell_type": "markdown",
   "metadata": {},
   "source": [
    "Parte 1: Análise sobre os usuários"
   ]
  },
  {
   "cell_type": "code",
   "execution_count": 7,
   "metadata": {},
   "outputs": [
    {
     "data": {
      "text/plain": [
       "445162"
      ]
     },
     "execution_count": 7,
     "metadata": {},
     "output_type": "execute_result"
    }
   ],
   "source": [
    "#USER_FROM Distintos\n",
    "len(cdr['USER_FROM'].unique())"
   ]
  },
  {
   "cell_type": "code",
   "execution_count": 8,
   "metadata": {},
   "outputs": [
    {
     "data": {
      "text/plain": [
       "1198467"
      ]
     },
     "execution_count": 8,
     "metadata": {},
     "output_type": "execute_result"
    }
   ],
   "source": [
    "#USER_TO Distintos\n",
    "len(cdr['USER_TO'].unique())"
   ]
  },
  {
   "cell_type": "code",
   "execution_count": 9,
   "metadata": {},
   "outputs": [
    {
     "data": {
      "text/plain": [
       "1303639"
      ]
     },
     "execution_count": 9,
     "metadata": {},
     "output_type": "execute_result"
    }
   ],
   "source": [
    "#Id's distintos em USER_FROM e USER_TO\n",
    "len(pd.unique(cdr[['USER_FROM', 'USER_TO']].values.ravel('k')))"
   ]
  },
  {
   "cell_type": "markdown",
   "metadata": {},
   "source": [
    "\n",
    "# Parte 2: Análise sobre a duração das ligações"
   ]
  },
  {
   "cell_type": "code",
   "execution_count": 10,
   "metadata": {},
   "outputs": [
    {
     "data": {
      "text/plain": [
       "count   9293316.000000\n",
       "mean          1.496004\n",
       "std           8.311616\n",
       "min           0.000000\n",
       "25%           0.220000\n",
       "50%           0.600000\n",
       "75%           1.420000\n",
       "max        5758.000000\n",
       "Name: DURATION, dtype: float64"
      ]
     },
     "execution_count": 10,
     "metadata": {},
     "output_type": "execute_result"
    }
   ],
   "source": [
    "cdr['DURATION'].describe()"
   ]
  },
  {
   "cell_type": "code",
   "execution_count": 11,
   "metadata": {},
   "outputs": [
    {
     "data": {
      "text/plain": [
       "0.6"
      ]
     },
     "execution_count": 11,
     "metadata": {},
     "output_type": "execute_result"
    }
   ],
   "source": [
    "cdr['DURATION'].median()"
   ]
  },
  {
   "cell_type": "code",
   "execution_count": 13,
   "metadata": {},
   "outputs": [
    {
     "data": {
      "text/plain": [
       "445162"
      ]
     },
     "execution_count": 13,
     "metadata": {},
     "output_type": "execute_result"
    }
   ],
   "source": [
    "#USER_FROM Distintos\n",
    "len(cdr['USER_FROM'].unique())"
   ]
  },
  {
   "cell_type": "code",
   "execution_count": 14,
   "metadata": {},
   "outputs": [
    {
     "data": {
      "text/plain": [
       "1198467"
      ]
     },
     "execution_count": 14,
     "metadata": {},
     "output_type": "execute_result"
    }
   ],
   "source": [
    "#USER_TO Distintos\n",
    "len(cdr['USER_TO'].unique())"
   ]
  },
  {
   "cell_type": "code",
   "execution_count": 15,
   "metadata": {},
   "outputs": [
    {
     "data": {
      "text/plain": [
       "1303639"
      ]
     },
     "execution_count": 15,
     "metadata": {},
     "output_type": "execute_result"
    }
   ],
   "source": [
    "#Id's distintos em USER_FROM e USER_TO\n",
    "len(pd.unique(cdr[['USER_FROM', 'USER_TO']].values.ravel('k')))"
   ]
  },
  {
   "cell_type": "markdown",
   "metadata": {},
   "source": [
    "# Filtros da base"
   ]
  },
  {
   "cell_type": "markdown",
   "metadata": {},
   "source": [
    "Selecionando apenas registros onde a duração da ligação está entre 0.07 e 120 minutos"
   ]
  },
  {
   "cell_type": "code",
   "execution_count": 16,
   "metadata": {},
   "outputs": [],
   "source": [
    "cdr_new = cdr[cdr['DURATION'].between(0.07,120)]"
   ]
  },
  {
   "cell_type": "code",
   "execution_count": 17,
   "metadata": {},
   "outputs": [
    {
     "data": {
      "text/plain": [
       "9232332"
      ]
     },
     "execution_count": 17,
     "metadata": {},
     "output_type": "execute_result"
    }
   ],
   "source": [
    "len(cdr_new)"
   ]
  },
  {
   "cell_type": "code",
   "execution_count": 18,
   "metadata": {},
   "outputs": [
    {
     "data": {
      "text/plain": [
       "0.9934378643747829"
      ]
     },
     "execution_count": 18,
     "metadata": {},
     "output_type": "execute_result"
    }
   ],
   "source": [
    "#Mesmo com o filtro de duração, manteve-se pouco mais de 99% dos registros da base original\n",
    "len(cdr_new)/len(cdr)"
   ]
  },
  {
   "cell_type": "markdown",
   "metadata": {},
   "source": [
    "Filtrando a partir do número de ligações"
   ]
  },
  {
   "cell_type": "code",
   "execution_count": 19,
   "metadata": {},
   "outputs": [
    {
     "data": {
      "text/html": [
       "<div>\n",
       "<style scoped>\n",
       "    .dataframe tbody tr th:only-of-type {\n",
       "        vertical-align: middle;\n",
       "    }\n",
       "\n",
       "    .dataframe tbody tr th {\n",
       "        vertical-align: top;\n",
       "    }\n",
       "\n",
       "    .dataframe thead th {\n",
       "        text-align: right;\n",
       "    }\n",
       "</style>\n",
       "<table border=\"1\" class=\"dataframe\">\n",
       "  <thead>\n",
       "    <tr style=\"text-align: right;\">\n",
       "      <th></th>\n",
       "      <th>USER_FROM</th>\n",
       "      <th>QUANTITY_OF_CALLS</th>\n",
       "    </tr>\n",
       "  </thead>\n",
       "  <tbody>\n",
       "    <tr>\n",
       "      <th>1</th>\n",
       "      <td>000008B27F635FC0AFF9BAC21880B796</td>\n",
       "      <td>4</td>\n",
       "    </tr>\n",
       "    <tr>\n",
       "      <th>3</th>\n",
       "      <td>00002BC8FEAE1CB1EC0E1A8AF160B16E</td>\n",
       "      <td>12</td>\n",
       "    </tr>\n",
       "    <tr>\n",
       "      <th>4</th>\n",
       "      <td>00003F26576D1122848B6F3CEEC250E5</td>\n",
       "      <td>12</td>\n",
       "    </tr>\n",
       "    <tr>\n",
       "      <th>7</th>\n",
       "      <td>0000FFB82D6062A83F28FEE4D0BD5E4D</td>\n",
       "      <td>3</td>\n",
       "    </tr>\n",
       "    <tr>\n",
       "      <th>8</th>\n",
       "      <td>00014FE9BDE3EE54C61AB62700A1A2AF</td>\n",
       "      <td>14</td>\n",
       "    </tr>\n",
       "  </tbody>\n",
       "</table>\n",
       "</div>"
      ],
      "text/plain": [
       "                          USER_FROM  QUANTITY_OF_CALLS\n",
       "1  000008B27F635FC0AFF9BAC21880B796                  4\n",
       "3  00002BC8FEAE1CB1EC0E1A8AF160B16E                 12\n",
       "4  00003F26576D1122848B6F3CEEC250E5                 12\n",
       "7  0000FFB82D6062A83F28FEE4D0BD5E4D                  3\n",
       "8  00014FE9BDE3EE54C61AB62700A1A2AF                 14"
      ]
     },
     "execution_count": 19,
     "metadata": {},
     "output_type": "execute_result"
    }
   ],
   "source": [
    "#Selecionando os usuários com o número de ligações entre 3 e 500\n",
    "cdr_filter_by_quantity_of_call = cdr_new.groupby('USER_FROM').size().reset_index().rename(columns={0:'QUANTITY_OF_CALLS'})\n",
    "\n",
    "cdr_filter_by_quantity_of_call = cdr_filter_by_quantity_of_call.loc[(\n",
    "                                (cdr_filter_by_quantity_of_call['QUANTITY_OF_CALLS'] >= 3) \n",
    "                                & (cdr_filter_by_quantity_of_call['QUANTITY_OF_CALLS'] <= 500))]\n",
    "\n",
    "cdr_filter_by_quantity_of_call.head()"
   ]
  },
  {
   "cell_type": "code",
   "execution_count": 20,
   "metadata": {},
   "outputs": [
    {
     "data": {
      "text/html": [
       "<div>\n",
       "<style scoped>\n",
       "    .dataframe tbody tr th:only-of-type {\n",
       "        vertical-align: middle;\n",
       "    }\n",
       "\n",
       "    .dataframe tbody tr th {\n",
       "        vertical-align: top;\n",
       "    }\n",
       "\n",
       "    .dataframe thead th {\n",
       "        text-align: right;\n",
       "    }\n",
       "</style>\n",
       "<table border=\"1\" class=\"dataframe\">\n",
       "  <thead>\n",
       "    <tr style=\"text-align: right;\">\n",
       "      <th></th>\n",
       "      <th>USER_FROM</th>\n",
       "      <th>QUANTITY_OF_DAYS</th>\n",
       "    </tr>\n",
       "  </thead>\n",
       "  <tbody>\n",
       "    <tr>\n",
       "      <th>1</th>\n",
       "      <td>000008B27F635FC0AFF9BAC21880B796</td>\n",
       "      <td>3</td>\n",
       "    </tr>\n",
       "    <tr>\n",
       "      <th>3</th>\n",
       "      <td>00002BC8FEAE1CB1EC0E1A8AF160B16E</td>\n",
       "      <td>6</td>\n",
       "    </tr>\n",
       "    <tr>\n",
       "      <th>4</th>\n",
       "      <td>00003F26576D1122848B6F3CEEC250E5</td>\n",
       "      <td>9</td>\n",
       "    </tr>\n",
       "    <tr>\n",
       "      <th>7</th>\n",
       "      <td>0000FFB82D6062A83F28FEE4D0BD5E4D</td>\n",
       "      <td>3</td>\n",
       "    </tr>\n",
       "    <tr>\n",
       "      <th>8</th>\n",
       "      <td>00014FE9BDE3EE54C61AB62700A1A2AF</td>\n",
       "      <td>5</td>\n",
       "    </tr>\n",
       "  </tbody>\n",
       "</table>\n",
       "</div>"
      ],
      "text/plain": [
       "                          USER_FROM  QUANTITY_OF_DAYS\n",
       "1  000008B27F635FC0AFF9BAC21880B796                 3\n",
       "3  00002BC8FEAE1CB1EC0E1A8AF160B16E                 6\n",
       "4  00003F26576D1122848B6F3CEEC250E5                 9\n",
       "7  0000FFB82D6062A83F28FEE4D0BD5E4D                 3\n",
       "8  00014FE9BDE3EE54C61AB62700A1A2AF                 5"
      ]
     },
     "execution_count": 20,
     "metadata": {},
     "output_type": "execute_result"
    }
   ],
   "source": [
    "#Selecionando os usuários com pelo menos 3 ligações em dias distintos\n",
    "cdr_filter_by_quantity_of_days = cdr_new.groupby('USER_FROM').DATE.nunique().to_frame('QUANTITY_OF_DAYS').reset_index()\n",
    "cdr_filter_by_quantity_of_days = cdr_filter_by_quantity_of_days.loc[(cdr_filter_by_quantity_of_days['QUANTITY_OF_DAYS'] >= 3)]\n",
    "cdr_filter_by_quantity_of_days.head()"
   ]
  },
  {
   "cell_type": "code",
   "execution_count": 21,
   "metadata": {},
   "outputs": [
    {
     "data": {
      "text/html": [
       "<div>\n",
       "<style scoped>\n",
       "    .dataframe tbody tr th:only-of-type {\n",
       "        vertical-align: middle;\n",
       "    }\n",
       "\n",
       "    .dataframe tbody tr th {\n",
       "        vertical-align: top;\n",
       "    }\n",
       "\n",
       "    .dataframe thead th {\n",
       "        text-align: right;\n",
       "    }\n",
       "</style>\n",
       "<table border=\"1\" class=\"dataframe\">\n",
       "  <thead>\n",
       "    <tr style=\"text-align: right;\">\n",
       "      <th></th>\n",
       "      <th>USER_FROM</th>\n",
       "      <th>QUANTITY_OF_CALLS</th>\n",
       "      <th>QUANTITY_OF_DAYS</th>\n",
       "    </tr>\n",
       "  </thead>\n",
       "  <tbody>\n",
       "    <tr>\n",
       "      <th>0</th>\n",
       "      <td>000008B27F635FC0AFF9BAC21880B796</td>\n",
       "      <td>4</td>\n",
       "      <td>3</td>\n",
       "    </tr>\n",
       "    <tr>\n",
       "      <th>1</th>\n",
       "      <td>00002BC8FEAE1CB1EC0E1A8AF160B16E</td>\n",
       "      <td>12</td>\n",
       "      <td>6</td>\n",
       "    </tr>\n",
       "    <tr>\n",
       "      <th>2</th>\n",
       "      <td>00003F26576D1122848B6F3CEEC250E5</td>\n",
       "      <td>12</td>\n",
       "      <td>9</td>\n",
       "    </tr>\n",
       "    <tr>\n",
       "      <th>3</th>\n",
       "      <td>0000FFB82D6062A83F28FEE4D0BD5E4D</td>\n",
       "      <td>3</td>\n",
       "      <td>3</td>\n",
       "    </tr>\n",
       "    <tr>\n",
       "      <th>4</th>\n",
       "      <td>00014FE9BDE3EE54C61AB62700A1A2AF</td>\n",
       "      <td>14</td>\n",
       "      <td>5</td>\n",
       "    </tr>\n",
       "  </tbody>\n",
       "</table>\n",
       "</div>"
      ],
      "text/plain": [
       "                          USER_FROM  QUANTITY_OF_CALLS  QUANTITY_OF_DAYS\n",
       "0  000008B27F635FC0AFF9BAC21880B796                  4                 3\n",
       "1  00002BC8FEAE1CB1EC0E1A8AF160B16E                 12                 6\n",
       "2  00003F26576D1122848B6F3CEEC250E5                 12                 9\n",
       "3  0000FFB82D6062A83F28FEE4D0BD5E4D                  3                 3\n",
       "4  00014FE9BDE3EE54C61AB62700A1A2AF                 14                 5"
      ]
     },
     "execution_count": 21,
     "metadata": {},
     "output_type": "execute_result"
    }
   ],
   "source": [
    "#Interseção entre os dois dataframes (de ligações e dias com ligações)\n",
    "df_filter_over_call = pd.merge(cdr_filter_by_quantity_of_call, cdr_filter_by_quantity_of_days,\n",
    "                               how='inner',on=['USER_FROM'])\n",
    "\n",
    "df_filter_over_call.head()"
   ]
  },
  {
   "cell_type": "code",
   "execution_count": 22,
   "metadata": {},
   "outputs": [
    {
     "data": {
      "text/html": [
       "<div>\n",
       "<style scoped>\n",
       "    .dataframe tbody tr th:only-of-type {\n",
       "        vertical-align: middle;\n",
       "    }\n",
       "\n",
       "    .dataframe tbody tr th {\n",
       "        vertical-align: top;\n",
       "    }\n",
       "\n",
       "    .dataframe thead th {\n",
       "        text-align: right;\n",
       "    }\n",
       "</style>\n",
       "<table border=\"1\" class=\"dataframe\">\n",
       "  <thead>\n",
       "    <tr style=\"text-align: right;\">\n",
       "      <th></th>\n",
       "      <th>DATE</th>\n",
       "      <th>HOUR</th>\n",
       "      <th>DURATION</th>\n",
       "      <th>DDD_USER_FROM</th>\n",
       "      <th>USER_FROM</th>\n",
       "      <th>DDD_USER_TO</th>\n",
       "      <th>USER_TO</th>\n",
       "      <th>ANTENNA</th>\n",
       "      <th>8</th>\n",
       "      <th>9</th>\n",
       "      <th>10</th>\n",
       "      <th>11</th>\n",
       "      <th>12</th>\n",
       "      <th>13</th>\n",
       "      <th>14</th>\n",
       "    </tr>\n",
       "  </thead>\n",
       "  <tbody>\n",
       "    <tr>\n",
       "      <th>0</th>\n",
       "      <td>2013-03-21</td>\n",
       "      <td>11:51:30</td>\n",
       "      <td>0.370000</td>\n",
       "      <td>32</td>\n",
       "      <td>5B5F2C071D12AF13219DF5EBE05132AF</td>\n",
       "      <td>32</td>\n",
       "      <td>9FB3B96B6D5E16C9DD564AA3E84F1954</td>\n",
       "      <td>50141</td>\n",
       "      <td>nan</td>\n",
       "      <td>117</td>\n",
       "      <td>LOCAL</td>\n",
       "      <td>OI</td>\n",
       "      <td>OI</td>\n",
       "      <td>PRE PAGO</td>\n",
       "      <td>300000533</td>\n",
       "    </tr>\n",
       "    <tr>\n",
       "      <th>1</th>\n",
       "      <td>2013-03-21</td>\n",
       "      <td>21:03:30</td>\n",
       "      <td>0.130000</td>\n",
       "      <td>61</td>\n",
       "      <td>B3299B0E587D7275E3E4D530E9EECF50</td>\n",
       "      <td>98</td>\n",
       "      <td>6432F1DF21BA38368D9A165C739EEBB3</td>\n",
       "      <td>51601</td>\n",
       "      <td>nan</td>\n",
       "      <td>195</td>\n",
       "      <td>LONGA DISTANCIA</td>\n",
       "      <td>BRT</td>\n",
       "      <td>OI</td>\n",
       "      <td>PRE PAGO</td>\n",
       "      <td>300000210</td>\n",
       "    </tr>\n",
       "    <tr>\n",
       "      <th>2</th>\n",
       "      <td>2013-03-21</td>\n",
       "      <td>17:33:20</td>\n",
       "      <td>0.330000</td>\n",
       "      <td>61</td>\n",
       "      <td>85D5C50A6D882CA8E4BB00BCA3574417</td>\n",
       "      <td>61</td>\n",
       "      <td>0D8583F810B9720A8032BB939F12B3FF</td>\n",
       "      <td>51601</td>\n",
       "      <td>nan</td>\n",
       "      <td>117</td>\n",
       "      <td>LOCAL</td>\n",
       "      <td>BRT</td>\n",
       "      <td>BRT</td>\n",
       "      <td>PRE PAGO</td>\n",
       "      <td>300000210</td>\n",
       "    </tr>\n",
       "    <tr>\n",
       "      <th>3</th>\n",
       "      <td>2013-03-21</td>\n",
       "      <td>11:58:26</td>\n",
       "      <td>1.270000</td>\n",
       "      <td>61</td>\n",
       "      <td>6C10A9E9F325CAA3CCB7F9A0D6983D2A</td>\n",
       "      <td>61</td>\n",
       "      <td>B0C50ED1DEC9E06E4C64E7419DDC4B09</td>\n",
       "      <td>51601</td>\n",
       "      <td>nan</td>\n",
       "      <td>117</td>\n",
       "      <td>LOCAL</td>\n",
       "      <td>BRT</td>\n",
       "      <td>BRT</td>\n",
       "      <td>PRE PAGO</td>\n",
       "      <td>300000210</td>\n",
       "    </tr>\n",
       "    <tr>\n",
       "      <th>4</th>\n",
       "      <td>2013-03-21</td>\n",
       "      <td>16:06:59</td>\n",
       "      <td>0.170000</td>\n",
       "      <td>61</td>\n",
       "      <td>29122DCF4189448865B03F24C2DFEAE6</td>\n",
       "      <td>61</td>\n",
       "      <td>E0B097D86BF9C02A23011610EBAF47FD</td>\n",
       "      <td>51601</td>\n",
       "      <td>nan</td>\n",
       "      <td>77</td>\n",
       "      <td>LOCAL</td>\n",
       "      <td>BRT</td>\n",
       "      <td>GVT</td>\n",
       "      <td>PRE PAGO</td>\n",
       "      <td>300000210</td>\n",
       "    </tr>\n",
       "  </tbody>\n",
       "</table>\n",
       "</div>"
      ],
      "text/plain": [
       "         DATE      HOUR  DURATION  DDD_USER_FROM  \\\n",
       "0  2013-03-21  11:51:30  0.370000             32   \n",
       "1  2013-03-21  21:03:30  0.130000             61   \n",
       "2  2013-03-21  17:33:20  0.330000             61   \n",
       "3  2013-03-21  11:58:26  1.270000             61   \n",
       "4  2013-03-21  16:06:59  0.170000             61   \n",
       "\n",
       "                          USER_FROM  DDD_USER_TO  \\\n",
       "0  5B5F2C071D12AF13219DF5EBE05132AF           32   \n",
       "1  B3299B0E587D7275E3E4D530E9EECF50           98   \n",
       "2  85D5C50A6D882CA8E4BB00BCA3574417           61   \n",
       "3  6C10A9E9F325CAA3CCB7F9A0D6983D2A           61   \n",
       "4  29122DCF4189448865B03F24C2DFEAE6           61   \n",
       "\n",
       "                            USER_TO  ANTENNA   8    9               10   11  \\\n",
       "0  9FB3B96B6D5E16C9DD564AA3E84F1954    50141 nan  117            LOCAL   OI   \n",
       "1  6432F1DF21BA38368D9A165C739EEBB3    51601 nan  195  LONGA DISTANCIA  BRT   \n",
       "2  0D8583F810B9720A8032BB939F12B3FF    51601 nan  117            LOCAL  BRT   \n",
       "3  B0C50ED1DEC9E06E4C64E7419DDC4B09    51601 nan  117            LOCAL  BRT   \n",
       "4  E0B097D86BF9C02A23011610EBAF47FD    51601 nan   77            LOCAL  BRT   \n",
       "\n",
       "    12        13         14  \n",
       "0   OI  PRE PAGO  300000533  \n",
       "1   OI  PRE PAGO  300000210  \n",
       "2  BRT  PRE PAGO  300000210  \n",
       "3  BRT  PRE PAGO  300000210  \n",
       "4  GVT  PRE PAGO  300000210  "
      ]
     },
     "execution_count": 22,
     "metadata": {},
     "output_type": "execute_result"
    }
   ],
   "source": [
    "#Filtrando cdr_new: somente os USER_FROM que constam em df_filter_over_call continuaram na análise\n",
    "cdr_after_filters_of_calls = cdr_new[(cdr_new['USER_FROM'].isin(df_filter_over_call['USER_FROM']))]\n",
    "cdr_after_filters_of_calls.head()"
   ]
  },
  {
   "cell_type": "markdown",
   "metadata": {},
   "source": [
    "Selecionando os registros onde as ligações ocorreram entre 19:00 e 06:00 ou tenham sido realizadas em qualquer horário do domingo"
   ]
  },
  {
   "cell_type": "code",
   "execution_count": 23,
   "metadata": {},
   "outputs": [
    {
     "ename": "MemoryError",
     "evalue": "Unable to allocate 449. MiB for an array with shape (7, 8399068) and data type object",
     "output_type": "error",
     "traceback": [
      "\u001b[0;31m---------------------------------------------------------------------------\u001b[0m",
      "\u001b[0;31mMemoryError\u001b[0m                               Traceback (most recent call last)",
      "\u001b[0;32m<ipython-input-23-c86301347bb8>\u001b[0m in \u001b[0;36m<module>\u001b[0;34m\u001b[0m\n\u001b[0;32m----> 1\u001b[0;31m \u001b[0mcdr_after_filters_of_calls\u001b[0m\u001b[0;34m[\u001b[0m\u001b[0;34m'DATE'\u001b[0m\u001b[0;34m]\u001b[0m \u001b[0;34m=\u001b[0m \u001b[0mpd\u001b[0m\u001b[0;34m.\u001b[0m\u001b[0mto_datetime\u001b[0m\u001b[0;34m(\u001b[0m\u001b[0mcdr_after_filters_of_calls\u001b[0m\u001b[0;34m[\u001b[0m\u001b[0;34m'DATE'\u001b[0m\u001b[0;34m]\u001b[0m\u001b[0;34m)\u001b[0m\u001b[0;34m\u001b[0m\u001b[0;34m\u001b[0m\u001b[0m\n\u001b[0m\u001b[1;32m      2\u001b[0m \u001b[0mcdr_after_filters_of_calls\u001b[0m\u001b[0;34m[\u001b[0m\u001b[0;34m'DAY_OF_WEEK'\u001b[0m\u001b[0;34m]\u001b[0m \u001b[0;34m=\u001b[0m \u001b[0mcdr_after_filters_of_calls\u001b[0m\u001b[0;34m[\u001b[0m\u001b[0;34m'DATE'\u001b[0m\u001b[0;34m]\u001b[0m\u001b[0;34m.\u001b[0m\u001b[0mdt\u001b[0m\u001b[0;34m.\u001b[0m\u001b[0mday_name\u001b[0m\u001b[0;34m(\u001b[0m\u001b[0;34m)\u001b[0m\u001b[0;34m\u001b[0m\u001b[0;34m\u001b[0m\u001b[0m\n",
      "\u001b[0;32m~/anaconda3/lib/python3.7/site-packages/pandas/core/frame.py\u001b[0m in \u001b[0;36m__setitem__\u001b[0;34m(self, key, value)\u001b[0m\n\u001b[1;32m   3038\u001b[0m         \u001b[0;32melse\u001b[0m\u001b[0;34m:\u001b[0m\u001b[0;34m\u001b[0m\u001b[0;34m\u001b[0m\u001b[0m\n\u001b[1;32m   3039\u001b[0m             \u001b[0;31m# set column\u001b[0m\u001b[0;34m\u001b[0m\u001b[0;34m\u001b[0m\u001b[0;34m\u001b[0m\u001b[0m\n\u001b[0;32m-> 3040\u001b[0;31m             \u001b[0mself\u001b[0m\u001b[0;34m.\u001b[0m\u001b[0m_set_item\u001b[0m\u001b[0;34m(\u001b[0m\u001b[0mkey\u001b[0m\u001b[0;34m,\u001b[0m \u001b[0mvalue\u001b[0m\u001b[0;34m)\u001b[0m\u001b[0;34m\u001b[0m\u001b[0;34m\u001b[0m\u001b[0m\n\u001b[0m\u001b[1;32m   3041\u001b[0m \u001b[0;34m\u001b[0m\u001b[0m\n\u001b[1;32m   3042\u001b[0m     \u001b[0;32mdef\u001b[0m \u001b[0m_setitem_slice\u001b[0m\u001b[0;34m(\u001b[0m\u001b[0mself\u001b[0m\u001b[0;34m,\u001b[0m \u001b[0mkey\u001b[0m\u001b[0;34m:\u001b[0m \u001b[0mslice\u001b[0m\u001b[0;34m,\u001b[0m \u001b[0mvalue\u001b[0m\u001b[0;34m)\u001b[0m\u001b[0;34m:\u001b[0m\u001b[0;34m\u001b[0m\u001b[0;34m\u001b[0m\u001b[0m\n",
      "\u001b[0;32m~/anaconda3/lib/python3.7/site-packages/pandas/core/frame.py\u001b[0m in \u001b[0;36m_set_item\u001b[0;34m(self, key, value)\u001b[0m\n\u001b[1;32m   3115\u001b[0m         \u001b[0mself\u001b[0m\u001b[0;34m.\u001b[0m\u001b[0m_ensure_valid_index\u001b[0m\u001b[0;34m(\u001b[0m\u001b[0mvalue\u001b[0m\u001b[0;34m)\u001b[0m\u001b[0;34m\u001b[0m\u001b[0;34m\u001b[0m\u001b[0m\n\u001b[1;32m   3116\u001b[0m         \u001b[0mvalue\u001b[0m \u001b[0;34m=\u001b[0m \u001b[0mself\u001b[0m\u001b[0;34m.\u001b[0m\u001b[0m_sanitize_column\u001b[0m\u001b[0;34m(\u001b[0m\u001b[0mkey\u001b[0m\u001b[0;34m,\u001b[0m \u001b[0mvalue\u001b[0m\u001b[0;34m)\u001b[0m\u001b[0;34m\u001b[0m\u001b[0;34m\u001b[0m\u001b[0m\n\u001b[0;32m-> 3117\u001b[0;31m         \u001b[0mNDFrame\u001b[0m\u001b[0;34m.\u001b[0m\u001b[0m_set_item\u001b[0m\u001b[0;34m(\u001b[0m\u001b[0mself\u001b[0m\u001b[0;34m,\u001b[0m \u001b[0mkey\u001b[0m\u001b[0;34m,\u001b[0m \u001b[0mvalue\u001b[0m\u001b[0;34m)\u001b[0m\u001b[0;34m\u001b[0m\u001b[0;34m\u001b[0m\u001b[0m\n\u001b[0m\u001b[1;32m   3118\u001b[0m \u001b[0;34m\u001b[0m\u001b[0m\n\u001b[1;32m   3119\u001b[0m         \u001b[0;31m# check if we are modifying a copy\u001b[0m\u001b[0;34m\u001b[0m\u001b[0;34m\u001b[0m\u001b[0;34m\u001b[0m\u001b[0m\n",
      "\u001b[0;32m~/anaconda3/lib/python3.7/site-packages/pandas/core/generic.py\u001b[0m in \u001b[0;36m_set_item\u001b[0;34m(self, key, value)\u001b[0m\n\u001b[1;32m   3578\u001b[0m             \u001b[0;32mreturn\u001b[0m\u001b[0;34m\u001b[0m\u001b[0;34m\u001b[0m\u001b[0m\n\u001b[1;32m   3579\u001b[0m \u001b[0;34m\u001b[0m\u001b[0m\n\u001b[0;32m-> 3580\u001b[0;31m         \u001b[0mNDFrame\u001b[0m\u001b[0;34m.\u001b[0m\u001b[0m_iset_item\u001b[0m\u001b[0;34m(\u001b[0m\u001b[0mself\u001b[0m\u001b[0;34m,\u001b[0m \u001b[0mloc\u001b[0m\u001b[0;34m,\u001b[0m \u001b[0mvalue\u001b[0m\u001b[0;34m)\u001b[0m\u001b[0;34m\u001b[0m\u001b[0;34m\u001b[0m\u001b[0m\n\u001b[0m\u001b[1;32m   3581\u001b[0m \u001b[0;34m\u001b[0m\u001b[0m\n\u001b[1;32m   3582\u001b[0m     \u001b[0;32mdef\u001b[0m \u001b[0m_set_is_copy\u001b[0m\u001b[0;34m(\u001b[0m\u001b[0mself\u001b[0m\u001b[0;34m,\u001b[0m \u001b[0mref\u001b[0m\u001b[0;34m,\u001b[0m \u001b[0mcopy\u001b[0m\u001b[0;34m:\u001b[0m \u001b[0mbool_t\u001b[0m \u001b[0;34m=\u001b[0m \u001b[0;32mTrue\u001b[0m\u001b[0;34m)\u001b[0m \u001b[0;34m->\u001b[0m \u001b[0;32mNone\u001b[0m\u001b[0;34m:\u001b[0m\u001b[0;34m\u001b[0m\u001b[0;34m\u001b[0m\u001b[0m\n",
      "\u001b[0;32m~/anaconda3/lib/python3.7/site-packages/pandas/core/generic.py\u001b[0m in \u001b[0;36m_iset_item\u001b[0;34m(self, loc, value)\u001b[0m\n\u001b[1;32m   3567\u001b[0m \u001b[0;34m\u001b[0m\u001b[0m\n\u001b[1;32m   3568\u001b[0m     \u001b[0;32mdef\u001b[0m \u001b[0m_iset_item\u001b[0m\u001b[0;34m(\u001b[0m\u001b[0mself\u001b[0m\u001b[0;34m,\u001b[0m \u001b[0mloc\u001b[0m\u001b[0;34m:\u001b[0m \u001b[0mint\u001b[0m\u001b[0;34m,\u001b[0m \u001b[0mvalue\u001b[0m\u001b[0;34m)\u001b[0m \u001b[0;34m->\u001b[0m \u001b[0;32mNone\u001b[0m\u001b[0;34m:\u001b[0m\u001b[0;34m\u001b[0m\u001b[0;34m\u001b[0m\u001b[0m\n\u001b[0;32m-> 3569\u001b[0;31m         \u001b[0mself\u001b[0m\u001b[0;34m.\u001b[0m\u001b[0m_mgr\u001b[0m\u001b[0;34m.\u001b[0m\u001b[0miset\u001b[0m\u001b[0;34m(\u001b[0m\u001b[0mloc\u001b[0m\u001b[0;34m,\u001b[0m \u001b[0mvalue\u001b[0m\u001b[0;34m)\u001b[0m\u001b[0;34m\u001b[0m\u001b[0;34m\u001b[0m\u001b[0m\n\u001b[0m\u001b[1;32m   3570\u001b[0m         \u001b[0mself\u001b[0m\u001b[0;34m.\u001b[0m\u001b[0m_clear_item_cache\u001b[0m\u001b[0;34m(\u001b[0m\u001b[0;34m)\u001b[0m\u001b[0;34m\u001b[0m\u001b[0;34m\u001b[0m\u001b[0m\n\u001b[1;32m   3571\u001b[0m \u001b[0;34m\u001b[0m\u001b[0m\n",
      "\u001b[0;32m~/anaconda3/lib/python3.7/site-packages/pandas/core/internals/managers.py\u001b[0m in \u001b[0;36miset\u001b[0;34m(self, loc, value)\u001b[0m\n\u001b[1;32m   1103\u001b[0m                     \u001b[0mremoved_blknos\u001b[0m\u001b[0;34m.\u001b[0m\u001b[0mappend\u001b[0m\u001b[0;34m(\u001b[0m\u001b[0mblkno\u001b[0m\u001b[0;34m)\u001b[0m\u001b[0;34m\u001b[0m\u001b[0;34m\u001b[0m\u001b[0m\n\u001b[1;32m   1104\u001b[0m                 \u001b[0;32melse\u001b[0m\u001b[0;34m:\u001b[0m\u001b[0;34m\u001b[0m\u001b[0;34m\u001b[0m\u001b[0m\n\u001b[0;32m-> 1105\u001b[0;31m                     \u001b[0mblk\u001b[0m\u001b[0;34m.\u001b[0m\u001b[0mdelete\u001b[0m\u001b[0;34m(\u001b[0m\u001b[0mblk_locs\u001b[0m\u001b[0;34m)\u001b[0m\u001b[0;34m\u001b[0m\u001b[0;34m\u001b[0m\u001b[0m\n\u001b[0m\u001b[1;32m   1106\u001b[0m                     \u001b[0mself\u001b[0m\u001b[0;34m.\u001b[0m\u001b[0m_blklocs\u001b[0m\u001b[0;34m[\u001b[0m\u001b[0mblk\u001b[0m\u001b[0;34m.\u001b[0m\u001b[0mmgr_locs\u001b[0m\u001b[0;34m.\u001b[0m\u001b[0mindexer\u001b[0m\u001b[0;34m]\u001b[0m \u001b[0;34m=\u001b[0m \u001b[0mnp\u001b[0m\u001b[0;34m.\u001b[0m\u001b[0marange\u001b[0m\u001b[0;34m(\u001b[0m\u001b[0mlen\u001b[0m\u001b[0;34m(\u001b[0m\u001b[0mblk\u001b[0m\u001b[0;34m)\u001b[0m\u001b[0;34m)\u001b[0m\u001b[0;34m\u001b[0m\u001b[0;34m\u001b[0m\u001b[0m\n\u001b[1;32m   1107\u001b[0m \u001b[0;34m\u001b[0m\u001b[0m\n",
      "\u001b[0;32m~/anaconda3/lib/python3.7/site-packages/pandas/core/internals/blocks.py\u001b[0m in \u001b[0;36mdelete\u001b[0;34m(self, loc)\u001b[0m\n\u001b[1;32m    335\u001b[0m         \u001b[0mDelete\u001b[0m \u001b[0mgiven\u001b[0m \u001b[0mloc\u001b[0m\u001b[0;34m(\u001b[0m\u001b[0;34m-\u001b[0m\u001b[0ms\u001b[0m\u001b[0;34m)\u001b[0m \u001b[0;32mfrom\u001b[0m \u001b[0mblock\u001b[0m \u001b[0;32min\u001b[0m\u001b[0;34m-\u001b[0m\u001b[0mplace\u001b[0m\u001b[0;34m.\u001b[0m\u001b[0;34m\u001b[0m\u001b[0;34m\u001b[0m\u001b[0m\n\u001b[1;32m    336\u001b[0m         \"\"\"\n\u001b[0;32m--> 337\u001b[0;31m         \u001b[0mself\u001b[0m\u001b[0;34m.\u001b[0m\u001b[0mvalues\u001b[0m \u001b[0;34m=\u001b[0m \u001b[0mnp\u001b[0m\u001b[0;34m.\u001b[0m\u001b[0mdelete\u001b[0m\u001b[0;34m(\u001b[0m\u001b[0mself\u001b[0m\u001b[0;34m.\u001b[0m\u001b[0mvalues\u001b[0m\u001b[0;34m,\u001b[0m \u001b[0mloc\u001b[0m\u001b[0;34m,\u001b[0m \u001b[0;36m0\u001b[0m\u001b[0;34m)\u001b[0m\u001b[0;34m\u001b[0m\u001b[0;34m\u001b[0m\u001b[0m\n\u001b[0m\u001b[1;32m    338\u001b[0m         \u001b[0mself\u001b[0m\u001b[0;34m.\u001b[0m\u001b[0mmgr_locs\u001b[0m \u001b[0;34m=\u001b[0m \u001b[0mself\u001b[0m\u001b[0;34m.\u001b[0m\u001b[0mmgr_locs\u001b[0m\u001b[0;34m.\u001b[0m\u001b[0mdelete\u001b[0m\u001b[0;34m(\u001b[0m\u001b[0mloc\u001b[0m\u001b[0;34m)\u001b[0m\u001b[0;34m\u001b[0m\u001b[0;34m\u001b[0m\u001b[0m\n\u001b[1;32m    339\u001b[0m \u001b[0;34m\u001b[0m\u001b[0m\n",
      "\u001b[0;32m<__array_function__ internals>\u001b[0m in \u001b[0;36mdelete\u001b[0;34m(*args, **kwargs)\u001b[0m\n",
      "\u001b[0;32m~/anaconda3/lib/python3.7/site-packages/numpy/lib/function_base.py\u001b[0m in \u001b[0;36mdelete\u001b[0;34m(arr, obj, axis)\u001b[0m\n\u001b[1;32m   4407\u001b[0m \u001b[0;34m\u001b[0m\u001b[0m\n\u001b[1;32m   4408\u001b[0m         \u001b[0mslobj\u001b[0m\u001b[0;34m[\u001b[0m\u001b[0maxis\u001b[0m\u001b[0;34m]\u001b[0m \u001b[0;34m=\u001b[0m \u001b[0mkeep\u001b[0m\u001b[0;34m\u001b[0m\u001b[0;34m\u001b[0m\u001b[0m\n\u001b[0;32m-> 4409\u001b[0;31m         \u001b[0mnew\u001b[0m \u001b[0;34m=\u001b[0m \u001b[0marr\u001b[0m\u001b[0;34m[\u001b[0m\u001b[0mtuple\u001b[0m\u001b[0;34m(\u001b[0m\u001b[0mslobj\u001b[0m\u001b[0;34m)\u001b[0m\u001b[0;34m]\u001b[0m\u001b[0;34m\u001b[0m\u001b[0;34m\u001b[0m\u001b[0m\n\u001b[0m\u001b[1;32m   4410\u001b[0m \u001b[0;34m\u001b[0m\u001b[0m\n\u001b[1;32m   4411\u001b[0m     \u001b[0;32mif\u001b[0m \u001b[0mwrap\u001b[0m\u001b[0;34m:\u001b[0m\u001b[0;34m\u001b[0m\u001b[0;34m\u001b[0m\u001b[0m\n",
      "\u001b[0;31mMemoryError\u001b[0m: Unable to allocate 449. MiB for an array with shape (7, 8399068) and data type object"
     ]
    }
   ],
   "source": [
    "cdr_after_filters_of_calls['DATE'] = pd.to_datetime(cdr_after_filters_of_calls['DATE'])\n",
    "cdr_after_filters_of_calls['DAY_OF_WEEK'] = cdr_after_filters_of_calls['DATE'].dt.day_name()"
   ]
  },
  {
   "cell_type": "code",
   "execution_count": 14,
   "metadata": {},
   "outputs": [],
   "source": [
    "cdr_after_filters_of_calls.sample(5)\n",
    "cdr_after_filters_of_calls.to_csv('/home/gustavo/Desktop/Mestrado/mestrado_dados/dados_18.11/cdr_after_filtes.csv')"
   ]
  },
  {
   "cell_type": "code",
   "execution_count": null,
   "metadata": {
    "scrolled": false
   },
   "outputs": [],
   "source": [
    "#selecionando as ligações que ocorreram entre 19h e 6h ou no domingo em qualquer horário\n",
    "calls_night_or_sunday = cdr_after_filters_of_calls[(cdr_after_filters_of_calls.HOUR.between('19:00:00','23:59:00')) \n",
    "                               | (cdr_after_filters_of_calls.HOUR.between('00:00:00','06:00:00')) \n",
    "                               | (cdr_after_filters_of_calls['DAY_OF_WEEK'] == 'Sunday')]\n",
    "\n",
    "calls_night_or_sunday"
   ]
  },
  {
   "cell_type": "code",
   "execution_count": null,
   "metadata": {},
   "outputs": [],
   "source": [
    "calls_night_or_sunday.to_csv('/home/gustavo/Desktop/Mestrado/mestrado_dados/dados_18.11/calls_night_or_sunday.csv')"
   ]
  },
  {
   "cell_type": "markdown",
   "metadata": {},
   "source": [
    "# Agrupando as ligações por dia da semana"
   ]
  },
  {
   "cell_type": "code",
   "execution_count": null,
   "metadata": {},
   "outputs": [],
   "source": [
    "cdr_monday = cdr_after_filters_of_calls.loc[cdr_after_filters_of_calls['DAY_OF_WEEK'] == 'Monday']\n",
    "cdr_monday.to_csv('/home/gustavo/Desktop/Mestrado/mestrado_dados/CDR_by_day_of_week/cdr_monday.csv')"
   ]
  },
  {
   "cell_type": "code",
   "execution_count": null,
   "metadata": {},
   "outputs": [],
   "source": [
    "cdr_tuesday = cdr_after_filters_of_calls.loc[cdr_after_filters_of_calls['DAY_OF_WEEK'] == 'Tuesday']\n",
    "cdr_tuesday.to_csv('/home/gustavo/Desktop/Mestrado/mestrado_dados/CDR_by_day_of_week/cdr_tuesday.csv')"
   ]
  },
  {
   "cell_type": "code",
   "execution_count": null,
   "metadata": {},
   "outputs": [],
   "source": [
    "cdr_wednesday = cdr_after_filters_of_calls.loc[cdr_after_filters_of_calls['DAY_OF_WEEK'] == 'Wednesday']\n",
    "cdr_wednesday.to_csv('/home/gustavo/Desktop/Mestrado/mestrado_dados/CDR_by_day_of_week/cdr_wednesday.csv')"
   ]
  },
  {
   "cell_type": "code",
   "execution_count": null,
   "metadata": {},
   "outputs": [],
   "source": [
    "cdr_thursday = cdr_after_filters_of_calls.loc[cdr_after_filters_of_calls['DAY_OF_WEEK'] == 'Thursday']\n",
    "cdr_thursday.to_csv('/home/gustavo/Desktop/Mestrado/mestrado_dados/CDR_by_day_of_week/cdr_thursday.csv')"
   ]
  },
  {
   "cell_type": "code",
   "execution_count": null,
   "metadata": {},
   "outputs": [],
   "source": [
    "cdr_friday = cdr_after_filters_of_calls.loc[cdr_after_filters_of_calls['DAY_OF_WEEK'] == 'Friday']\n",
    "cdr_friday.to_csv('/home/gustavo/Desktop/Mestrado/mestrado_dados/CDR_by_day_of_week/cdr_friday.csv')"
   ]
  },
  {
   "cell_type": "code",
   "execution_count": null,
   "metadata": {},
   "outputs": [],
   "source": [
    "cdr_saturday = cdr_after_filters_of_calls.loc[cdr_after_filters_of_calls['DAY_OF_WEEK'] == 'Saturday']\n",
    "cdr_saturday.to_csv('/home/gustavo/Desktop/Mestrado/mestrado_dados/CDR_by_day_of_week/cdr_saturday.csv')"
   ]
  },
  {
   "cell_type": "code",
   "execution_count": null,
   "metadata": {},
   "outputs": [],
   "source": [
    "cdr_sunday = cdr_after_filters_of_calls.loc[cdr_after_filters_of_calls['DAY_OF_WEEK'] == 'Sunday']\n",
    "cdr_sunday.to_csv('/home/gustavo/Desktop/Mestrado/mestrado_dados/CDR_by_day_of_week/cdr_sunday.csv')"
   ]
  }
 ],
 "metadata": {
  "kernelspec": {
   "display_name": "Python 3",
   "language": "python",
   "name": "python3"
  },
  "language_info": {
   "codemirror_mode": {
    "name": "ipython",
    "version": 3
   },
   "file_extension": ".py",
   "mimetype": "text/x-python",
   "name": "python",
   "nbconvert_exporter": "python",
   "pygments_lexer": "ipython3",
   "version": "3.7.3"
  }
 },
 "nbformat": 4,
 "nbformat_minor": 2
}
