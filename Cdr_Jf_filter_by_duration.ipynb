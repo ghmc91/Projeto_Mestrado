{
 "cells": [
  {
   "cell_type": "code",
   "execution_count": 1,
   "metadata": {},
   "outputs": [],
   "source": [
    "import pandas as pd\n",
    "import warnings\n",
    "warnings.filterwarnings('ignore')\n",
    "\n",
    "path_jf = '/home/gustavo/Desktop/Mestrado/mestrado_dados/dados_18.11/cdr/cdr_regiao_imediata_jf_all.txt'"
   ]
  },
  {
   "cell_type": "code",
   "execution_count": null,
   "metadata": {},
   "outputs": [],
   "source": [
    "cdr_jf_1 = pd.read_csv(path_jf, delimiter=';', skiprows=1, nrows=4000000, header=None)\n",
    "cdr_jf_2 = pd.read_csv(path_jf, delimiter=';', skiprows=4000000, nrows=4000000, header=None)\n",
    "cdr_jf_3 = pd.read_csv(path_jf, delimiter=';', skiprows=8000000, nrows=4000000, header=None)\n",
    "cdr_jf_4 = pd.read_csv(path_jf, delimiter=';', skiprows=12000000, nrows=4000000, header=None)"
   ]
  },
  {
   "cell_type": "code",
   "execution_count": null,
   "metadata": {},
   "outputs": [],
   "source": [
    "cdr_jf_5 = pd.read_csv(path_jf, delimiter=';', skiprows=16000000, nrows=4000000, header=None)\n",
    "cdr_jf_6 = pd.read_csv(path_jf, delimiter=';', skiprows=20000000, nrows=4000000, header=None)\n",
    "cdr_jf_7 = pd.read_csv(path_jf, delimiter=';', skiprows=24000000, nrows=4000000, header=None)\n",
    "cdr_jf_8 = pd.read_csv(path_jf, delimiter=';', skiprows=28000000, nrows=4000000, header=None)"
   ]
  },
  {
   "cell_type": "code",
   "execution_count": null,
   "metadata": {},
   "outputs": [],
   "source": [
    "cdr_jf_9 = pd.read_csv(path_jf, delimiter=';', skiprows=32000000, nrows=4000000, header=None)\n",
    "cdr_jf_10 = pd.read_csv(path_jf, delimiter=';', skiprows=36000000, nrows=4000000, header=None)\n",
    "cdr_jf_11 = pd.read_csv(path_jf, delimiter=';', skiprows=40000000, nrows=4000000, header=None)\n",
    "cdr_jf_12 = pd.read_csv(path_jf, delimiter=';', skiprows=44000000, nrows=4000000, header=None)"
   ]
  },
  {
   "cell_type": "code",
   "execution_count": 2,
   "metadata": {},
   "outputs": [],
   "source": [
    "cdr_jf_13 = pd.read_csv(path_jf, delimiter=';', skiprows=48000000, nrows=4000000, header=None)\n",
    "cdr_jf_14 = pd.read_csv(path_jf, delimiter=';', skiprows=52000000, nrows=4000000, header=None)\n",
    "cdr_jf_15 = pd.read_csv(path_jf, delimiter=';', skiprows=56000000, nrows=4000000, header=None)\n",
    "cdr_jf_16 = pd.read_csv(path_jf, delimiter=';', skiprows=60000000, nrows=4000000, header=None)"
   ]
  },
  {
   "cell_type": "code",
   "execution_count": 3,
   "metadata": {},
   "outputs": [],
   "source": [
    "def rename_cols(cdr):\n",
    "    cdr.rename(columns={0:'DATE', 1:'HOUR', 2:'DURATION', 3:'DDD_USER_FROM',\n",
    "                    4:'USER_FROM', 5:'DDD_USER_TO', 6:'USER_TO', 7: 'ANTENNA'},inplace=True)\n",
    "    cdr = cdr[['DATE', 'HOUR', 'DURATION', 'DDD_USER_FROM', 'USER_FROM', 'DDD_USER_TO', 'USER_TO', 'ANTENNA']]\n",
    "    return cdr"
   ]
  },
  {
   "cell_type": "code",
   "execution_count": 4,
   "metadata": {},
   "outputs": [],
   "source": [
    "#cdr_jf_1 = rename_cols(cdr_jf_1)\n",
    "#cdr_jf_2 = rename_cols(cdr_jf_2)\n",
    "#cdr_jf_3 = rename_cols(cdr_jf_3)\n",
    "#cdr_jf_4 = rename_cols(cdr_jf_4)\n",
    "#cdr_jf_5 = rename_cols(cdr_jf_5)\n",
    "#cdr_jf_6 = rename_cols(cdr_jf_6)\n",
    "#cdr_jf_7 = rename_cols(cdr_jf_7)\n",
    "#cdr_jf_8 = rename_cols(cdr_jf_8)\n",
    "#cdr_jf_9 = rename_cols(cdr_jf_9)\n",
    "#cdr_jf_10 = rename_cols(cdr_jf_10)\n",
    "#cdr_jf_11 = rename_cols(cdr_jf_11)\n",
    "#cdr_jf_12 = rename_cols(cdr_jf_12)\n",
    "cdr_jf_13 = rename_cols(cdr_jf_13)\n",
    "cdr_jf_14 = rename_cols(cdr_jf_14)\n",
    "cdr_jf_15 = rename_cols(cdr_jf_15)\n",
    "cdr_jf_16 = rename_cols(cdr_jf_16)"
   ]
  },
  {
   "cell_type": "code",
   "execution_count": 5,
   "metadata": {},
   "outputs": [],
   "source": [
    "#list_cdr_1 = [cdr_jf_1, cdr_jf_2, cdr_jf_3, cdr_jf_4]\n",
    "#list_cdr_2 = [cdr_jf_5, cdr_jf_6, cdr_jf_7, cdr_jf_8]\n",
    "#list_cdr_3 = [cdr_jf_9, cdr_jf_10, cdr_jf_11, cdr_jf_12]\n",
    "list_cdr_4 = [cdr_jf_13, cdr_jf_14, cdr_jf_15, cdr_jf_16]"
   ]
  },
  {
   "cell_type": "code",
   "execution_count": 6,
   "metadata": {},
   "outputs": [],
   "source": [
    "def filters_of_duration(cdrs):\n",
    "    df = pd.DataFrame()\n",
    "    for cdr in cdrs:\n",
    "        cdr_new = cdr[cdr['DURATION'].between(0.07,120)]\n",
    "        df = df.append(cdr_new)\n",
    "    return df\n",
    "        \n",
    "\n",
    "def filters_of_call(cdrs):\n",
    "    df = pd.DataFrame()\n",
    "    for cdr in cdrs:\n",
    "        cdr_filter_by_quantity_of_call = cdr_new.groupby('USER_FROM').size().reset_index().rename(columns={0:'QUANTITY_OF_CALLS'})\n",
    "\n",
    "        cdr_filter_by_quantity_of_call = cdr_filter_by_quantity_of_call.loc[(\n",
    "                                    (cdr_filter_by_quantity_of_call['QUANTITY_OF_CALLS'] >= 3) \n",
    "                                    & (cdr_filter_by_quantity_of_call['QUANTITY_OF_CALLS'] <= 500))]\n",
    "        df = df.append(cdr_filter_by_quantity_of_call)\n",
    "    \n",
    "    return df\n",
    "\n",
    "def cdr_filter_by_quantity_of_days(cdrs, cdr_filter_by_quantity_of_call):\n",
    "    df = pd.DataFrame()\n",
    "    for cdr_new in cdrs:\n",
    "        cdr_filter_by_quantity_of_days = cdr_new.groupby('USER_FROM').DATE.nunique().to_frame('QUANTITY_OF_DAYS').reset_index()\n",
    "        cdr_filter_by_quantity_of_days = cdr_filter_by_quantity_of_days.loc[(cdr_filter_by_quantity_of_days['QUANTITY_OF_DAYS'] >= 3)]\n",
    "        df_filter_over_call = pd.merge(cdr_filter_by_quantity_of_call, cdr_filter_by_quantity_of_days,\n",
    "                                   how='inner',on=['USER_FROM'])\n",
    "        cdr_after_filters_of_calls = cdr_new[(cdr_new['USER_FROM'].isin(df_filter_over_call['USER_FROM']))]\n",
    "        cdr_after_filters_of_calls['DATE'] = pd.to_datetime(cdr_after_filters_of_calls['DATE'])\n",
    "        cdr_after_filters_of_calls['DAY_OF_WEEK'] = cdr_after_filters_of_calls['DATE'].dt.day_name()\n",
    "        df = df.append(cdr_after_filters_of_calls)\n",
    "    return df"
   ]
  },
  {
   "cell_type": "code",
   "execution_count": 8,
   "metadata": {},
   "outputs": [],
   "source": [
    "df = filters_of_duration(list_cdr_4)\n",
    "df.to_csv('/home/gustavo/Desktop/Mestrado/mestrado_dados/dados_18.11/cdr/JF_Filter_by_duration/df_4.csv')"
   ]
  },
  {
   "cell_type": "code",
   "execution_count": null,
   "metadata": {},
   "outputs": [],
   "source": []
  }
 ],
 "metadata": {
  "kernelspec": {
   "display_name": "Python 3",
   "language": "python",
   "name": "python3"
  },
  "language_info": {
   "codemirror_mode": {
    "name": "ipython",
    "version": 3
   },
   "file_extension": ".py",
   "mimetype": "text/x-python",
   "name": "python",
   "nbconvert_exporter": "python",
   "pygments_lexer": "ipython3",
   "version": "3.7.3"
  }
 },
 "nbformat": 4,
 "nbformat_minor": 2
}
