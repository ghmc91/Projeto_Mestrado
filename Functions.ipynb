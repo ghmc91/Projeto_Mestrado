{
 "cells": [
  {
   "cell_type": "code",
   "execution_count": 6,
   "metadata": {},
   "outputs": [],
   "source": [
    "import pandas as pd\n",
    "\n",
    "def position_measures(df_final):\n",
    "            \n",
    "    df_without_0 = df_final.loc[df_final['TRAVELLED_DISTANCE']>0]\n",
    "    df_with_0 = df_final\n",
    "    \n",
    "    df_median_without_0 = df_without_0.groupby(['PRESUMED_RESIDENCE']).median()\n",
    "    df_median_without_0 = df_median_without_0.rename(columns={'TRAVELLED_DISTANCE': 'HIGHER_MEDIAN'})\n",
    "\n",
    "    df_median_with_0 = df_with_0.groupby(['PRESUMED_RESIDENCE']).median()\n",
    "    df_median_with_0 = df_median_with_0.rename(columns={'TRAVELLED_DISTANCE': 'LOWER_MEDIAN'})\n",
    "\n",
    "    df_mean_without_0 = df_without_0.groupby(['PRESUMED_RESIDENCE']).mean()\n",
    "    df_mean_without_0 = df_mean_without_0.rename(columns={'TRAVELLED_DISTANCE': 'HIGHER_MEAN'})\n",
    "\n",
    "    df_mean_with_0 = df_with_0.groupby(['PRESUMED_RESIDENCE']).mean()\n",
    "    df_mean_with_0 = df_mean_with_0.rename(columns={'TRAVELLED_DISTANCE': 'LOWER_MEAN'})\n",
    "\n",
    "    df_std_without_0 = df_without_0.groupby(['PRESUMED_RESIDENCE']).std()\n",
    "    df_std_without_0 = df_std_without_0.rename(columns={'TRAVELLED_DISTANCE': 'HIGHER_STD'})\n",
    "\n",
    "    df_std_with_0 = df_with_0.groupby(['PRESUMED_RESIDENCE']).std()\n",
    "    df_std_with_0 = df_std_with_0.rename(columns={'TRAVELLED_DISTANCE': 'LOWER_STD'})\n",
    "    \n",
    "    dfs = [df_mean_with_0, df_mean_without_0, df_median_with_0, df_median_without_0, df_std_with_0, df_std_without_0]\n",
    "\n",
    "    result = pd.concat(dfs, join='outer', axis=1)\n",
    "    \n",
    "    return result"
   ]
  },
  {
   "cell_type": "code",
   "execution_count": 5,
   "metadata": {},
   "outputs": [],
   "source": [
    "import numpy as np\n",
    "\n",
    "def mean_geral_values(arrays):\n",
    "    geral_values = []\n",
    "    for array in arrays:\n",
    "        geral_values.append(np.mean(array))\n",
    "    return geral_values"
   ]
  },
  {
   "cell_type": "code",
   "execution_count": 4,
   "metadata": {},
   "outputs": [],
   "source": [
    "def normalization_values(result):\n",
    "    lower_mean = np.round(result.LOWER_MEAN.values, 2)\n",
    "    higher_mean = np.round(result.HIGHER_MEAN.values,2)\n",
    "\n",
    "    lower_median = np.round(result.LOWER_MEDIAN.values, 2)\n",
    "    higher_median = np.round(result.HIGHER_MEDIAN.values,2)\n",
    "\n",
    "    lower_std = np.round(result.LOWER_STD.values, 2)\n",
    "    higher_std = np.round(result.HIGHER_STD.values,2)\n",
    "    \n",
    "    geral_values = [lower_mean, higher_mean, lower_median, higher_median, lower_std, higher_std]\n",
    "    values = mean_geral_values(geral_values)\n",
    "\n",
    "    df = pd.DataFrame([values], columns=['LOWER_MEAN','HIGHER_MEAN', 'LOWER_MEDIAN', 'HIGHER_MEDIAN', 'LOWER_STD',\n",
    "                                   'HIGHER_STD'], index=['MÉDIA GERAL'])\n",
    "    result = result.append(df)\n",
    "    return result"
   ]
  }
 ],
 "metadata": {
  "kernelspec": {
   "display_name": "Python 3",
   "language": "python",
   "name": "python3"
  },
  "language_info": {
   "codemirror_mode": {
    "name": "ipython",
    "version": 3
   },
   "file_extension": ".py",
   "mimetype": "text/x-python",
   "name": "python",
   "nbconvert_exporter": "python",
   "pygments_lexer": "ipython3",
   "version": "3.7.3"
  }
 },
 "nbformat": 4,
 "nbformat_minor": 2
}
