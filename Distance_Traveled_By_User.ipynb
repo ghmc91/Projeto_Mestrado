{
 "cells": [
  {
   "cell_type": "code",
   "execution_count": 1,
   "metadata": {},
   "outputs": [],
   "source": [
    "import pandas as pd\n",
    "import numpy as np\n",
    "from math import sin, cos, sqrt, atan2, radians\n",
    "from scipy.spatial.distance import pdist, squareform"
   ]
  },
  {
   "cell_type": "code",
   "execution_count": 2,
   "metadata": {},
   "outputs": [
    {
     "data": {
      "text/html": [
       "<div>\n",
       "<style scoped>\n",
       "    .dataframe tbody tr th:only-of-type {\n",
       "        vertical-align: middle;\n",
       "    }\n",
       "\n",
       "    .dataframe tbody tr th {\n",
       "        vertical-align: top;\n",
       "    }\n",
       "\n",
       "    .dataframe thead th {\n",
       "        text-align: right;\n",
       "    }\n",
       "</style>\n",
       "<table border=\"1\" class=\"dataframe\">\n",
       "  <thead>\n",
       "    <tr style=\"text-align: right;\">\n",
       "      <th></th>\n",
       "      <th>USER</th>\n",
       "      <th>ANTENNA_ID</th>\n",
       "      <th>PRESUMED_RESIDENCE</th>\n",
       "    </tr>\n",
       "  </thead>\n",
       "  <tbody>\n",
       "    <tr>\n",
       "      <th>0</th>\n",
       "      <td>00003F26576D1122848B6F3CEEC250E5</td>\n",
       "      <td>SJDR5</td>\n",
       "      <td>SJDR5</td>\n",
       "    </tr>\n",
       "    <tr>\n",
       "      <th>1</th>\n",
       "      <td>00003F26576D1122848B6F3CEEC250E5</td>\n",
       "      <td>SJDR5</td>\n",
       "      <td>SJDR5</td>\n",
       "    </tr>\n",
       "    <tr>\n",
       "      <th>2</th>\n",
       "      <td>00003F26576D1122848B6F3CEEC250E5</td>\n",
       "      <td>SJDR5</td>\n",
       "      <td>SJDR5</td>\n",
       "    </tr>\n",
       "    <tr>\n",
       "      <th>3</th>\n",
       "      <td>00003F26576D1122848B6F3CEEC250E5</td>\n",
       "      <td>SJDR5</td>\n",
       "      <td>SJDR5</td>\n",
       "    </tr>\n",
       "    <tr>\n",
       "      <th>4</th>\n",
       "      <td>00003F26576D1122848B6F3CEEC250E5</td>\n",
       "      <td>SJDR5</td>\n",
       "      <td>SJDR5</td>\n",
       "    </tr>\n",
       "    <tr>\n",
       "      <th>...</th>\n",
       "      <td>...</td>\n",
       "      <td>...</td>\n",
       "      <td>...</td>\n",
       "    </tr>\n",
       "    <tr>\n",
       "      <th>543587</th>\n",
       "      <td>FFFF6761884073022FB5DFE1B6F54DE3</td>\n",
       "      <td>RT</td>\n",
       "      <td>RT</td>\n",
       "    </tr>\n",
       "    <tr>\n",
       "      <th>543588</th>\n",
       "      <td>FFFF6761884073022FB5DFE1B6F54DE3</td>\n",
       "      <td>RT</td>\n",
       "      <td>RT</td>\n",
       "    </tr>\n",
       "    <tr>\n",
       "      <th>543589</th>\n",
       "      <td>FFFF6761884073022FB5DFE1B6F54DE3</td>\n",
       "      <td>RT</td>\n",
       "      <td>RT</td>\n",
       "    </tr>\n",
       "    <tr>\n",
       "      <th>543590</th>\n",
       "      <td>FFFF6761884073022FB5DFE1B6F54DE3</td>\n",
       "      <td>RT</td>\n",
       "      <td>RT</td>\n",
       "    </tr>\n",
       "    <tr>\n",
       "      <th>543591</th>\n",
       "      <td>FFFF6761884073022FB5DFE1B6F54DE3</td>\n",
       "      <td>RT</td>\n",
       "      <td>RT</td>\n",
       "    </tr>\n",
       "  </tbody>\n",
       "</table>\n",
       "<p>543592 rows × 3 columns</p>\n",
       "</div>"
      ],
      "text/plain": [
       "                                    USER ANTENNA_ID PRESUMED_RESIDENCE\n",
       "0       00003F26576D1122848B6F3CEEC250E5      SJDR5              SJDR5\n",
       "1       00003F26576D1122848B6F3CEEC250E5      SJDR5              SJDR5\n",
       "2       00003F26576D1122848B6F3CEEC250E5      SJDR5              SJDR5\n",
       "3       00003F26576D1122848B6F3CEEC250E5      SJDR5              SJDR5\n",
       "4       00003F26576D1122848B6F3CEEC250E5      SJDR5              SJDR5\n",
       "...                                  ...        ...                ...\n",
       "543587  FFFF6761884073022FB5DFE1B6F54DE3         RT                 RT\n",
       "543588  FFFF6761884073022FB5DFE1B6F54DE3         RT                 RT\n",
       "543589  FFFF6761884073022FB5DFE1B6F54DE3         RT                 RT\n",
       "543590  FFFF6761884073022FB5DFE1B6F54DE3         RT                 RT\n",
       "543591  FFFF6761884073022FB5DFE1B6F54DE3         RT                 RT\n",
       "\n",
       "[543592 rows x 3 columns]"
      ]
     },
     "execution_count": 2,
     "metadata": {},
     "output_type": "execute_result"
    }
   ],
   "source": [
    "#presumed_residence = pd.read_csv('/home/gustavo/Desktop/Mestrado/mestrado_dados/dados_18.11/presumed_res_and_call_loc_without_repetition.csv')\n",
    "#presumed_residence.sample(15)\n",
    "df_user_with_residence = pd.read_csv('/home/gustavo/Desktop/Mestrado/mestrado_dados/dados_18.11/df_main.csv')\n",
    "df_user_with_residence = df_user_with_residence.drop('Unnamed: 0', 1)\n",
    "df_user_with_residence"
   ]
  },
  {
   "cell_type": "code",
   "execution_count": null,
   "metadata": {},
   "outputs": [],
   "source": [
    "antennas_with_id = pd.read_csv('/home/gustavo/Desktop/Mestrado/mestrado_dados/dados_18.11/antenas_with_id.csv', index_col=0)\n",
    "antennas_with_id.sample(15)"
   ]
  },
  {
   "cell_type": "code",
   "execution_count": null,
   "metadata": {},
   "outputs": [],
   "source": [
    "antennas_with_id.groupby(['ANTENNA_ID']).min().reset_index()"
   ]
  },
  {
   "cell_type": "code",
   "execution_count": null,
   "metadata": {},
   "outputs": [],
   "source": [
    "antennas_and_lat_long = antennas_with_id.groupby('ANTENNA_ID').agg({'LAT': min, 'LONG':min}).reset_index()\n",
    "antennas_and_lat_long"
   ]
  },
  {
   "cell_type": "markdown",
   "metadata": {},
   "source": [
    "# Calculando a distância entre as antenas"
   ]
  },
  {
   "cell_type": "code",
   "execution_count": null,
   "metadata": {},
   "outputs": [],
   "source": [
    "def dist(x, y):\n",
    "    \n",
    "    lat1 = radians(x[0])\n",
    "    lon1 = radians(x[1])\n",
    "    lat2 = radians(y[0])\n",
    "    lon2 = radians(y[1])\n",
    "    \n",
    "    R = 6373.0\n",
    "    \n",
    "    dlon = lon2 - lon1\n",
    "    dlat = lat2 - lat1\n",
    "    \n",
    "    a = sin(dlat/2) ** 2 + cos(lat1) * cos(lat2) * sin(dlon/2) ** 2\n",
    "    c = 2 * atan2(sqrt(a), sqrt(1 - a))\n",
    "    \n",
    "    distance = R * c\n",
    "    \n",
    "    return round(distance, 4)"
   ]
  },
  {
   "cell_type": "code",
   "execution_count": null,
   "metadata": {},
   "outputs": [],
   "source": [
    "distances = pdist(antennas_and_lat_long[['LAT', 'LONG']].values, metric=dist)\n",
    "\n",
    "points = antennas_and_lat_long['ANTENNA_ID'].values\n",
    "\n",
    "result = pd.DataFrame(squareform(distances), columns=points, index=points)\n",
    "\n",
    "result"
   ]
  },
  {
   "cell_type": "code",
   "execution_count": null,
   "metadata": {},
   "outputs": [],
   "source": [
    "melt_df = pd.melt(result.reset_index(), id_vars='index')\n",
    "melt_df.rename(columns={'index': 'ANTENNA_ID', 'variable': 'PRESUMED_RESIDENCE', 'value': 'DISTANCE'}, inplace=True)\n",
    "\n",
    "melt_df"
   ]
  },
  {
   "cell_type": "code",
   "execution_count": null,
   "metadata": {},
   "outputs": [],
   "source": [
    "df_main = pd.merge(df_user_with_residence, melt_df, left_on=['ANTENNA_ID', 'PRESUMED_RESIDENCE'], right_on=['ANTENNA_ID', 'PRESUMED_RESIDENCE'])\n",
    "df_main.sample(10)"
   ]
  },
  {
   "cell_type": "code",
   "execution_count": null,
   "metadata": {},
   "outputs": [],
   "source": [
    "df_final = df_main.groupby(['USER', 'PRESUMED_RESIDENCE']).agg({'ANTENNA_ID': list, 'DISTANCE': sum}).reset_index()\n",
    "df_final.rename(columns={'ANTENNA_ID':'CALL_LOC', 'DISTANCE': 'TRAVELLED_DISTANCE'}, inplace=True)\n",
    "\n"
   ]
  },
  {
   "cell_type": "code",
   "execution_count": null,
   "metadata": {},
   "outputs": [],
   "source": [
    "df_final.sample(10)"
   ]
  }
 ],
 "metadata": {
  "kernelspec": {
   "display_name": "Python 3",
   "language": "python",
   "name": "python3"
  },
  "language_info": {
   "codemirror_mode": {
    "name": "ipython",
    "version": 3
   },
   "file_extension": ".py",
   "mimetype": "text/x-python",
   "name": "python",
   "nbconvert_exporter": "python",
   "pygments_lexer": "ipython3",
   "version": "3.7.3"
  }
 },
 "nbformat": 4,
 "nbformat_minor": 2
}
