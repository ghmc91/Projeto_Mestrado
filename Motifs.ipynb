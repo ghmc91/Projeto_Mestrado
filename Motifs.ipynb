{
 "cells": [
  {
   "cell_type": "code",
   "execution_count": 1,
   "metadata": {},
   "outputs": [],
   "source": [
    "import pandas as pd\n",
    "import networkx as nx\n",
    "import matplotlib.pyplot as plt\n",
    "import graphviz\n",
    "import warnings\n",
    "import numpy as np\n",
    "warnings.filterwarnings('ignore')"
   ]
  },
  {
   "cell_type": "markdown",
   "metadata": {},
   "source": [
    "# Leitura dos Dataframes"
   ]
  },
  {
   "cell_type": "markdown",
   "metadata": {},
   "source": [
    "São João Del Rei - Dias de semana"
   ]
  },
  {
   "cell_type": "code",
   "execution_count": 2,
   "metadata": {},
   "outputs": [],
   "source": [
    "df_monday_sjdr = pd.read_csv('/home/gustavo/Desktop/Mestrado/mestrado_dados/CDR_by_day_of_week/cdr_monday.csv', index_col=False)\n",
    "df_monday_sjdr.drop(columns={'Unnamed: 0'}, inplace=True)\n",
    "\n",
    "df_tuesday_sjdr = pd.read_csv('/home/gustavo/Desktop/Mestrado/mestrado_dados/CDR_by_day_of_week/cdr_tuesday.csv')\n",
    "df_tuesday_sjdr.drop(columns={'Unnamed: 0'}, inplace=True)\n",
    "\n",
    "df_wednesday_sjdr = pd.read_csv('/home/gustavo/Desktop/Mestrado/mestrado_dados/CDR_by_day_of_week/cdr_wednesday.csv')\n",
    "df_wednesday_sjdr.drop(columns={'Unnamed: 0'}, inplace=True)\n",
    "\n",
    "df_thursday_sjdr = pd.read_csv('/home/gustavo/Desktop/Mestrado/mestrado_dados/CDR_by_day_of_week/cdr_thursday.csv')\n",
    "df_thursday_sjdr.drop(columns={'Unnamed: 0'}, inplace=True)\n",
    "\n",
    "df_friday_sjdr = pd.read_csv('/home/gustavo/Desktop/Mestrado/mestrado_dados/CDR_by_day_of_week/cdr_friday.csv')\n",
    "df_friday_sjdr.drop(columns={'Unnamed: 0'}, inplace=True)"
   ]
  },
  {
   "cell_type": "markdown",
   "metadata": {},
   "source": [
    "São João Del Rei - Fins de semana"
   ]
  },
  {
   "cell_type": "code",
   "execution_count": 3,
   "metadata": {},
   "outputs": [],
   "source": [
    "df_saturday_sjdr = pd.read_csv('/home/gustavo/Desktop/Mestrado/mestrado_dados/CDR_by_day_of_week/cdr_saturday.csv')\n",
    "df_saturday_sjdr.drop(columns={'Unnamed: 0'}, inplace=True)\n",
    "\n",
    "df_sunday_sjdr = pd.read_csv('/home/gustavo/Desktop/Mestrado/mestrado_dados/CDR_by_day_of_week/cdr_sunday.csv')\n",
    "df_sunday_sjdr.drop(columns={'Unnamed: 0'}, inplace=True)"
   ]
  },
  {
   "cell_type": "markdown",
   "metadata": {},
   "source": [
    "# Funções para obter a frequência de visitação dos indivíduos baseado em sua residência presumida por classe econômica"
   ]
  },
  {
   "cell_type": "code",
   "execution_count": 4,
   "metadata": {},
   "outputs": [],
   "source": [
    "def create_df_weekdays(df_monday,df_tuesday, df_wednesday, df_thursday, df_friday):\n",
    "    df_weekdays = df_monday.append([df_tuesday, df_wednesday, df_thursday, df_friday])\n",
    "    df_weekdays.rename(columns={'USER_FROM': 'USER'}, inplace=True)\n",
    "    return df_weekdays\n",
    "\n",
    "def create_df_weekendays(df_saturday, df_sunday):\n",
    "    df_weekend_days = df_saturday.append(df_sunday)\n",
    "    df_weekend_days.rename(columns={'USER_FROM': 'USER'}, inplace=True)\n",
    "    return df_weekend_days"
   ]
  },
  {
   "cell_type": "code",
   "execution_count": 5,
   "metadata": {},
   "outputs": [],
   "source": [
    "def merge_residence_weekday(path, df_weekdays):\n",
    "    df_presumed_residence = pd.read_csv(path)\n",
    "    df = pd.merge(df_weekdays, df_presumed_residence, on='USER')\n",
    "    df = df[['DATE', 'USER', 'DAY_OF_WEEK', 'PRESUMED_RESIDENCE', 'CALL_LOC', 'TRAVELLED_DISTANCE']]\n",
    "    df = df.groupby(['DATE', 'USER', 'CALL_LOC']).first().reset_index()\n",
    "    df['CALL_LOC'] = df['CALL_LOC'].apply(lambda x: x.strip('][').split(', '))\n",
    "    df['CALL_LOC'] = df['CALL_LOC'].apply(lambda x: set(x))\n",
    "    df['CLASS_LOCATION_CALL'] = df['PRESUMED_RESIDENCE'].map(classe_sjdr)\n",
    "    return df\n",
    "\n",
    "def classe_sjdr(i):\n",
    "    if (i.startswith('SJDR')) | (i.startswith('TR')):\n",
    "        return 3\n",
    "    else:\n",
    "        return 2"
   ]
  },
  {
   "cell_type": "code",
   "execution_count": 6,
   "metadata": {},
   "outputs": [],
   "source": [
    "def get_motifs_by_classes(classe, df):\n",
    "    df_classe = df[df['CLASS_LOCATION_CALL'] == classe]\n",
    "    df_classe['CALL_LOC'] = df_classe['CALL_LOC'].apply(lambda x: frozenset(x))\n",
    "    frequency = df_classe[['CALL_LOC', 'PRESUMED_RESIDENCE']].value_counts()\n",
    "    df_frequency = frequency.to_frame().reset_index()\n",
    "    df_frequency.rename(columns={0: 'FREQUENCY'}, inplace=True)\n",
    "    df_motifs = df_classe[['CALL_LOC', 'PRESUMED_RESIDENCE']]\n",
    "    df_motifs['CALL_LOC'] = df_motifs['CALL_LOC'].apply(lambda x: frozenset(x))\n",
    "    df_motifs = df_motifs.groupby(['CALL_LOC', 'PRESUMED_RESIDENCE']).first().reset_index()\n",
    "    df_motifs = pd.merge(df_motifs, df_frequency, on=['CALL_LOC', 'PRESUMED_RESIDENCE'])\n",
    "    df_motifs['%'] = [round((x/len(df_classe) * 100), 3) for x in df_motifs['FREQUENCY']]\n",
    "    return df_motifs\n",
    "\n",
    "def get_frequency_by_local(df_motifs):\n",
    "    df_motifs['CALL_LOC'] = [list(x) for x in df_motifs['CALL_LOC']]\n",
    "    df_motifs['QUANTITY_LOCALS'] = [(len(x) -1) for x in df_motifs['CALL_LOC']]\n",
    "    df_motifs = df_motifs[['%', 'QUANTITY_LOCALS']]\n",
    "    df_motifs = df_motifs.groupby('QUANTITY_LOCALS').sum().reset_index()\n",
    "    return df_motifs"
   ]
  },
  {
   "cell_type": "markdown",
   "metadata": {},
   "source": [
    "# Frequência de motifs em São João Del Rei"
   ]
  },
  {
   "cell_type": "markdown",
   "metadata": {},
   "source": [
    "Classe econômica 2 Dias de semana"
   ]
  },
  {
   "cell_type": "code",
   "execution_count": 7,
   "metadata": {},
   "outputs": [],
   "source": [
    "df_weekdays_sjdr = create_df_weekdays(df_monday_sjdr, df_tuesday_sjdr, df_wednesday_sjdr, df_thursday_sjdr, df_friday_sjdr)\n",
    "path_sjdr = '/home/gustavo/Desktop/Mestrado/mestrado_dados/Regiao_Presumida/df_final.csv'"
   ]
  },
  {
   "cell_type": "code",
   "execution_count": null,
   "metadata": {},
   "outputs": [],
   "source": [
    "len(df_sjdr)"
   ]
  },
  {
   "cell_type": "code",
   "execution_count": 8,
   "metadata": {},
   "outputs": [
    {
     "data": {
      "text/html": [
       "<div>\n",
       "<style scoped>\n",
       "    .dataframe tbody tr th:only-of-type {\n",
       "        vertical-align: middle;\n",
       "    }\n",
       "\n",
       "    .dataframe tbody tr th {\n",
       "        vertical-align: top;\n",
       "    }\n",
       "\n",
       "    .dataframe thead th {\n",
       "        text-align: right;\n",
       "    }\n",
       "</style>\n",
       "<table border=\"1\" class=\"dataframe\">\n",
       "  <thead>\n",
       "    <tr style=\"text-align: right;\">\n",
       "      <th></th>\n",
       "      <th>QUANTITY_LOCALS</th>\n",
       "      <th>%</th>\n",
       "    </tr>\n",
       "  </thead>\n",
       "  <tbody>\n",
       "    <tr>\n",
       "      <th>0</th>\n",
       "      <td>0</td>\n",
       "      <td>94.997</td>\n",
       "    </tr>\n",
       "    <tr>\n",
       "      <th>1</th>\n",
       "      <td>1</td>\n",
       "      <td>4.600</td>\n",
       "    </tr>\n",
       "    <tr>\n",
       "      <th>2</th>\n",
       "      <td>2</td>\n",
       "      <td>0.346</td>\n",
       "    </tr>\n",
       "    <tr>\n",
       "      <th>3</th>\n",
       "      <td>3</td>\n",
       "      <td>0.055</td>\n",
       "    </tr>\n",
       "  </tbody>\n",
       "</table>\n",
       "</div>"
      ],
      "text/plain": [
       "   QUANTITY_LOCALS       %\n",
       "0                0  94.997\n",
       "1                1   4.600\n",
       "2                2   0.346\n",
       "3                3   0.055"
      ]
     },
     "execution_count": 8,
     "metadata": {},
     "output_type": "execute_result"
    }
   ],
   "source": [
    "df_sjdr = merge_residence_weekday(path_sjdr, df_weekdays_sjdr)\n",
    "df_motif_sjdr_2 = get_motifs_by_classes(2, df_sjdr)\n",
    "frequency_sjdr_2 = get_frequency_by_local(df_motif_sjdr_2)\n",
    "frequency_sjdr_2"
   ]
  },
  {
   "cell_type": "markdown",
   "metadata": {},
   "source": [
    "Classe econômica 2 - fins de semana"
   ]
  },
  {
   "cell_type": "code",
   "execution_count": 9,
   "metadata": {},
   "outputs": [
    {
     "data": {
      "text/html": [
       "<div>\n",
       "<style scoped>\n",
       "    .dataframe tbody tr th:only-of-type {\n",
       "        vertical-align: middle;\n",
       "    }\n",
       "\n",
       "    .dataframe tbody tr th {\n",
       "        vertical-align: top;\n",
       "    }\n",
       "\n",
       "    .dataframe thead th {\n",
       "        text-align: right;\n",
       "    }\n",
       "</style>\n",
       "<table border=\"1\" class=\"dataframe\">\n",
       "  <thead>\n",
       "    <tr style=\"text-align: right;\">\n",
       "      <th></th>\n",
       "      <th>QUANTITY_LOCALS</th>\n",
       "      <th>%</th>\n",
       "    </tr>\n",
       "  </thead>\n",
       "  <tbody>\n",
       "    <tr>\n",
       "      <th>0</th>\n",
       "      <td>0</td>\n",
       "      <td>94.432</td>\n",
       "    </tr>\n",
       "    <tr>\n",
       "      <th>1</th>\n",
       "      <td>1</td>\n",
       "      <td>5.095</td>\n",
       "    </tr>\n",
       "    <tr>\n",
       "      <th>2</th>\n",
       "      <td>2</td>\n",
       "      <td>0.420</td>\n",
       "    </tr>\n",
       "    <tr>\n",
       "      <th>3</th>\n",
       "      <td>3</td>\n",
       "      <td>0.053</td>\n",
       "    </tr>\n",
       "  </tbody>\n",
       "</table>\n",
       "</div>"
      ],
      "text/plain": [
       "   QUANTITY_LOCALS       %\n",
       "0                0  94.432\n",
       "1                1   5.095\n",
       "2                2   0.420\n",
       "3                3   0.053"
      ]
     },
     "execution_count": 9,
     "metadata": {},
     "output_type": "execute_result"
    }
   ],
   "source": [
    "df_weekend_sjdr = create_df_weekendays(df_saturday_sjdr, df_sunday_sjdr)\n",
    "df_sjdr_weekend = merge_residence_weekday(path_sjdr, df_weekend_sjdr)\n",
    "df_motif_weekend_sjdr_2 = get_motifs_by_classes(2, df_sjdr_weekend)\n",
    "frequency_weekend_sjdr_2 = get_frequency_by_local(df_motif_weekend_sjdr_2)\n",
    "frequency_weekend_sjdr_2"
   ]
  },
  {
   "cell_type": "code",
   "execution_count": 10,
   "metadata": {},
   "outputs": [
    {
     "data": {
      "text/html": [
       "<div>\n",
       "<style scoped>\n",
       "    .dataframe tbody tr th:only-of-type {\n",
       "        vertical-align: middle;\n",
       "    }\n",
       "\n",
       "    .dataframe tbody tr th {\n",
       "        vertical-align: top;\n",
       "    }\n",
       "\n",
       "    .dataframe thead th {\n",
       "        text-align: right;\n",
       "    }\n",
       "</style>\n",
       "<table border=\"1\" class=\"dataframe\">\n",
       "  <thead>\n",
       "    <tr style=\"text-align: right;\">\n",
       "      <th></th>\n",
       "      <th>QUANTITY_LOCALS</th>\n",
       "      <th>%</th>\n",
       "    </tr>\n",
       "  </thead>\n",
       "  <tbody>\n",
       "    <tr>\n",
       "      <th>0</th>\n",
       "      <td>0</td>\n",
       "      <td>76.565</td>\n",
       "    </tr>\n",
       "    <tr>\n",
       "      <th>1</th>\n",
       "      <td>1</td>\n",
       "      <td>19.074</td>\n",
       "    </tr>\n",
       "    <tr>\n",
       "      <th>2</th>\n",
       "      <td>2</td>\n",
       "      <td>3.644</td>\n",
       "    </tr>\n",
       "    <tr>\n",
       "      <th>3</th>\n",
       "      <td>3</td>\n",
       "      <td>0.635</td>\n",
       "    </tr>\n",
       "    <tr>\n",
       "      <th>4</th>\n",
       "      <td>4</td>\n",
       "      <td>0.088</td>\n",
       "    </tr>\n",
       "    <tr>\n",
       "      <th>5</th>\n",
       "      <td>5</td>\n",
       "      <td>0.001</td>\n",
       "    </tr>\n",
       "  </tbody>\n",
       "</table>\n",
       "</div>"
      ],
      "text/plain": [
       "   QUANTITY_LOCALS       %\n",
       "0                0  76.565\n",
       "1                1  19.074\n",
       "2                2   3.644\n",
       "3                3   0.635\n",
       "4                4   0.088\n",
       "5                5   0.001"
      ]
     },
     "execution_count": 10,
     "metadata": {},
     "output_type": "execute_result"
    }
   ],
   "source": [
    "df_motif_sjdr_3 = get_motifs_by_classes(3, df_sjdr)\n",
    "frequency_sjdr_3 = get_frequency_by_local(df_motif_sjdr_3)\n",
    "frequency_sjdr_3"
   ]
  },
  {
   "cell_type": "code",
   "execution_count": 11,
   "metadata": {},
   "outputs": [
    {
     "data": {
      "text/html": [
       "<div>\n",
       "<style scoped>\n",
       "    .dataframe tbody tr th:only-of-type {\n",
       "        vertical-align: middle;\n",
       "    }\n",
       "\n",
       "    .dataframe tbody tr th {\n",
       "        vertical-align: top;\n",
       "    }\n",
       "\n",
       "    .dataframe thead th {\n",
       "        text-align: right;\n",
       "    }\n",
       "</style>\n",
       "<table border=\"1\" class=\"dataframe\">\n",
       "  <thead>\n",
       "    <tr style=\"text-align: right;\">\n",
       "      <th></th>\n",
       "      <th>QUANTITY_LOCALS</th>\n",
       "      <th>%</th>\n",
       "    </tr>\n",
       "  </thead>\n",
       "  <tbody>\n",
       "    <tr>\n",
       "      <th>0</th>\n",
       "      <td>0</td>\n",
       "      <td>75.322</td>\n",
       "    </tr>\n",
       "    <tr>\n",
       "      <th>1</th>\n",
       "      <td>1</td>\n",
       "      <td>20.063</td>\n",
       "    </tr>\n",
       "    <tr>\n",
       "      <th>2</th>\n",
       "      <td>2</td>\n",
       "      <td>3.788</td>\n",
       "    </tr>\n",
       "    <tr>\n",
       "      <th>3</th>\n",
       "      <td>3</td>\n",
       "      <td>0.729</td>\n",
       "    </tr>\n",
       "    <tr>\n",
       "      <th>4</th>\n",
       "      <td>4</td>\n",
       "      <td>0.099</td>\n",
       "    </tr>\n",
       "    <tr>\n",
       "      <th>5</th>\n",
       "      <td>5</td>\n",
       "      <td>0.003</td>\n",
       "    </tr>\n",
       "  </tbody>\n",
       "</table>\n",
       "</div>"
      ],
      "text/plain": [
       "   QUANTITY_LOCALS       %\n",
       "0                0  75.322\n",
       "1                1  20.063\n",
       "2                2   3.788\n",
       "3                3   0.729\n",
       "4                4   0.099\n",
       "5                5   0.003"
      ]
     },
     "execution_count": 11,
     "metadata": {},
     "output_type": "execute_result"
    }
   ],
   "source": [
    "df_weekend_sjdr = create_df_weekendays(df_saturday_sjdr, df_sunday_sjdr)\n",
    "df_sjdr_weekend = merge_residence_weekday(path_sjdr, df_weekend_sjdr)\n",
    "df_motif_weekend_sjdr_3 = get_motifs_by_classes(3, df_sjdr_weekend)\n",
    "frequency_weekend_sjdr_3 = get_frequency_by_local(df_motif_weekend_sjdr_3)\n",
    "frequency_weekend_sjdr_3"
   ]
  },
  {
   "cell_type": "code",
   "execution_count": 22,
   "metadata": {},
   "outputs": [
    {
     "data": {
      "image/png": "[encoded data removed]",
      "text/plain": [
       "<Figure size 864x576 with 1 Axes>"
      ]
     },
     "metadata": {
      "needs_background": "light"
     },
     "output_type": "display_data"
    }
   ],
   "source": [
    "labels = frequency_sjdr_3['QUANTITY_LOCALS'].to_list()\n",
    "x_ticks = np.arange(len(frequency_sjdr_3['QUANTITY_LOCALS'].to_list()))\n",
    "width = 0.35\n",
    "\n",
    "fig, ax = plt.subplots(figsize=(12,8))\n",
    "\n",
    "rects1 = ax.bar(x_ticks - width/8, frequency_sjdr_3['%'].to_list(), label='Dias de semana')\n",
    "rects2 = ax.bar(x_ticks + width/8, frequency_weekend_sjdr_3['%'].to_list(), label='Fins de semana')\n",
    "\n",
    "ax.set_ylabel('Frequência de locais visitados')\n",
    "ax.set_xlabel('Número de locais visitados')\n",
    "ax.set_xticks(x_ticks)\n",
    "ax.set_xticklabels(labels)\n",
    "ax.legend()\n",
    "\n",
    "\n",
    "ax.bar_label(rects1)\n",
    "ax.bar_label(rects2)\n",
    "\n",
    "fig.tight_layout()\n",
    "\n",
    "plt.show()\n"
   ]
  },
  {
   "cell_type": "code",
   "execution_count": null,
   "metadata": {},
   "outputs": [],
   "source": [
    "frequency_sjdr_3['QUANTITY_LOCALS'].to_list()"
   ]
  },
  {
   "cell_type": "code",
   "execution_count": null,
   "metadata": {},
   "outputs": [],
   "source": [
    "G = nx.MultiDiGraph()\n",
    "G.add_nodes_from(df_tr2['USER_REDUCED'], bipartite = 1)\n",
    "user = [v for v in G.nodes if G.nodes[v]['bipartite'] == 1]\n",
    "\n",
    "G.add_nodes_from(df_tr2['ANTENNA_ID'], bipartite = 0)\n",
    "antennas = [v for v in G.nodes if G.nodes[v]['bipartite'] == 0]\n",
    "\n",
    "G.add_edges_from(df_tr2[['USER_REDUCED','ANTENNA_ID']].values)\n",
    "\n",
    "d = graphviz.Digraph(format='png')\n",
    "for n in user:\n",
    "    d.node(str(n), color='red', label=n, size='2')\n",
    "\n",
    "for n in antennas:\n",
    "    d.node(str(n), color='green', label=n, size='2')\n",
    "\n",
    "for (u,v) in G.edges():\n",
    "    d.edge(str(u), str(v))\n",
    "\n",
    "d.attr(size='10')\n",
    "\n",
    "d.engine='circo'\n",
    "d"
   ]
  },
  {
   "cell_type": "code",
   "execution_count": null,
   "metadata": {},
   "outputs": [],
   "source": [
    "G.number_of_edges()"
   ]
  }
 ],
 "metadata": {
  "kernelspec": {
   "display_name": "Python 3",
   "language": "python",
   "name": "python3"
  },
  "language_info": {
   "codemirror_mode": {
    "name": "ipython",
    "version": 3
   },
   "file_extension": ".py",
   "mimetype": "text/x-python",
   "name": "python",
   "nbconvert_exporter": "python",
   "pygments_lexer": "ipython3",
   "version": "3.7.3"
  }
 },
 "nbformat": 4,
 "nbformat_minor": 2
}
