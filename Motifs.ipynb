{
 "cells": [
  {
   "cell_type": "code",
   "execution_count": 1,
   "metadata": {},
   "outputs": [],
   "source": [
    "import pandas as pd\n",
    "import networkx as nx\n",
    "import matplotlib.pyplot as plt\n",
    "import graphviz\n",
    "import warnings\n",
    "import numpy as np\n",
    "warnings.filterwarnings('ignore')"
   ]
  },
  {
   "cell_type": "markdown",
   "metadata": {},
   "source": [
    "# Leitura dos Dataframes"
   ]
  },
  {
   "cell_type": "markdown",
   "metadata": {},
   "source": [
    "São João Del Rei - Dias de semana"
   ]
  },
  {
   "cell_type": "code",
   "execution_count": 2,
   "metadata": {},
   "outputs": [],
   "source": [
    "df_monday_sjdr = pd.read_csv('/home/gustavo/Desktop/Mestrado/mestrado_dados/CDR_by_day_of_week/cdr_monday.csv', index_col=False)\n",
    "df_monday_sjdr.drop(columns={'Unnamed: 0'}, inplace=True)\n",
    "\n",
    "df_tuesday_sjdr = pd.read_csv('/home/gustavo/Desktop/Mestrado/mestrado_dados/CDR_by_day_of_week/cdr_tuesday.csv')\n",
    "df_tuesday_sjdr.drop(columns={'Unnamed: 0'}, inplace=True)\n",
    "\n",
    "df_wednesday_sjdr = pd.read_csv('/home/gustavo/Desktop/Mestrado/mestrado_dados/CDR_by_day_of_week/cdr_wednesday.csv')\n",
    "df_wednesday_sjdr.drop(columns={'Unnamed: 0'}, inplace=True)\n",
    "\n",
    "df_thursday_sjdr = pd.read_csv('/home/gustavo/Desktop/Mestrado/mestrado_dados/CDR_by_day_of_week/cdr_thursday.csv')\n",
    "df_thursday_sjdr.drop(columns={'Unnamed: 0'}, inplace=True)\n",
    "\n",
    "df_friday_sjdr = pd.read_csv('/home/gustavo/Desktop/Mestrado/mestrado_dados/CDR_by_day_of_week/cdr_friday.csv')\n",
    "df_friday_sjdr.drop(columns={'Unnamed: 0'}, inplace=True)"
   ]
  },
  {
   "cell_type": "markdown",
   "metadata": {},
   "source": [
    "São João Del Rei - Fins de semana"
   ]
  },
  {
   "cell_type": "code",
   "execution_count": 3,
   "metadata": {},
   "outputs": [],
   "source": [
    "df_saturday_sjdr = pd.read_csv('/home/gustavo/Desktop/Mestrado/mestrado_dados/CDR_by_day_of_week/cdr_saturday.csv')\n",
    "df_saturday_sjdr.drop(columns={'Unnamed: 0'}, inplace=True)\n",
    "\n",
    "df_sunday_sjdr = pd.read_csv('/home/gustavo/Desktop/Mestrado/mestrado_dados/CDR_by_day_of_week/cdr_sunday.csv')\n",
    "df_sunday_sjdr.drop(columns={'Unnamed: 0'}, inplace=True)"
   ]
  },
  {
   "cell_type": "markdown",
   "metadata": {},
   "source": [
    "# Funções para obter a frequência de visitação dos indivíduos baseado em sua residência presumida por classe econômica"
   ]
  },
  {
   "cell_type": "code",
   "execution_count": 4,
   "metadata": {},
   "outputs": [],
   "source": [
    "def create_df_weekdays(df_monday,df_tuesday, df_wednesday, df_thursday, df_friday):\n",
    "    df_weekdays = df_monday.append([df_tuesday, df_wednesday, df_thursday, df_friday])\n",
    "    df_weekdays.rename(columns={'USER_FROM': 'USER'}, inplace=True)\n",
    "    return df_weekdays\n",
    "\n",
    "def create_df_weekendays(df_saturday, df_sunday):\n",
    "    df_weekend_days = df_saturday.append(df_sunday)\n",
    "    df_weekend_days.rename(columns={'USER_FROM': 'USER'}, inplace=True)\n",
    "    return df_weekend_days"
   ]
  },
  {
   "cell_type": "code",
   "execution_count": 5,
   "metadata": {},
   "outputs": [],
   "source": [
    "def merge_residence_weekday(path, df_weekdays):\n",
    "    df_presumed_residence = pd.read_csv(path)\n",
    "    df = pd.merge(df_weekdays, df_presumed_residence, on='USER')\n",
    "    df = df[['DATE', 'USER', 'DAY_OF_WEEK', 'PRESUMED_RESIDENCE', 'CALL_LOC', 'TRAVELLED_DISTANCE']]\n",
    "    df = df.groupby(['DATE', 'USER', 'CALL_LOC']).first().reset_index()\n",
    "    df['CALL_LOC'] = df['CALL_LOC'].apply(lambda x: x.strip('][').split(', '))\n",
    "    df['CALL_LOC'] = df['CALL_LOC'].apply(lambda x: set(x))\n",
    "    df['CLASS_LOCATION_CALL'] = df['PRESUMED_RESIDENCE'].map(classe_sjdr)\n",
    "    return df\n",
    "\n",
    "def classe_sjdr(i):\n",
    "    if (i.startswith('SJDR')) | (i.startswith('TR')):\n",
    "        return 3\n",
    "    else:\n",
    "        return 2"
   ]
  },
  {
   "cell_type": "code",
   "execution_count": 6,
   "metadata": {},
   "outputs": [],
   "source": [
    "def get_motifs_by_classes(classe, df):\n",
    "    df_classe = df[df['CLASS_LOCATION_CALL'] == classe]\n",
    "    df_classe['CALL_LOC'] = df_classe['CALL_LOC'].apply(lambda x: frozenset(x))\n",
    "    frequency = df_classe[['CALL_LOC', 'PRESUMED_RESIDENCE']].value_counts()\n",
    "    df_frequency = frequency.to_frame().reset_index()\n",
    "    df_frequency.rename(columns={0: 'FREQUENCY'}, inplace=True)\n",
    "    df_motifs = df_classe[['CALL_LOC', 'PRESUMED_RESIDENCE']]\n",
    "    df_motifs['CALL_LOC'] = df_motifs['CALL_LOC'].apply(lambda x: frozenset(x))\n",
    "    df_motifs = df_motifs.groupby(['CALL_LOC', 'PRESUMED_RESIDENCE']).first().reset_index()\n",
    "    df_motifs = pd.merge(df_motifs, df_frequency, on=['CALL_LOC', 'PRESUMED_RESIDENCE'])\n",
    "    df_motifs['%'] = [round((x/len(df_classe) * 100), 3) for x in df_motifs['FREQUENCY']]\n",
    "    return df_motifs\n",
    "\n",
    "def get_frequency_by_local(df_motifs):\n",
    "    df_motifs['CALL_LOC'] = [list(x) for x in df_motifs['CALL_LOC']]\n",
    "    df_motifs['QUANTITY_LOCALS'] = [(len(x) -1) for x in df_motifs['CALL_LOC']]\n",
    "    df_motifs = df_motifs[['%', 'QUANTITY_LOCALS']]\n",
    "    df_motifs = df_motifs.groupby('QUANTITY_LOCALS').sum().reset_index()\n",
    "    return df_motifs"
   ]
  },
  {
   "cell_type": "markdown",
   "metadata": {},
   "source": [
    "# Frequência de motifs em São João Del Rei"
   ]
  },
  {
   "cell_type": "markdown",
   "metadata": {},
   "source": [
    "Classe econômica 2 Dias de semana"
   ]
  },
  {
   "cell_type": "code",
   "execution_count": 19,
   "metadata": {},
   "outputs": [],
   "source": [
    "df_weekdays_sjdr = create_df_weekdays(df_monday_sjdr, df_tuesday_sjdr, df_wednesday_sjdr, df_thursday_sjdr, df_friday_sjdr)\n",
    "path_sjdr = '/home/gustavo/Desktop/Mestrado/mestrado_dados/Regiao_Presumida/df_final.csv'"
   ]
  },
  {
   "cell_type": "code",
   "execution_count": 20,
   "metadata": {},
   "outputs": [
    {
     "data": {
      "text/html": [
       "<div>\n",
       "<style scoped>\n",
       "    .dataframe tbody tr th:only-of-type {\n",
       "        vertical-align: middle;\n",
       "    }\n",
       "\n",
       "    .dataframe tbody tr th {\n",
       "        vertical-align: top;\n",
       "    }\n",
       "\n",
       "    .dataframe thead th {\n",
       "        text-align: right;\n",
       "    }\n",
       "</style>\n",
       "<table border=\"1\" class=\"dataframe\">\n",
       "  <thead>\n",
       "    <tr style=\"text-align: right;\">\n",
       "      <th></th>\n",
       "      <th>QUANTITY_LOCALS</th>\n",
       "      <th>%</th>\n",
       "    </tr>\n",
       "  </thead>\n",
       "  <tbody>\n",
       "    <tr>\n",
       "      <th>0</th>\n",
       "      <td>0</td>\n",
       "      <td>94.997</td>\n",
       "    </tr>\n",
       "    <tr>\n",
       "      <th>1</th>\n",
       "      <td>1</td>\n",
       "      <td>4.600</td>\n",
       "    </tr>\n",
       "    <tr>\n",
       "      <th>2</th>\n",
       "      <td>2</td>\n",
       "      <td>0.346</td>\n",
       "    </tr>\n",
       "    <tr>\n",
       "      <th>3</th>\n",
       "      <td>3</td>\n",
       "      <td>0.055</td>\n",
       "    </tr>\n",
       "  </tbody>\n",
       "</table>\n",
       "</div>"
      ],
      "text/plain": [
       "   QUANTITY_LOCALS       %\n",
       "0                0  94.997\n",
       "1                1   4.600\n",
       "2                2   0.346\n",
       "3                3   0.055"
      ]
     },
     "execution_count": 20,
     "metadata": {},
     "output_type": "execute_result"
    }
   ],
   "source": [
    "df_sjdr = merge_residence_weekday(path_sjdr, df_weekdays_sjdr)\n",
    "df_motif_sjdr_2 = get_motifs_by_classes(2, df_sjdr)\n",
    "frequency_sjdr_2 = get_frequency_by_local(df_motif_sjdr_2)\n",
    "frequency_sjdr_2"
   ]
  },
  {
   "cell_type": "code",
   "execution_count": 31,
   "metadata": {},
   "outputs": [
    {
     "data": {
      "text/plain": [
       "73"
      ]
     },
     "execution_count": 31,
     "metadata": {},
     "output_type": "execute_result"
    }
   ],
   "source": [
    "df_motif_sjdr_2['CALL_LOC'] = df_motif_sjdr_2['CALL_LOC'].apply(lambda x: tuple(x))\n",
    "len(pd.unique(df_motif_sjdr_2[['CALL_LOC', 'PRESUMED_RESIDENCE']].values.ravel('K')))\n"
   ]
  },
  {
   "cell_type": "markdown",
   "metadata": {},
   "source": [
    "Classe econômica 2 - fins de semana"
   ]
  },
  {
   "cell_type": "code",
   "execution_count": 21,
   "metadata": {},
   "outputs": [
    {
     "data": {
      "text/html": [
       "<div>\n",
       "<style scoped>\n",
       "    .dataframe tbody tr th:only-of-type {\n",
       "        vertical-align: middle;\n",
       "    }\n",
       "\n",
       "    .dataframe tbody tr th {\n",
       "        vertical-align: top;\n",
       "    }\n",
       "\n",
       "    .dataframe thead th {\n",
       "        text-align: right;\n",
       "    }\n",
       "</style>\n",
       "<table border=\"1\" class=\"dataframe\">\n",
       "  <thead>\n",
       "    <tr style=\"text-align: right;\">\n",
       "      <th></th>\n",
       "      <th>QUANTITY_LOCALS</th>\n",
       "      <th>%</th>\n",
       "    </tr>\n",
       "  </thead>\n",
       "  <tbody>\n",
       "    <tr>\n",
       "      <th>0</th>\n",
       "      <td>0</td>\n",
       "      <td>94.432</td>\n",
       "    </tr>\n",
       "    <tr>\n",
       "      <th>1</th>\n",
       "      <td>1</td>\n",
       "      <td>5.095</td>\n",
       "    </tr>\n",
       "    <tr>\n",
       "      <th>2</th>\n",
       "      <td>2</td>\n",
       "      <td>0.420</td>\n",
       "    </tr>\n",
       "    <tr>\n",
       "      <th>3</th>\n",
       "      <td>3</td>\n",
       "      <td>0.053</td>\n",
       "    </tr>\n",
       "  </tbody>\n",
       "</table>\n",
       "</div>"
      ],
      "text/plain": [
       "   QUANTITY_LOCALS       %\n",
       "0                0  94.432\n",
       "1                1   5.095\n",
       "2                2   0.420\n",
       "3                3   0.053"
      ]
     },
     "execution_count": 21,
     "metadata": {},
     "output_type": "execute_result"
    }
   ],
   "source": [
    "df_weekend_sjdr = create_df_weekendays(df_saturday_sjdr, df_sunday_sjdr)\n",
    "df_sjdr_weekend = merge_residence_weekday(path_sjdr, df_weekend_sjdr)\n",
    "df_motif_weekend_sjdr_2 = get_motifs_by_classes(2, df_sjdr_weekend)\n",
    "frequency_weekend_sjdr_2 = get_frequency_by_local(df_motif_weekend_sjdr_2)\n",
    "frequency_weekend_sjdr_2"
   ]
  },
  {
   "cell_type": "code",
   "execution_count": 36,
   "metadata": {},
   "outputs": [
    {
     "data": {
      "text/html": [
       "<div>\n",
       "<style scoped>\n",
       "    .dataframe tbody tr th:only-of-type {\n",
       "        vertical-align: middle;\n",
       "    }\n",
       "\n",
       "    .dataframe tbody tr th {\n",
       "        vertical-align: top;\n",
       "    }\n",
       "\n",
       "    .dataframe thead th {\n",
       "        text-align: right;\n",
       "    }\n",
       "</style>\n",
       "<table border=\"1\" class=\"dataframe\">\n",
       "  <thead>\n",
       "    <tr style=\"text-align: right;\">\n",
       "      <th></th>\n",
       "      <th>CALL_LOC</th>\n",
       "      <th>PRESUMED_RESIDENCE</th>\n",
       "      <th>FREQUENCY</th>\n",
       "      <th>%</th>\n",
       "      <th>QUANTITY_LOCALS</th>\n",
       "    </tr>\n",
       "  </thead>\n",
       "  <tbody>\n",
       "    <tr>\n",
       "      <th>0</th>\n",
       "      <td>('RT',)</td>\n",
       "      <td>RT</td>\n",
       "      <td>15511</td>\n",
       "      <td>27.510</td>\n",
       "      <td>0</td>\n",
       "    </tr>\n",
       "    <tr>\n",
       "      <th>29</th>\n",
       "      <td>('SVM',)</td>\n",
       "      <td>SVM</td>\n",
       "      <td>23111</td>\n",
       "      <td>40.989</td>\n",
       "      <td>0</td>\n",
       "    </tr>\n",
       "    <tr>\n",
       "      <th>38</th>\n",
       "      <td>('LD1',)</td>\n",
       "      <td>LD1</td>\n",
       "      <td>10161</td>\n",
       "      <td>18.021</td>\n",
       "      <td>0</td>\n",
       "    </tr>\n",
       "    <tr>\n",
       "      <th>39</th>\n",
       "      <td>('MDM',)</td>\n",
       "      <td>MDM</td>\n",
       "      <td>4427</td>\n",
       "      <td>7.852</td>\n",
       "      <td>0</td>\n",
       "    </tr>\n",
       "    <tr>\n",
       "      <th>50</th>\n",
       "      <td>('ST',)</td>\n",
       "      <td>ST</td>\n",
       "      <td>34</td>\n",
       "      <td>0.060</td>\n",
       "      <td>0</td>\n",
       "    </tr>\n",
       "  </tbody>\n",
       "</table>\n",
       "</div>"
      ],
      "text/plain": [
       "    CALL_LOC PRESUMED_RESIDENCE  FREQUENCY       %  QUANTITY_LOCALS\n",
       "0    ('RT',)                 RT      15511  27.510                0\n",
       "29  ('SVM',)                SVM      23111  40.989                0\n",
       "38  ('LD1',)                LD1      10161  18.021                0\n",
       "39  ('MDM',)                MDM       4427   7.852                0\n",
       "50   ('ST',)                 ST         34   0.060                0"
      ]
     },
     "execution_count": 36,
     "metadata": {},
     "output_type": "execute_result"
    }
   ],
   "source": [
    "df_motif_weekend_sjdr_2['CALL_LOC'] = df_motif_weekend_sjdr_2['CALL_LOC'].apply(lambda x: tuple(x))\n",
    "#len(pd.unique(df_motif_weekend_sjdr_2[['CALL_LOC', 'PRESUMED_RESIDENCE']].values.ravel('K')))\n",
    "df_motif_weekend_sjdr_2[df_motif_weekend_sjdr_2['QUANTITY_LOCALS'] == 0]"
   ]
  },
  {
   "cell_type": "markdown",
   "metadata": {},
   "source": [
    "Classe econômica 3 - Dia de semana"
   ]
  },
  {
   "cell_type": "code",
   "execution_count": 22,
   "metadata": {},
   "outputs": [
    {
     "data": {
      "text/html": [
       "<div>\n",
       "<style scoped>\n",
       "    .dataframe tbody tr th:only-of-type {\n",
       "        vertical-align: middle;\n",
       "    }\n",
       "\n",
       "    .dataframe tbody tr th {\n",
       "        vertical-align: top;\n",
       "    }\n",
       "\n",
       "    .dataframe thead th {\n",
       "        text-align: right;\n",
       "    }\n",
       "</style>\n",
       "<table border=\"1\" class=\"dataframe\">\n",
       "  <thead>\n",
       "    <tr style=\"text-align: right;\">\n",
       "      <th></th>\n",
       "      <th>QUANTITY_LOCALS</th>\n",
       "      <th>%</th>\n",
       "    </tr>\n",
       "  </thead>\n",
       "  <tbody>\n",
       "    <tr>\n",
       "      <th>0</th>\n",
       "      <td>0</td>\n",
       "      <td>76.565</td>\n",
       "    </tr>\n",
       "    <tr>\n",
       "      <th>1</th>\n",
       "      <td>1</td>\n",
       "      <td>19.074</td>\n",
       "    </tr>\n",
       "    <tr>\n",
       "      <th>2</th>\n",
       "      <td>2</td>\n",
       "      <td>3.644</td>\n",
       "    </tr>\n",
       "    <tr>\n",
       "      <th>3</th>\n",
       "      <td>3</td>\n",
       "      <td>0.635</td>\n",
       "    </tr>\n",
       "    <tr>\n",
       "      <th>4</th>\n",
       "      <td>4</td>\n",
       "      <td>0.088</td>\n",
       "    </tr>\n",
       "    <tr>\n",
       "      <th>5</th>\n",
       "      <td>5</td>\n",
       "      <td>0.001</td>\n",
       "    </tr>\n",
       "  </tbody>\n",
       "</table>\n",
       "</div>"
      ],
      "text/plain": [
       "   QUANTITY_LOCALS       %\n",
       "0                0  76.565\n",
       "1                1  19.074\n",
       "2                2   3.644\n",
       "3                3   0.635\n",
       "4                4   0.088\n",
       "5                5   0.001"
      ]
     },
     "execution_count": 22,
     "metadata": {},
     "output_type": "execute_result"
    }
   ],
   "source": [
    "df_motif_sjdr_3 = get_motifs_by_classes(3, df_sjdr)\n",
    "frequency_sjdr_3 = get_frequency_by_local(df_motif_sjdr_3)\n",
    "frequency_sjdr_3"
   ]
  },
  {
   "cell_type": "code",
   "execution_count": 43,
   "metadata": {},
   "outputs": [
    {
     "data": {
      "text/html": [
       "<div>\n",
       "<style scoped>\n",
       "    .dataframe tbody tr th:only-of-type {\n",
       "        vertical-align: middle;\n",
       "    }\n",
       "\n",
       "    .dataframe tbody tr th {\n",
       "        vertical-align: top;\n",
       "    }\n",
       "\n",
       "    .dataframe thead th {\n",
       "        text-align: right;\n",
       "    }\n",
       "</style>\n",
       "<table border=\"1\" class=\"dataframe\">\n",
       "  <thead>\n",
       "    <tr style=\"text-align: right;\">\n",
       "      <th></th>\n",
       "      <th>CALL_LOC</th>\n",
       "      <th>PRESUMED_RESIDENCE</th>\n",
       "      <th>FREQUENCY</th>\n",
       "      <th>%</th>\n",
       "      <th>QUANTITY_LOCALS</th>\n",
       "    </tr>\n",
       "  </thead>\n",
       "  <tbody>\n",
       "    <tr>\n",
       "      <th>0</th>\n",
       "      <td>('SJDR1',)</td>\n",
       "      <td>SJDR1</td>\n",
       "      <td>72242</td>\n",
       "      <td>20.555</td>\n",
       "      <td>0</td>\n",
       "    </tr>\n",
       "    <tr>\n",
       "      <th>30</th>\n",
       "      <td>('SJDR3',)</td>\n",
       "      <td>SJDR3</td>\n",
       "      <td>18347</td>\n",
       "      <td>5.220</td>\n",
       "      <td>0</td>\n",
       "    </tr>\n",
       "    <tr>\n",
       "      <th>79</th>\n",
       "      <td>('TR2',)</td>\n",
       "      <td>TR2</td>\n",
       "      <td>13</td>\n",
       "      <td>0.004</td>\n",
       "      <td>0</td>\n",
       "    </tr>\n",
       "    <tr>\n",
       "      <th>110</th>\n",
       "      <td>('TR1',)</td>\n",
       "      <td>TR1</td>\n",
       "      <td>1818</td>\n",
       "      <td>0.517</td>\n",
       "      <td>0</td>\n",
       "    </tr>\n",
       "    <tr>\n",
       "      <th>117</th>\n",
       "      <td>('SJDR4',)</td>\n",
       "      <td>SJDR4</td>\n",
       "      <td>109140</td>\n",
       "      <td>31.053</td>\n",
       "      <td>0</td>\n",
       "    </tr>\n",
       "    <tr>\n",
       "      <th>118</th>\n",
       "      <td>('SJDR5',)</td>\n",
       "      <td>SJDR5</td>\n",
       "      <td>43105</td>\n",
       "      <td>12.264</td>\n",
       "      <td>0</td>\n",
       "    </tr>\n",
       "    <tr>\n",
       "      <th>134</th>\n",
       "      <td>('SJDR2',)</td>\n",
       "      <td>SJDR2</td>\n",
       "      <td>24433</td>\n",
       "      <td>6.952</td>\n",
       "      <td>0</td>\n",
       "    </tr>\n",
       "  </tbody>\n",
       "</table>\n",
       "</div>"
      ],
      "text/plain": [
       "       CALL_LOC PRESUMED_RESIDENCE  FREQUENCY       %  QUANTITY_LOCALS\n",
       "0    ('SJDR1',)              SJDR1      72242  20.555                0\n",
       "30   ('SJDR3',)              SJDR3      18347   5.220                0\n",
       "79     ('TR2',)                TR2         13   0.004                0\n",
       "110    ('TR1',)                TR1       1818   0.517                0\n",
       "117  ('SJDR4',)              SJDR4     109140  31.053                0\n",
       "118  ('SJDR5',)              SJDR5      43105  12.264                0\n",
       "134  ('SJDR2',)              SJDR2      24433   6.952                0"
      ]
     },
     "execution_count": 43,
     "metadata": {},
     "output_type": "execute_result"
    }
   ],
   "source": [
    "df_motif_sjdr_3['CALL_LOC'] = df_motif_sjdr_3['CALL_LOC'].apply(lambda x: tuple(x))\n",
    "#len(pd.unique(df_motif_sjdr_3[['CALL_LOC', 'PRESUMED_RESIDENCE']].values.ravel('K')))\n",
    "df_motif_sjdr_3[df_motif_sjdr_3['QUANTITY_LOCALS'] == 0]"
   ]
  },
  {
   "cell_type": "code",
   "execution_count": 44,
   "metadata": {},
   "outputs": [
    {
     "data": {
      "text/html": [
       "<div>\n",
       "<style scoped>\n",
       "    .dataframe tbody tr th:only-of-type {\n",
       "        vertical-align: middle;\n",
       "    }\n",
       "\n",
       "    .dataframe tbody tr th {\n",
       "        vertical-align: top;\n",
       "    }\n",
       "\n",
       "    .dataframe thead th {\n",
       "        text-align: right;\n",
       "    }\n",
       "</style>\n",
       "<table border=\"1\" class=\"dataframe\">\n",
       "  <thead>\n",
       "    <tr style=\"text-align: right;\">\n",
       "      <th></th>\n",
       "      <th>CALL_LOC</th>\n",
       "      <th>PRESUMED_RESIDENCE</th>\n",
       "      <th>FREQUENCY</th>\n",
       "      <th>%</th>\n",
       "      <th>QUANTITY_LOCALS</th>\n",
       "    </tr>\n",
       "  </thead>\n",
       "  <tbody>\n",
       "    <tr>\n",
       "      <th>0</th>\n",
       "      <td>('SJDR1',)</td>\n",
       "      <td>SJDR1</td>\n",
       "      <td>23891</td>\n",
       "      <td>19.530</td>\n",
       "      <td>0</td>\n",
       "    </tr>\n",
       "    <tr>\n",
       "      <th>6</th>\n",
       "      <td>('TR2',)</td>\n",
       "      <td>TR2</td>\n",
       "      <td>3</td>\n",
       "      <td>0.002</td>\n",
       "      <td>0</td>\n",
       "    </tr>\n",
       "    <tr>\n",
       "      <th>25</th>\n",
       "      <td>('SJDR5',)</td>\n",
       "      <td>SJDR5</td>\n",
       "      <td>14342</td>\n",
       "      <td>11.724</td>\n",
       "      <td>0</td>\n",
       "    </tr>\n",
       "    <tr>\n",
       "      <th>65</th>\n",
       "      <td>('SJDR2',)</td>\n",
       "      <td>SJDR2</td>\n",
       "      <td>8085</td>\n",
       "      <td>6.609</td>\n",
       "      <td>0</td>\n",
       "    </tr>\n",
       "    <tr>\n",
       "      <th>100</th>\n",
       "      <td>('SJDR4',)</td>\n",
       "      <td>SJDR4</td>\n",
       "      <td>40345</td>\n",
       "      <td>32.980</td>\n",
       "      <td>0</td>\n",
       "    </tr>\n",
       "    <tr>\n",
       "      <th>103</th>\n",
       "      <td>('TR1',)</td>\n",
       "      <td>TR1</td>\n",
       "      <td>544</td>\n",
       "      <td>0.445</td>\n",
       "      <td>0</td>\n",
       "    </tr>\n",
       "    <tr>\n",
       "      <th>129</th>\n",
       "      <td>('SJDR3',)</td>\n",
       "      <td>SJDR3</td>\n",
       "      <td>4932</td>\n",
       "      <td>4.032</td>\n",
       "      <td>0</td>\n",
       "    </tr>\n",
       "  </tbody>\n",
       "</table>\n",
       "</div>"
      ],
      "text/plain": [
       "       CALL_LOC PRESUMED_RESIDENCE  FREQUENCY       %  QUANTITY_LOCALS\n",
       "0    ('SJDR1',)              SJDR1      23891  19.530                0\n",
       "6      ('TR2',)                TR2          3   0.002                0\n",
       "25   ('SJDR5',)              SJDR5      14342  11.724                0\n",
       "65   ('SJDR2',)              SJDR2       8085   6.609                0\n",
       "100  ('SJDR4',)              SJDR4      40345  32.980                0\n",
       "103    ('TR1',)                TR1        544   0.445                0\n",
       "129  ('SJDR3',)              SJDR3       4932   4.032                0"
      ]
     },
     "execution_count": 44,
     "metadata": {},
     "output_type": "execute_result"
    }
   ],
   "source": [
    "df_motif_weekend_sjdr_3['CALL_LOC'] = df_motif_weekend_sjdr_3['CALL_LOC'].apply(lambda x: tuple(x))\n",
    "len(pd.unique(df_motif_weekend_sjdr_3[['CALL_LOC', 'PRESUMED_RESIDENCE']].values.ravel('K')))\n",
    "df_motif_weekend_sjdr_3[df_motif_weekend_sjdr_3['QUANTITY_LOCALS'] == 0]"
   ]
  },
  {
   "cell_type": "code",
   "execution_count": 23,
   "metadata": {},
   "outputs": [
    {
     "data": {
      "text/html": [
       "<div>\n",
       "<style scoped>\n",
       "    .dataframe tbody tr th:only-of-type {\n",
       "        vertical-align: middle;\n",
       "    }\n",
       "\n",
       "    .dataframe tbody tr th {\n",
       "        vertical-align: top;\n",
       "    }\n",
       "\n",
       "    .dataframe thead th {\n",
       "        text-align: right;\n",
       "    }\n",
       "</style>\n",
       "<table border=\"1\" class=\"dataframe\">\n",
       "  <thead>\n",
       "    <tr style=\"text-align: right;\">\n",
       "      <th></th>\n",
       "      <th>QUANTITY_LOCALS</th>\n",
       "      <th>%</th>\n",
       "    </tr>\n",
       "  </thead>\n",
       "  <tbody>\n",
       "    <tr>\n",
       "      <th>0</th>\n",
       "      <td>0</td>\n",
       "      <td>75.322</td>\n",
       "    </tr>\n",
       "    <tr>\n",
       "      <th>1</th>\n",
       "      <td>1</td>\n",
       "      <td>20.063</td>\n",
       "    </tr>\n",
       "    <tr>\n",
       "      <th>2</th>\n",
       "      <td>2</td>\n",
       "      <td>3.788</td>\n",
       "    </tr>\n",
       "    <tr>\n",
       "      <th>3</th>\n",
       "      <td>3</td>\n",
       "      <td>0.729</td>\n",
       "    </tr>\n",
       "    <tr>\n",
       "      <th>4</th>\n",
       "      <td>4</td>\n",
       "      <td>0.099</td>\n",
       "    </tr>\n",
       "    <tr>\n",
       "      <th>5</th>\n",
       "      <td>5</td>\n",
       "      <td>0.003</td>\n",
       "    </tr>\n",
       "  </tbody>\n",
       "</table>\n",
       "</div>"
      ],
      "text/plain": [
       "   QUANTITY_LOCALS       %\n",
       "0                0  75.322\n",
       "1                1  20.063\n",
       "2                2   3.788\n",
       "3                3   0.729\n",
       "4                4   0.099\n",
       "5                5   0.003"
      ]
     },
     "execution_count": 23,
     "metadata": {},
     "output_type": "execute_result"
    }
   ],
   "source": [
    "df_weekend_sjdr = create_df_weekendays(df_saturday_sjdr, df_sunday_sjdr)\n",
    "df_sjdr_weekend = merge_residence_weekday(path_sjdr, df_weekend_sjdr)\n",
    "df_motif_weekend_sjdr_3 = get_motifs_by_classes(3, df_sjdr_weekend)\n",
    "frequency_weekend_sjdr_3 = get_frequency_by_local(df_motif_weekend_sjdr_3)\n",
    "frequency_weekend_sjdr_3"
   ]
  },
  {
   "cell_type": "code",
   "execution_count": 30,
   "metadata": {},
   "outputs": [
    {
     "data": {
      "text/html": [
       "<div>\n",
       "<style scoped>\n",
       "    .dataframe tbody tr th:only-of-type {\n",
       "        vertical-align: middle;\n",
       "    }\n",
       "\n",
       "    .dataframe tbody tr th {\n",
       "        vertical-align: top;\n",
       "    }\n",
       "\n",
       "    .dataframe thead th {\n",
       "        text-align: right;\n",
       "    }\n",
       "</style>\n",
       "<table border=\"1\" class=\"dataframe\">\n",
       "  <thead>\n",
       "    <tr style=\"text-align: right;\">\n",
       "      <th></th>\n",
       "      <th>QUANTITY_LOCALS</th>\n",
       "      <th>%</th>\n",
       "    </tr>\n",
       "  </thead>\n",
       "  <tbody>\n",
       "    <tr>\n",
       "      <th>0</th>\n",
       "      <td>0</td>\n",
       "      <td>76.565</td>\n",
       "    </tr>\n",
       "    <tr>\n",
       "      <th>1</th>\n",
       "      <td>1</td>\n",
       "      <td>19.074</td>\n",
       "    </tr>\n",
       "    <tr>\n",
       "      <th>2</th>\n",
       "      <td>2</td>\n",
       "      <td>3.644</td>\n",
       "    </tr>\n",
       "    <tr>\n",
       "      <th>3</th>\n",
       "      <td>3</td>\n",
       "      <td>0.635</td>\n",
       "    </tr>\n",
       "    <tr>\n",
       "      <th>4</th>\n",
       "      <td>4</td>\n",
       "      <td>0.088</td>\n",
       "    </tr>\n",
       "    <tr>\n",
       "      <th>5</th>\n",
       "      <td>5</td>\n",
       "      <td>0.001</td>\n",
       "    </tr>\n",
       "  </tbody>\n",
       "</table>\n",
       "</div>"
      ],
      "text/plain": [
       "   QUANTITY_LOCALS       %\n",
       "0                0  76.565\n",
       "1                1  19.074\n",
       "2                2   3.644\n",
       "3                3   0.635\n",
       "4                4   0.088\n",
       "5                5   0.001"
      ]
     },
     "execution_count": 30,
     "metadata": {},
     "output_type": "execute_result"
    }
   ],
   "source": [
    "frequency_sjdr_3"
   ]
  },
  {
   "cell_type": "code",
   "execution_count": 45,
   "metadata": {},
   "outputs": [
    {
     "data": {
      "image/png": "[encoded data removed]",
      "text/plain": [
       "<Figure size 864x576 with 1 Axes>"
      ]
     },
     "metadata": {
      "needs_background": "light"
     },
     "output_type": "display_data"
    }
   ],
   "source": [
    "labels = frequency_sjdr_3['QUANTITY_LOCALS'].to_list()\n",
    "x_ticks = np.arange(len(frequency_sjdr_3['QUANTITY_LOCALS'].to_list()))*2\n",
    "width = 0.40\n",
    "\n",
    "fig, ax = plt.subplots(figsize=(12,8))\n",
    "\n",
    "rects1 = ax.bar(x_ticks - width, frequency_sjdr_3['%'].to_list(), label='Dias de semana')\n",
    "rects2 = ax.bar(x_ticks + width, frequency_weekend_sjdr_3['%'].to_list(), label='Fins de semana')\n",
    "\n",
    "ax.set_ylabel('Frequência de locais visitados (%)')\n",
    "ax.set_xlabel('Número de locais visitados')\n",
    "ax.set_xticks(x_ticks)\n",
    "ax.set_xticklabels(labels)\n",
    "ax.legend()\n",
    "\n",
    "\n",
    "ax.bar_label(rects1)\n",
    "ax.bar_label(rects2)\n",
    "\n",
    "fig.tight_layout()\n",
    "#plt.title(\"Frequência de locais visitados por quantidade de locais \\nda classe econômica 3 - Região imediata de São João del Rei\")\n",
    "plt.savefig('/home/gustavo/Desktop/Mestrado/mestrado_dados/grafico_classe3.png')\n",
    "plt.show()\n"
   ]
  },
  {
   "cell_type": "code",
   "execution_count": 29,
   "metadata": {},
   "outputs": [
    {
     "data": {
      "image/png": "[encoded data removed]",
      "text/plain": [
       "<Figure size 864x576 with 1 Axes>"
      ]
     },
     "metadata": {
      "needs_background": "light"
     },
     "output_type": "display_data"
    }
   ],
   "source": [
    "labels = frequency_sjdr_2['QUANTITY_LOCALS'].to_list()\n",
    "x_ticks = np.arange(len(frequency_sjdr_2['QUANTITY_LOCALS'].to_list()))*2\n",
    "width = 0.40\n",
    "\n",
    "fig, ax = plt.subplots(figsize=(12,8))\n",
    "\n",
    "rects1 = ax.bar(x_ticks - width, frequency_sjdr_2['%'].to_list(), label='Dias de semana')\n",
    "rects2 = ax.bar(x_ticks + width, frequency_weekend_sjdr_2['%'].to_list(), label='Fins de semana')\n",
    "\n",
    "ax.set_ylabel('Frequência de locais visitados (%)')\n",
    "ax.set_xlabel('Número de locais visitados')\n",
    "ax.set_xticks(x_ticks)\n",
    "ax.set_xticklabels(labels)\n",
    "ax.legend()\n",
    "\n",
    "\n",
    "ax.bar_label(rects1)\n",
    "ax.bar_label(rects2)\n",
    "\n",
    "fig.tight_layout()\n",
    "#plt.title(\"Frequência de locais visitados por quantidade de locais \\nda classe econômica 2 - Região imediata de São João del Rei\")\n",
    "plt.savefig('/home/gustavo/Desktop/Mestrado/mestrado_dados/grafico_classe2.png')\n",
    "plt.show()\n"
   ]
  },
  {
   "cell_type": "code",
   "execution_count": null,
   "metadata": {},
   "outputs": [],
   "source": [
    "frequency_sjdr_3['QUANTITY_LOCALS'].to_list()"
   ]
  },
  {
   "cell_type": "code",
   "execution_count": null,
   "metadata": {},
   "outputs": [],
   "source": [
    "G = nx.MultiDiGraph()\n",
    "G.add_nodes_from(df_tr2['USER_REDUCED'], bipartite = 1)\n",
    "user = [v for v in G.nodes if G.nodes[v]['bipartite'] == 1]\n",
    "\n",
    "G.add_nodes_from(df_tr2['ANTENNA_ID'], bipartite = 0)\n",
    "antennas = [v for v in G.nodes if G.nodes[v]['bipartite'] == 0]\n",
    "\n",
    "G.add_edges_from(df_tr2[['USER_REDUCED','ANTENNA_ID']].values)\n",
    "\n",
    "d = graphviz.Digraph(format='png')\n",
    "for n in user:\n",
    "    d.node(str(n), color='red', label=n, size='2')\n",
    "\n",
    "for n in antennas:\n",
    "    d.node(str(n), color='green', label=n, size='2')\n",
    "\n",
    "for (u,v) in G.edges():\n",
    "    d.edge(str(u), str(v))\n",
    "\n",
    "d.attr(size='10')\n",
    "\n",
    "d.engine='circo'\n",
    "d"
   ]
  },
  {
   "cell_type": "code",
   "execution_count": null,
   "metadata": {},
   "outputs": [],
   "source": [
    "G.number_of_edges()"
   ]
  }
 ],
 "metadata": {
  "kernelspec": {
   "display_name": "Python 3",
   "language": "python",
   "name": "python3"
  },
  "language_info": {
   "codemirror_mode": {
    "name": "ipython",
    "version": 3
   },
   "file_extension": ".py",
   "mimetype": "text/x-python",
   "name": "python",
   "nbconvert_exporter": "python",
   "pygments_lexer": "ipython3",
   "version": "3.7.3"
  }
 },
 "nbformat": 4,
 "nbformat_minor": 2
}
