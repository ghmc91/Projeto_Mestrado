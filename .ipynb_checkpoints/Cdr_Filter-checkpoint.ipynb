{
 "cells": [
  {
   "cell_type": "code",
   "execution_count": 1,
   "metadata": {},
   "outputs": [],
   "source": [
    "import pandas as pd\n",
    "pd.set_option('float_format', '{:f}'.format)"
   ]
  },
  {
   "cell_type": "code",
   "execution_count": 2,
   "metadata": {},
   "outputs": [
    {
     "data": {
      "text/html": [
       "<div>\n",
       "<style scoped>\n",
       "    .dataframe tbody tr th:only-of-type {\n",
       "        vertical-align: middle;\n",
       "    }\n",
       "\n",
       "    .dataframe tbody tr th {\n",
       "        vertical-align: top;\n",
       "    }\n",
       "\n",
       "    .dataframe thead th {\n",
       "        text-align: right;\n",
       "    }\n",
       "</style>\n",
       "<table border=\"1\" class=\"dataframe\">\n",
       "  <thead>\n",
       "    <tr style=\"text-align: right;\">\n",
       "      <th></th>\n",
       "      <th>0</th>\n",
       "      <th>1</th>\n",
       "      <th>2</th>\n",
       "      <th>3</th>\n",
       "      <th>4</th>\n",
       "      <th>5</th>\n",
       "      <th>6</th>\n",
       "      <th>7</th>\n",
       "      <th>8</th>\n",
       "      <th>9</th>\n",
       "      <th>10</th>\n",
       "      <th>11</th>\n",
       "      <th>12</th>\n",
       "      <th>13</th>\n",
       "      <th>14</th>\n",
       "    </tr>\n",
       "  </thead>\n",
       "  <tbody>\n",
       "    <tr>\n",
       "      <th>0</th>\n",
       "      <td>2013-03-21</td>\n",
       "      <td>11:51:30</td>\n",
       "      <td>0.370000</td>\n",
       "      <td>32</td>\n",
       "      <td>5B5F2C071D12AF13219DF5EBE05132AF</td>\n",
       "      <td>32</td>\n",
       "      <td>9FB3B96B6D5E16C9DD564AA3E84F1954</td>\n",
       "      <td>50141</td>\n",
       "      <td>nan</td>\n",
       "      <td>117</td>\n",
       "      <td>LOCAL</td>\n",
       "      <td>OI</td>\n",
       "      <td>OI</td>\n",
       "      <td>PRE PAGO</td>\n",
       "      <td>300000533</td>\n",
       "    </tr>\n",
       "    <tr>\n",
       "      <th>1</th>\n",
       "      <td>2013-03-21</td>\n",
       "      <td>21:03:30</td>\n",
       "      <td>0.130000</td>\n",
       "      <td>61</td>\n",
       "      <td>B3299B0E587D7275E3E4D530E9EECF50</td>\n",
       "      <td>98</td>\n",
       "      <td>6432F1DF21BA38368D9A165C739EEBB3</td>\n",
       "      <td>51601</td>\n",
       "      <td>nan</td>\n",
       "      <td>195</td>\n",
       "      <td>LONGA DISTANCIA</td>\n",
       "      <td>BRT</td>\n",
       "      <td>OI</td>\n",
       "      <td>PRE PAGO</td>\n",
       "      <td>300000210</td>\n",
       "    </tr>\n",
       "    <tr>\n",
       "      <th>2</th>\n",
       "      <td>2013-03-21</td>\n",
       "      <td>17:33:20</td>\n",
       "      <td>0.330000</td>\n",
       "      <td>61</td>\n",
       "      <td>85D5C50A6D882CA8E4BB00BCA3574417</td>\n",
       "      <td>61</td>\n",
       "      <td>0D8583F810B9720A8032BB939F12B3FF</td>\n",
       "      <td>51601</td>\n",
       "      <td>nan</td>\n",
       "      <td>117</td>\n",
       "      <td>LOCAL</td>\n",
       "      <td>BRT</td>\n",
       "      <td>BRT</td>\n",
       "      <td>PRE PAGO</td>\n",
       "      <td>300000210</td>\n",
       "    </tr>\n",
       "    <tr>\n",
       "      <th>3</th>\n",
       "      <td>2013-03-21</td>\n",
       "      <td>11:58:26</td>\n",
       "      <td>1.270000</td>\n",
       "      <td>61</td>\n",
       "      <td>6C10A9E9F325CAA3CCB7F9A0D6983D2A</td>\n",
       "      <td>61</td>\n",
       "      <td>B0C50ED1DEC9E06E4C64E7419DDC4B09</td>\n",
       "      <td>51601</td>\n",
       "      <td>nan</td>\n",
       "      <td>117</td>\n",
       "      <td>LOCAL</td>\n",
       "      <td>BRT</td>\n",
       "      <td>BRT</td>\n",
       "      <td>PRE PAGO</td>\n",
       "      <td>300000210</td>\n",
       "    </tr>\n",
       "    <tr>\n",
       "      <th>4</th>\n",
       "      <td>2013-03-21</td>\n",
       "      <td>16:06:59</td>\n",
       "      <td>0.170000</td>\n",
       "      <td>61</td>\n",
       "      <td>29122DCF4189448865B03F24C2DFEAE6</td>\n",
       "      <td>61</td>\n",
       "      <td>E0B097D86BF9C02A23011610EBAF47FD</td>\n",
       "      <td>51601</td>\n",
       "      <td>nan</td>\n",
       "      <td>77</td>\n",
       "      <td>LOCAL</td>\n",
       "      <td>BRT</td>\n",
       "      <td>GVT</td>\n",
       "      <td>PRE PAGO</td>\n",
       "      <td>300000210</td>\n",
       "    </tr>\n",
       "  </tbody>\n",
       "</table>\n",
       "</div>"
      ],
      "text/plain": [
       "           0         1        2   3                                 4   5   \\\n",
       "0  2013-03-21  11:51:30 0.370000  32  5B5F2C071D12AF13219DF5EBE05132AF  32   \n",
       "1  2013-03-21  21:03:30 0.130000  61  B3299B0E587D7275E3E4D530E9EECF50  98   \n",
       "2  2013-03-21  17:33:20 0.330000  61  85D5C50A6D882CA8E4BB00BCA3574417  61   \n",
       "3  2013-03-21  11:58:26 1.270000  61  6C10A9E9F325CAA3CCB7F9A0D6983D2A  61   \n",
       "4  2013-03-21  16:06:59 0.170000  61  29122DCF4189448865B03F24C2DFEAE6  61   \n",
       "\n",
       "                                 6      7   8    9                10   11  \\\n",
       "0  9FB3B96B6D5E16C9DD564AA3E84F1954  50141 nan  117            LOCAL   OI   \n",
       "1  6432F1DF21BA38368D9A165C739EEBB3  51601 nan  195  LONGA DISTANCIA  BRT   \n",
       "2  0D8583F810B9720A8032BB939F12B3FF  51601 nan  117            LOCAL  BRT   \n",
       "3  B0C50ED1DEC9E06E4C64E7419DDC4B09  51601 nan  117            LOCAL  BRT   \n",
       "4  E0B097D86BF9C02A23011610EBAF47FD  51601 nan   77            LOCAL  BRT   \n",
       "\n",
       "    12        13         14  \n",
       "0   OI  PRE PAGO  300000533  \n",
       "1   OI  PRE PAGO  300000210  \n",
       "2  BRT  PRE PAGO  300000210  \n",
       "3  BRT  PRE PAGO  300000210  \n",
       "4  GVT  PRE PAGO  300000210  "
      ]
     },
     "execution_count": 2,
     "metadata": {},
     "output_type": "execute_result"
    }
   ],
   "source": [
    "cdr = pd.read_csv('/home/gustavo/Desktop/Mestrado/mestrado_dados/dados_18.11/cdr/cdr_regiao_imediata_sjdr.csv', sep=';', header=None)\n",
    "cdr.head()"
   ]
  },
  {
   "cell_type": "code",
   "execution_count": 3,
   "metadata": {},
   "outputs": [],
   "source": [
    "cdr.rename(columns={0:'DATE', 1:'HOUR', 2:'DURATION', 3:'DDD_USER_FROM',\n",
    "                    4:'USER_FROM', 5:'DDD_USER_TO', 6:'USER_TO', 7: 'ANTENNA'},inplace=True)\n",
    "cdr = cdr.drop(8,1)"
   ]
  },
  {
   "cell_type": "code",
   "execution_count": 4,
   "metadata": {},
   "outputs": [
    {
     "data": {
      "text/plain": [
       "'2013-03-21'"
      ]
     },
     "execution_count": 4,
     "metadata": {},
     "output_type": "execute_result"
    }
   ],
   "source": [
    "cdr['DATE'].min()"
   ]
  },
  {
   "cell_type": "code",
   "execution_count": 5,
   "metadata": {},
   "outputs": [
    {
     "data": {
      "text/plain": [
       "'2013-04-19'"
      ]
     },
     "execution_count": 5,
     "metadata": {},
     "output_type": "execute_result"
    }
   ],
   "source": [
    "cdr['DATE'].max()"
   ]
  },
  {
   "cell_type": "markdown",
   "metadata": {},
   "source": [
    "# Análise Exploratória"
   ]
  },
  {
   "cell_type": "markdown",
   "metadata": {},
   "source": [
    "Parte 1: Análise sobre os usuários"
   ]
  },
  {
   "cell_type": "code",
   "execution_count": 6,
   "metadata": {},
   "outputs": [
    {
     "data": {
      "text/plain": [
       "445162"
      ]
     },
     "execution_count": 6,
     "metadata": {},
     "output_type": "execute_result"
    }
   ],
   "source": [
    "#USER_FROM Distintos\n",
    "len(cdr['USER_FROM'].unique())"
   ]
  },
  {
   "cell_type": "code",
   "execution_count": 7,
   "metadata": {},
   "outputs": [
    {
     "data": {
      "text/plain": [
       "1198467"
      ]
     },
     "execution_count": 7,
     "metadata": {},
     "output_type": "execute_result"
    }
   ],
   "source": [
    "#USER_TO Distintos\n",
    "len(cdr['USER_TO'].unique())"
   ]
  },
  {
   "cell_type": "code",
   "execution_count": 8,
   "metadata": {},
   "outputs": [
    {
     "data": {
      "text/plain": [
       "1303639"
      ]
     },
     "execution_count": 8,
     "metadata": {},
     "output_type": "execute_result"
    }
   ],
   "source": [
    "#Id's distintos em USER_FROM e USER_TO\n",
    "len(pd.unique(cdr[['USER_FROM', 'USER_TO']].values.ravel('k')))"
   ]
  },
  {
   "cell_type": "markdown",
   "metadata": {},
   "source": [
    "\n",
    "# Parte 2: Análise sobre a duração das ligações"
   ]
  },
  {
   "cell_type": "code",
   "execution_count": 9,
   "metadata": {},
   "outputs": [
    {
     "data": {
      "text/plain": [
       "count   9293316.000000\n",
       "mean          1.496004\n",
       "std           8.311616\n",
       "min           0.000000\n",
       "25%           0.220000\n",
       "50%           0.600000\n",
       "75%           1.420000\n",
       "max        5758.000000\n",
       "Name: DURATION, dtype: float64"
      ]
     },
     "execution_count": 9,
     "metadata": {},
     "output_type": "execute_result"
    }
   ],
   "source": [
    "cdr['DURATION'].describe()"
   ]
  },
  {
   "cell_type": "code",
   "execution_count": 10,
   "metadata": {},
   "outputs": [
    {
     "data": {
      "text/plain": [
       "0.6"
      ]
     },
     "execution_count": 10,
     "metadata": {},
     "output_type": "execute_result"
    }
   ],
   "source": [
    "cdr['DURATION'].median()"
   ]
  },
  {
   "cell_type": "code",
   "execution_count": 13,
   "metadata": {},
   "outputs": [
    {
     "data": {
      "text/plain": [
       "439488"
      ]
     },
     "execution_count": 13,
     "metadata": {},
     "output_type": "execute_result"
    }
   ],
   "source": [
    "#USER_FROM Distintos\n",
    "len(cdr_new['USER_FROM'].unique())"
   ]
  },
  {
   "cell_type": "code",
   "execution_count": 14,
   "metadata": {},
   "outputs": [
    {
     "data": {
      "text/plain": [
       "1191551"
      ]
     },
     "execution_count": 14,
     "metadata": {},
     "output_type": "execute_result"
    }
   ],
   "source": [
    "#USER_TO Distintos\n",
    "len(cdr_new['USER_TO'].unique())"
   ]
  },
  {
   "cell_type": "code",
   "execution_count": 15,
   "metadata": {},
   "outputs": [
    {
     "data": {
      "text/plain": [
       "1303639"
      ]
     },
     "execution_count": 15,
     "metadata": {},
     "output_type": "execute_result"
    }
   ],
   "source": [
    "#Id's distintos em USER_FROM e USER_TO\n",
    "len(pd.unique(cdr[['USER_FROM', 'USER_TO']].values.ravel('k')))"
   ]
  },
  {
   "cell_type": "markdown",
   "metadata": {},
   "source": [
    "# Filtros da base"
   ]
  },
  {
   "cell_type": "markdown",
   "metadata": {},
   "source": [
    "Selecionando apenas registros onde a duração da ligação está entre 0.07 e 120 minutos"
   ]
  },
  {
   "cell_type": "code",
   "execution_count": 16,
   "metadata": {},
   "outputs": [],
   "source": [
    "cdr_new = cdr[cdr['DURATION'].between(0.07,120)]"
   ]
  },
  {
   "cell_type": "code",
   "execution_count": 17,
   "metadata": {},
   "outputs": [
    {
     "data": {
      "text/plain": [
       "9232332"
      ]
     },
     "execution_count": 17,
     "metadata": {},
     "output_type": "execute_result"
    }
   ],
   "source": [
    "len(cdr_new)"
   ]
  },
  {
   "cell_type": "code",
   "execution_count": 18,
   "metadata": {},
   "outputs": [
    {
     "data": {
      "text/plain": [
       "0.9934378643747829"
      ]
     },
     "execution_count": 18,
     "metadata": {},
     "output_type": "execute_result"
    }
   ],
   "source": [
    "#Mesmo com o filtro de duração, manteve-se pouco mais de 99% dos registros da base original\n",
    "len(cdr_new)/len(cdr)"
   ]
  },
  {
   "cell_type": "markdown",
   "metadata": {},
   "source": [
    "Filtrando a partir do número de ligações"
   ]
  },
  {
   "cell_type": "code",
   "execution_count": 19,
   "metadata": {},
   "outputs": [
    {
     "data": {
      "text/html": [
       "<div>\n",
       "<style scoped>\n",
       "    .dataframe tbody tr th:only-of-type {\n",
       "        vertical-align: middle;\n",
       "    }\n",
       "\n",
       "    .dataframe tbody tr th {\n",
       "        vertical-align: top;\n",
       "    }\n",
       "\n",
       "    .dataframe thead th {\n",
       "        text-align: right;\n",
       "    }\n",
       "</style>\n",
       "<table border=\"1\" class=\"dataframe\">\n",
       "  <thead>\n",
       "    <tr style=\"text-align: right;\">\n",
       "      <th></th>\n",
       "      <th>USER_FROM</th>\n",
       "      <th>QUANTITY_OF_CALLS</th>\n",
       "    </tr>\n",
       "  </thead>\n",
       "  <tbody>\n",
       "    <tr>\n",
       "      <th>1</th>\n",
       "      <td>000008B27F635FC0AFF9BAC21880B796</td>\n",
       "      <td>4</td>\n",
       "    </tr>\n",
       "    <tr>\n",
       "      <th>3</th>\n",
       "      <td>00002BC8FEAE1CB1EC0E1A8AF160B16E</td>\n",
       "      <td>12</td>\n",
       "    </tr>\n",
       "    <tr>\n",
       "      <th>4</th>\n",
       "      <td>00003F26576D1122848B6F3CEEC250E5</td>\n",
       "      <td>12</td>\n",
       "    </tr>\n",
       "    <tr>\n",
       "      <th>7</th>\n",
       "      <td>0000FFB82D6062A83F28FEE4D0BD5E4D</td>\n",
       "      <td>3</td>\n",
       "    </tr>\n",
       "    <tr>\n",
       "      <th>8</th>\n",
       "      <td>00014FE9BDE3EE54C61AB62700A1A2AF</td>\n",
       "      <td>14</td>\n",
       "    </tr>\n",
       "  </tbody>\n",
       "</table>\n",
       "</div>"
      ],
      "text/plain": [
       "                          USER_FROM  QUANTITY_OF_CALLS\n",
       "1  000008B27F635FC0AFF9BAC21880B796                  4\n",
       "3  00002BC8FEAE1CB1EC0E1A8AF160B16E                 12\n",
       "4  00003F26576D1122848B6F3CEEC250E5                 12\n",
       "7  0000FFB82D6062A83F28FEE4D0BD5E4D                  3\n",
       "8  00014FE9BDE3EE54C61AB62700A1A2AF                 14"
      ]
     },
     "execution_count": 19,
     "metadata": {},
     "output_type": "execute_result"
    }
   ],
   "source": [
    "#Selecionando os usuários com o número de ligações entre 3 e 500\n",
    "cdr_filter_by_quantity_of_call = cdr_new.groupby('USER_FROM').size().reset_index().rename(columns={0:'QUANTITY_OF_CALLS'})\n",
    "\n",
    "cdr_filter_by_quantity_of_call = cdr_filter_by_quantity_of_call.loc[(\n",
    "                                (cdr_filter_by_quantity_of_call['QUANTITY_OF_CALLS'] >= 3) \n",
    "                                & (cdr_filter_by_quantity_of_call['QUANTITY_OF_CALLS'] <= 500))]\n",
    "\n",
    "cdr_filter_by_quantity_of_call.head()"
   ]
  },
  {
   "cell_type": "code",
   "execution_count": 14,
   "metadata": {},
   "outputs": [
    {
     "data": {
      "text/html": [
       "<div>\n",
       "<style scoped>\n",
       "    .dataframe tbody tr th:only-of-type {\n",
       "        vertical-align: middle;\n",
       "    }\n",
       "\n",
       "    .dataframe tbody tr th {\n",
       "        vertical-align: top;\n",
       "    }\n",
       "\n",
       "    .dataframe thead th {\n",
       "        text-align: right;\n",
       "    }\n",
       "</style>\n",
       "<table border=\"1\" class=\"dataframe\">\n",
       "  <thead>\n",
       "    <tr style=\"text-align: right;\">\n",
       "      <th></th>\n",
       "      <th>USER_FROM</th>\n",
       "      <th>QUANTITY_OF_DAYS</th>\n",
       "    </tr>\n",
       "  </thead>\n",
       "  <tbody>\n",
       "    <tr>\n",
       "      <th>1</th>\n",
       "      <td>000008B27F635FC0AFF9BAC21880B796</td>\n",
       "      <td>3</td>\n",
       "    </tr>\n",
       "    <tr>\n",
       "      <th>3</th>\n",
       "      <td>00002BC8FEAE1CB1EC0E1A8AF160B16E</td>\n",
       "      <td>6</td>\n",
       "    </tr>\n",
       "    <tr>\n",
       "      <th>4</th>\n",
       "      <td>00003F26576D1122848B6F3CEEC250E5</td>\n",
       "      <td>9</td>\n",
       "    </tr>\n",
       "    <tr>\n",
       "      <th>7</th>\n",
       "      <td>0000FFB82D6062A83F28FEE4D0BD5E4D</td>\n",
       "      <td>3</td>\n",
       "    </tr>\n",
       "    <tr>\n",
       "      <th>8</th>\n",
       "      <td>00014FE9BDE3EE54C61AB62700A1A2AF</td>\n",
       "      <td>5</td>\n",
       "    </tr>\n",
       "  </tbody>\n",
       "</table>\n",
       "</div>"
      ],
      "text/plain": [
       "                          USER_FROM  QUANTITY_OF_DAYS\n",
       "1  000008B27F635FC0AFF9BAC21880B796                 3\n",
       "3  00002BC8FEAE1CB1EC0E1A8AF160B16E                 6\n",
       "4  00003F26576D1122848B6F3CEEC250E5                 9\n",
       "7  0000FFB82D6062A83F28FEE4D0BD5E4D                 3\n",
       "8  00014FE9BDE3EE54C61AB62700A1A2AF                 5"
      ]
     },
     "execution_count": 14,
     "metadata": {},
     "output_type": "execute_result"
    }
   ],
   "source": [
    "#Selecionando os usuários com pelo menos 3 ligações em dias distintos\n",
    "cdr_filter_by_quantity_of_days = cdr_new.groupby('USER_FROM').DATE.nunique().to_frame('QUANTITY_OF_DAYS').reset_index()\n",
    "cdr_filter_by_quantity_of_days = cdr_filter_by_quantity_of_days.loc[(cdr_filter_by_quantity_of_days['QUANTITY_OF_DAYS'] >= 3)]\n",
    "cdr_filter_by_quantity_of_days.head()"
   ]
  },
  {
   "cell_type": "code",
   "execution_count": 15,
   "metadata": {},
   "outputs": [
    {
     "data": {
      "text/html": [
       "<div>\n",
       "<style scoped>\n",
       "    .dataframe tbody tr th:only-of-type {\n",
       "        vertical-align: middle;\n",
       "    }\n",
       "\n",
       "    .dataframe tbody tr th {\n",
       "        vertical-align: top;\n",
       "    }\n",
       "\n",
       "    .dataframe thead th {\n",
       "        text-align: right;\n",
       "    }\n",
       "</style>\n",
       "<table border=\"1\" class=\"dataframe\">\n",
       "  <thead>\n",
       "    <tr style=\"text-align: right;\">\n",
       "      <th></th>\n",
       "      <th>USER_FROM</th>\n",
       "      <th>QUANTITY_OF_CALLS</th>\n",
       "      <th>QUANTITY_OF_DAYS</th>\n",
       "    </tr>\n",
       "  </thead>\n",
       "  <tbody>\n",
       "    <tr>\n",
       "      <th>0</th>\n",
       "      <td>000008B27F635FC0AFF9BAC21880B796</td>\n",
       "      <td>4</td>\n",
       "      <td>3</td>\n",
       "    </tr>\n",
       "    <tr>\n",
       "      <th>1</th>\n",
       "      <td>00002BC8FEAE1CB1EC0E1A8AF160B16E</td>\n",
       "      <td>12</td>\n",
       "      <td>6</td>\n",
       "    </tr>\n",
       "    <tr>\n",
       "      <th>2</th>\n",
       "      <td>00003F26576D1122848B6F3CEEC250E5</td>\n",
       "      <td>12</td>\n",
       "      <td>9</td>\n",
       "    </tr>\n",
       "    <tr>\n",
       "      <th>3</th>\n",
       "      <td>0000FFB82D6062A83F28FEE4D0BD5E4D</td>\n",
       "      <td>3</td>\n",
       "      <td>3</td>\n",
       "    </tr>\n",
       "    <tr>\n",
       "      <th>4</th>\n",
       "      <td>00014FE9BDE3EE54C61AB62700A1A2AF</td>\n",
       "      <td>14</td>\n",
       "      <td>5</td>\n",
       "    </tr>\n",
       "  </tbody>\n",
       "</table>\n",
       "</div>"
      ],
      "text/plain": [
       "                          USER_FROM  QUANTITY_OF_CALLS  QUANTITY_OF_DAYS\n",
       "0  000008B27F635FC0AFF9BAC21880B796                  4                 3\n",
       "1  00002BC8FEAE1CB1EC0E1A8AF160B16E                 12                 6\n",
       "2  00003F26576D1122848B6F3CEEC250E5                 12                 9\n",
       "3  0000FFB82D6062A83F28FEE4D0BD5E4D                  3                 3\n",
       "4  00014FE9BDE3EE54C61AB62700A1A2AF                 14                 5"
      ]
     },
     "execution_count": 15,
     "metadata": {},
     "output_type": "execute_result"
    }
   ],
   "source": [
    "#Interseção entre os dois dataframes (de ligações e dias com ligações)\n",
    "df_filter_over_call = pd.merge(cdr_filter_by_quantity_of_call, cdr_filter_by_quantity_of_days,\n",
    "                               how='inner',on=['USER_FROM'])\n",
    "\n",
    "df_filter_over_call.head()"
   ]
  },
  {
   "cell_type": "code",
   "execution_count": 16,
   "metadata": {},
   "outputs": [
    {
     "data": {
      "text/html": [
       "<div>\n",
       "<style scoped>\n",
       "    .dataframe tbody tr th:only-of-type {\n",
       "        vertical-align: middle;\n",
       "    }\n",
       "\n",
       "    .dataframe tbody tr th {\n",
       "        vertical-align: top;\n",
       "    }\n",
       "\n",
       "    .dataframe thead th {\n",
       "        text-align: right;\n",
       "    }\n",
       "</style>\n",
       "<table border=\"1\" class=\"dataframe\">\n",
       "  <thead>\n",
       "    <tr style=\"text-align: right;\">\n",
       "      <th></th>\n",
       "      <th>DATE</th>\n",
       "      <th>HOUR</th>\n",
       "      <th>DURATION</th>\n",
       "      <th>DDD_USER_FROM</th>\n",
       "      <th>USER_FROM</th>\n",
       "      <th>DDD_USER_TO</th>\n",
       "      <th>USER_TO</th>\n",
       "      <th>ANTENNA</th>\n",
       "      <th>9</th>\n",
       "      <th>10</th>\n",
       "      <th>11</th>\n",
       "      <th>12</th>\n",
       "      <th>13</th>\n",
       "      <th>14</th>\n",
       "    </tr>\n",
       "  </thead>\n",
       "  <tbody>\n",
       "    <tr>\n",
       "      <th>0</th>\n",
       "      <td>2013-03-21</td>\n",
       "      <td>11:51:30</td>\n",
       "      <td>0.370000</td>\n",
       "      <td>32</td>\n",
       "      <td>5B5F2C071D12AF13219DF5EBE05132AF</td>\n",
       "      <td>32</td>\n",
       "      <td>9FB3B96B6D5E16C9DD564AA3E84F1954</td>\n",
       "      <td>50141</td>\n",
       "      <td>117</td>\n",
       "      <td>LOCAL</td>\n",
       "      <td>OI</td>\n",
       "      <td>OI</td>\n",
       "      <td>PRE PAGO</td>\n",
       "      <td>300000533</td>\n",
       "    </tr>\n",
       "    <tr>\n",
       "      <th>1</th>\n",
       "      <td>2013-03-21</td>\n",
       "      <td>21:03:30</td>\n",
       "      <td>0.130000</td>\n",
       "      <td>61</td>\n",
       "      <td>B3299B0E587D7275E3E4D530E9EECF50</td>\n",
       "      <td>98</td>\n",
       "      <td>6432F1DF21BA38368D9A165C739EEBB3</td>\n",
       "      <td>51601</td>\n",
       "      <td>195</td>\n",
       "      <td>LONGA DISTANCIA</td>\n",
       "      <td>BRT</td>\n",
       "      <td>OI</td>\n",
       "      <td>PRE PAGO</td>\n",
       "      <td>300000210</td>\n",
       "    </tr>\n",
       "    <tr>\n",
       "      <th>2</th>\n",
       "      <td>2013-03-21</td>\n",
       "      <td>17:33:20</td>\n",
       "      <td>0.330000</td>\n",
       "      <td>61</td>\n",
       "      <td>85D5C50A6D882CA8E4BB00BCA3574417</td>\n",
       "      <td>61</td>\n",
       "      <td>0D8583F810B9720A8032BB939F12B3FF</td>\n",
       "      <td>51601</td>\n",
       "      <td>117</td>\n",
       "      <td>LOCAL</td>\n",
       "      <td>BRT</td>\n",
       "      <td>BRT</td>\n",
       "      <td>PRE PAGO</td>\n",
       "      <td>300000210</td>\n",
       "    </tr>\n",
       "    <tr>\n",
       "      <th>3</th>\n",
       "      <td>2013-03-21</td>\n",
       "      <td>11:58:26</td>\n",
       "      <td>1.270000</td>\n",
       "      <td>61</td>\n",
       "      <td>6C10A9E9F325CAA3CCB7F9A0D6983D2A</td>\n",
       "      <td>61</td>\n",
       "      <td>B0C50ED1DEC9E06E4C64E7419DDC4B09</td>\n",
       "      <td>51601</td>\n",
       "      <td>117</td>\n",
       "      <td>LOCAL</td>\n",
       "      <td>BRT</td>\n",
       "      <td>BRT</td>\n",
       "      <td>PRE PAGO</td>\n",
       "      <td>300000210</td>\n",
       "    </tr>\n",
       "    <tr>\n",
       "      <th>4</th>\n",
       "      <td>2013-03-21</td>\n",
       "      <td>16:06:59</td>\n",
       "      <td>0.170000</td>\n",
       "      <td>61</td>\n",
       "      <td>29122DCF4189448865B03F24C2DFEAE6</td>\n",
       "      <td>61</td>\n",
       "      <td>E0B097D86BF9C02A23011610EBAF47FD</td>\n",
       "      <td>51601</td>\n",
       "      <td>77</td>\n",
       "      <td>LOCAL</td>\n",
       "      <td>BRT</td>\n",
       "      <td>GVT</td>\n",
       "      <td>PRE PAGO</td>\n",
       "      <td>300000210</td>\n",
       "    </tr>\n",
       "  </tbody>\n",
       "</table>\n",
       "</div>"
      ],
      "text/plain": [
       "         DATE      HOUR  DURATION  DDD_USER_FROM  \\\n",
       "0  2013-03-21  11:51:30  0.370000             32   \n",
       "1  2013-03-21  21:03:30  0.130000             61   \n",
       "2  2013-03-21  17:33:20  0.330000             61   \n",
       "3  2013-03-21  11:58:26  1.270000             61   \n",
       "4  2013-03-21  16:06:59  0.170000             61   \n",
       "\n",
       "                          USER_FROM  DDD_USER_TO  \\\n",
       "0  5B5F2C071D12AF13219DF5EBE05132AF           32   \n",
       "1  B3299B0E587D7275E3E4D530E9EECF50           98   \n",
       "2  85D5C50A6D882CA8E4BB00BCA3574417           61   \n",
       "3  6C10A9E9F325CAA3CCB7F9A0D6983D2A           61   \n",
       "4  29122DCF4189448865B03F24C2DFEAE6           61   \n",
       "\n",
       "                            USER_TO  ANTENNA    9               10   11   12  \\\n",
       "0  9FB3B96B6D5E16C9DD564AA3E84F1954    50141  117            LOCAL   OI   OI   \n",
       "1  6432F1DF21BA38368D9A165C739EEBB3    51601  195  LONGA DISTANCIA  BRT   OI   \n",
       "2  0D8583F810B9720A8032BB939F12B3FF    51601  117            LOCAL  BRT  BRT   \n",
       "3  B0C50ED1DEC9E06E4C64E7419DDC4B09    51601  117            LOCAL  BRT  BRT   \n",
       "4  E0B097D86BF9C02A23011610EBAF47FD    51601   77            LOCAL  BRT  GVT   \n",
       "\n",
       "         13         14  \n",
       "0  PRE PAGO  300000533  \n",
       "1  PRE PAGO  300000210  \n",
       "2  PRE PAGO  300000210  \n",
       "3  PRE PAGO  300000210  \n",
       "4  PRE PAGO  300000210  "
      ]
     },
     "execution_count": 16,
     "metadata": {},
     "output_type": "execute_result"
    }
   ],
   "source": [
    "#Filtrando cdr_new: somente os USER_FROM que constam em df_filter_over_call continuaram na análise\n",
    "cdr_after_filters_of_calls = cdr_new[(cdr_new['USER_FROM'].isin(df_filter_over_call['USER_FROM']))]\n",
    "cdr_after_filters_of_calls.head()"
   ]
  },
  {
   "cell_type": "markdown",
   "metadata": {},
   "source": [
    "Selecionando os registros onde as ligações ocorreram entre 19:00 e 06:00 ou tenham sido realizadas em qualquer horário do domingo"
   ]
  },
  {
   "cell_type": "code",
   "execution_count": 17,
   "metadata": {},
   "outputs": [
    {
     "name": "stderr",
     "output_type": "stream",
     "text": [
      "/home/gustavo/anaconda3/lib/python3.7/site-packages/ipykernel_launcher.py:1: SettingWithCopyWarning: \n",
      "A value is trying to be set on a copy of a slice from a DataFrame.\n",
      "Try using .loc[row_indexer,col_indexer] = value instead\n",
      "\n",
      "See the caveats in the documentation: https://pandas.pydata.org/pandas-docs/stable/user_guide/indexing.html#returning-a-view-versus-a-copy\n",
      "  \"\"\"Entry point for launching an IPython kernel.\n",
      "/home/gustavo/anaconda3/lib/python3.7/site-packages/ipykernel_launcher.py:2: SettingWithCopyWarning: \n",
      "A value is trying to be set on a copy of a slice from a DataFrame.\n",
      "Try using .loc[row_indexer,col_indexer] = value instead\n",
      "\n",
      "See the caveats in the documentation: https://pandas.pydata.org/pandas-docs/stable/user_guide/indexing.html#returning-a-view-versus-a-copy\n",
      "  \n"
     ]
    }
   ],
   "source": [
    "cdr_after_filters_of_calls['DATE'] = pd.to_datetime(cdr_after_filters_of_calls['DATE'])\n",
    "cdr_after_filters_of_calls['DAY_OF_WEEK'] = cdr_after_filters_of_calls['DATE'].dt.day_name()"
   ]
  },
  {
   "cell_type": "code",
   "execution_count": null,
   "metadata": {},
   "outputs": [],
   "source": [
    "cdr_after_filters_of_calls.sample(5)\n",
    "cdr_after_filters_of_calls.to_csv('/home/gustavo/Desktop/Mestrado/mestrado_dados/dados_18.11/cdr_after_filtes.csv')"
   ]
  },
  {
   "cell_type": "code",
   "execution_count": null,
   "metadata": {
    "scrolled": false
   },
   "outputs": [],
   "source": [
    "#selecionando as ligações que ocorreram entre 19h e 6h ou no domingo em qualquer horário\n",
    "calls_night_or_sunday = cdr_after_filters_of_calls[(cdr_after_filters_of_calls.HOUR.between('19:00:00','23:59:00')) \n",
    "                               | (cdr_after_filters_of_calls.HOUR.between('00:00:00','06:00:00')) \n",
    "                               | (cdr_after_filters_of_calls['DAY_OF_WEEK'] == 'Sunday')]\n",
    "\n",
    "calls_night_or_sunday"
   ]
  },
  {
   "cell_type": "code",
   "execution_count": null,
   "metadata": {},
   "outputs": [],
   "source": [
    "calls_night_or_sunday.to_csv('/home/gustavo/Desktop/Mestrado/mestrado_dados/dados_18.11/calls_night_or_sunday.csv')"
   ]
  },
  {
   "cell_type": "markdown",
   "metadata": {},
   "source": [
    "# Agrupando as ligações por dia da semana"
   ]
  },
  {
   "cell_type": "code",
   "execution_count": null,
   "metadata": {},
   "outputs": [],
   "source": [
    "cdr_monday = cdr_after_filters_of_calls.loc[cdr_after_filters_of_calls['DAY_OF_WEEK'] == 'Monday']\n",
    "cdr_monday.to_csv('/home/gustavo/Desktop/Mestrado/mestrado_dados/CDR_by_day_of_week/cdr_monday.csv')"
   ]
  },
  {
   "cell_type": "code",
   "execution_count": null,
   "metadata": {},
   "outputs": [],
   "source": [
    "cdr_tuesday = cdr_after_filters_of_calls.loc[cdr_after_filters_of_calls['DAY_OF_WEEK'] == 'Tuesday']\n",
    "cdr_tuesday.to_csv('/home/gustavo/Desktop/Mestrado/mestrado_dados/CDR_by_day_of_week/cdr_tuesday.csv')"
   ]
  },
  {
   "cell_type": "code",
   "execution_count": null,
   "metadata": {},
   "outputs": [],
   "source": [
    "cdr_wednesday = cdr_after_filters_of_calls.loc[cdr_after_filters_of_calls['DAY_OF_WEEK'] == 'Wednesday']\n",
    "cdr_wednesday.to_csv('/home/gustavo/Desktop/Mestrado/mestrado_dados/CDR_by_day_of_week/cdr_wednesday.csv')"
   ]
  },
  {
   "cell_type": "code",
   "execution_count": null,
   "metadata": {},
   "outputs": [],
   "source": [
    "cdr_thursday = cdr_after_filters_of_calls.loc[cdr_after_filters_of_calls['DAY_OF_WEEK'] == 'Thursday']\n",
    "cdr_thursday.to_csv('/home/gustavo/Desktop/Mestrado/mestrado_dados/CDR_by_day_of_week/cdr_thursday.csv')"
   ]
  },
  {
   "cell_type": "code",
   "execution_count": null,
   "metadata": {},
   "outputs": [],
   "source": [
    "cdr_friday = cdr_after_filters_of_calls.loc[cdr_after_filters_of_calls['DAY_OF_WEEK'] == 'Friday']\n",
    "cdr_friday.to_csv('/home/gustavo/Desktop/Mestrado/mestrado_dados/CDR_by_day_of_week/cdr_friday.csv')"
   ]
  },
  {
   "cell_type": "code",
   "execution_count": null,
   "metadata": {},
   "outputs": [],
   "source": [
    "cdr_saturday = cdr_after_filters_of_calls.loc[cdr_after_filters_of_calls['DAY_OF_WEEK'] == 'Saturday']\n",
    "cdr_saturday.to_csv('/home/gustavo/Desktop/Mestrado/mestrado_dados/CDR_by_day_of_week/cdr_saturday.csv')"
   ]
  },
  {
   "cell_type": "code",
   "execution_count": null,
   "metadata": {},
   "outputs": [],
   "source": [
    "cdr_sunday = cdr_after_filters_of_calls.loc[cdr_after_filters_of_calls['DAY_OF_WEEK'] == 'Sunday']\n",
    "cdr_sunday.to_csv('/home/gustavo/Desktop/Mestrado/mestrado_dados/CDR_by_day_of_week/cdr_sunday.csv')"
   ]
  }
 ],
 "metadata": {
  "kernelspec": {
   "display_name": "Python 3",
   "language": "python",
   "name": "python3"
  },
  "language_info": {
   "codemirror_mode": {
    "name": "ipython",
    "version": 3
   },
   "file_extension": ".py",
   "mimetype": "text/x-python",
   "name": "python",
   "nbconvert_exporter": "python",
   "pygments_lexer": "ipython3",
   "version": "3.7.3"
  }
 },
 "nbformat": 4,
 "nbformat_minor": 2
}
