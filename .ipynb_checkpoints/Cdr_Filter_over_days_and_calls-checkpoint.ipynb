{
 "cells": [
  {
   "cell_type": "code",
   "execution_count": null,
   "metadata": {},
   "outputs": [],
   "source": [
    "import pandas as pd"
   ]
  },
  {
   "cell_type": "code",
   "execution_count": null,
   "metadata": {},
   "outputs": [],
   "source": [
    "df_1 = pd.read_csv('/home/gustavo/Desktop/Mestrado/mestrado_dados/dados_18.11/cdr/JF_Filter_by_duration/df_1.csv')"
   ]
  },
  {
   "cell_type": "code",
   "execution_count": null,
   "metadata": {},
   "outputs": [],
   "source": [
    "df_2 = pd.read_csv('/home/gustavo/Desktop/Mestrado/mestrado_dados/dados_18.11/cdr/JF_Filter_by_duration/df_2.csv')"
   ]
  },
  {
   "cell_type": "code",
   "execution_count": null,
   "metadata": {},
   "outputs": [],
   "source": [
    "df_3 = pd.read_csv('/home/gustavo/Desktop/Mestrado/mestrado_dados/dados_18.11/cdr/JF_Filter_by_duration/df_3.csv')"
   ]
  },
  {
   "cell_type": "code",
   "execution_count": null,
   "metadata": {},
   "outputs": [],
   "source": [
    "df_4 = pd.read_csv('/home/gustavo/Desktop/Mestrado/mestrado_dados/dados_18.11/cdr/JF_Filter_by_duration/df_4.csv')"
   ]
  },
  {
   "cell_type": "code",
   "execution_count": null,
   "metadata": {},
   "outputs": [],
   "source": [
    "cdrs = [df_1, df_2, df_3, df4]"
   ]
  },
  {
   "cell_type": "code",
   "execution_count": null,
   "metadata": {},
   "outputs": [],
   "source": [
    "def filters_of_call(cdrs):\n",
    "    df = pd.DataFrame()\n",
    "    for cdr in cdrs:\n",
    "        cdr_filter_by_quantity_of_call = cdr.groupby('USER_FROM').size().reset_index().rename(columns={0:'QUANTITY_OF_CALLS'})\n",
    "\n",
    "        cdr_filter_by_quantity_of_call = cdr_filter_by_quantity_of_call.loc[(\n",
    "                                    (cdr_filter_by_quantity_of_call['QUANTITY_OF_CALLS'] >= 3) \n",
    "                                    & (cdr_filter_by_quantity_of_call['QUANTITY_OF_CALLS'] <= 500))]\n",
    "        df = df.append(cdr_filter_by_quantity_of_call)\n",
    "    df = df.reset_index()\n",
    "    return df\n",
    "\n",
    "def cdr_filter_by_quantity_of_days(cdrs, cdr_filter_by_quantity_of_call):\n",
    "    df = pd.DataFrame()\n",
    "    for cdr_new in cdrs:\n",
    "        cdr_filter_by_quantity_of_days = cdr_new.groupby('USER_FROM').DATE.nunique().to_frame('QUANTITY_OF_DAYS').reset_index()\n",
    "        cdr_filter_by_quantity_of_days = cdr_filter_by_quantity_of_days.loc[(cdr_filter_by_quantity_of_days['QUANTITY_OF_DAYS'] >= 3)]\n",
    "        df_filter_over_call = pd.merge(cdr_filter_by_quantity_of_call, cdr_filter_by_quantity_of_days,\n",
    "                                   how='inner',on=['USER_FROM'])\n",
    "        cdr_after_filters_of_calls = cdr_new[(cdr_new['USER_FROM'].isin(df_filter_over_call['USER_FROM']))]\n",
    "        df = df.append(cdr_after_filters_of_calls)\n",
    "    df = df.reset_index()\n",
    "    df.to_csv('file.csv')"
   ]
  },
  {
   "cell_type": "code",
   "execution_count": null,
   "metadata": {},
   "outputs": [],
   "source": [
    "df_filters = filters_of_call(cdrs)\n",
    "cdr_filter_by_quantity_of_days(cdrs, df_filters)"
   ]
  }
 ],
 "metadata": {
  "kernelspec": {
   "display_name": "Python 3",
   "language": "python",
   "name": "python3"
  },
  "language_info": {
   "codemirror_mode": {
    "name": "ipython",
    "version": 3
   },
   "file_extension": ".py",
   "mimetype": "text/x-python",
   "name": "python",
   "nbconvert_exporter": "python",
   "pygments_lexer": "ipython3",
   "version": "3.7.3"
  }
 },
 "nbformat": 4,
 "nbformat_minor": 2
}
