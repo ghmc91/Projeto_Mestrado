{
 "cells": [
  {
   "cell_type": "code",
   "execution_count": 11,
   "metadata": {},
   "outputs": [
    {
     "data": {
      "text/plain": [
       "546356"
      ]
     },
     "execution_count": 11,
     "metadata": {},
     "output_type": "execute_result"
    }
   ],
   "source": [
    "import pandas as pd\n",
    "import scipy.spatial.distance as ssd\n",
    "import numpy as np\n",
    "import pickle\n",
    "\n",
    "file = '/home/gustavo/Desktop/Mestrado/mestrado_dados/ProcessamentoVinicius/Jf/dict_users_residence_antenna_jf.pickle'\n",
    "with open(file, 'rb') as pickle_file:\n",
    "    dict_users_residence_antenna = pickle.load(pickle_file)\n",
    "len(dict_users_residence_antenna)"
   ]
  },
  {
   "cell_type": "code",
   "execution_count": 13,
   "metadata": {},
   "outputs": [],
   "source": [
    "df_residence_antenna = pd.DataFrame()\n",
    "df_residence_antenna['user'] = dict_users_residence_antenna.keys()\n",
    "df_residence_antenna['residence_antenna'] = dict_users_residence_antenna.values()\n",
    "#df_residence_antenna.to_csv(r'/home/gustavo/Desktop/Mestrado/mestrado_dados/ProcessamentoVinicius/Jf/residence_antenna_jf.csv', index = False, header=True, sep=\";\")\n",
    "df_residence_antenna.to_csv('/home/gustavo/Desktop/Mestrado/mestrado_dados/Regiao_Presumida/residence_antenna_jf.csv', index = False, header=True, sep=\";\")\n"
   ]
  }
 ],
 "metadata": {
  "kernelspec": {
   "display_name": "Python 3",
   "language": "python",
   "name": "python3"
  },
  "language_info": {
   "codemirror_mode": {
    "name": "ipython",
    "version": 3
   },
   "file_extension": ".py",
   "mimetype": "text/x-python",
   "name": "python",
   "nbconvert_exporter": "python",
   "pygments_lexer": "ipython3",
   "version": "3.7.3"
  }
 },
 "nbformat": 4,
 "nbformat_minor": 2
}
