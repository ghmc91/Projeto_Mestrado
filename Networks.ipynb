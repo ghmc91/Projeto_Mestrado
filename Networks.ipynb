{
 "cells": [
  {
   "cell_type": "code",
   "execution_count": 1,
   "metadata": {},
   "outputs": [],
   "source": [
    "import networkx as nx\n",
    "import matplotlib.pyplot as plt\n",
    "import pandas as pd\n",
    "\n",
    "G = nx.read_gml(path)\n",
    "list(G.nodes(data=True))"
   ]
  },
  {
   "cell_type": "code",
   "execution_count": 11,
   "metadata": {},
   "outputs": [
    {
     "data": {
      "text/plain": [
       "NodeView(('5B5F2C071D12AF13219DF5EBE05132AF', '9FB3B96B6D5E16C9DD564AA3E84F1954', 'B3299B0E587D7275E3E4D530E9EECF50', '6432F1DF21BA38368D9A165C739EEBB3', '85D5C50A6D882CA8E4BB00BCA3574417', '0D8583F810B9720A8032BB939F12B3FF', '6C10A9E9F325CAA3CCB7F9A0D6983D2A', 'B0C50ED1DEC9E06E4C64E7419DDC4B09'))"
      ]
     },
     "execution_count": 11,
     "metadata": {},
     "output_type": "execute_result"
    }
   ],
   "source": [
    "path = '/home/gustavo/Desktop/Mestrado/mestrado_dados/Redes/'\n",
    "file = 'Teste.gml'\n",
    "G = nx.read_gml(path)\n",
    "list(G.nodes(data=True))"
   ]
  },
  {
   "cell_type": "code",
   "execution_count": 22,
   "metadata": {},
   "outputs": [
    {
     "data": {
      "text/plain": [
       "[('5B5F2C071D12AF13219DF5EBE05132AF', {}),\n",
       " ('9FB3B96B6D5E16C9DD564AA3E84F1954', {}),\n",
       " ('B3299B0E587D7275E3E4D530E9EECF50', {}),\n",
       " ('6432F1DF21BA38368D9A165C739EEBB3', {}),\n",
       " ('85D5C50A6D882CA8E4BB00BCA3574417', {}),\n",
       " ('0D8583F810B9720A8032BB939F12B3FF', {}),\n",
       " ('6C10A9E9F325CAA3CCB7F9A0D6983D2A', {}),\n",
       " ('B0C50ED1DEC9E06E4C64E7419DDC4B09', {})]"
      ]
     },
     "execution_count": 22,
     "metadata": {},
     "output_type": "execute_result"
    }
   ],
   "source": [
    "list(G.nodes(data=True))"
   ]
  },
  {
   "cell_type": "code",
   "execution_count": 24,
   "metadata": {},
   "outputs": [
    {
     "data": {
      "text/html": [
       "<div>\n",
       "<style scoped>\n",
       "    .dataframe tbody tr th:only-of-type {\n",
       "        vertical-align: middle;\n",
       "    }\n",
       "\n",
       "    .dataframe tbody tr th {\n",
       "        vertical-align: top;\n",
       "    }\n",
       "\n",
       "    .dataframe thead th {\n",
       "        text-align: right;\n",
       "    }\n",
       "</style>\n",
       "<table border=\"1\" class=\"dataframe\">\n",
       "  <thead>\n",
       "    <tr style=\"text-align: right;\">\n",
       "      <th></th>\n",
       "      <th>USER</th>\n",
       "      <th>PRESUMED_RESIDENCE</th>\n",
       "      <th>CLASSE</th>\n",
       "    </tr>\n",
       "  </thead>\n",
       "  <tbody>\n",
       "    <tr>\n",
       "      <th>0</th>\n",
       "      <td>00003F26576D1122848B6F3CEEC250E5</td>\n",
       "      <td>SJDR5</td>\n",
       "      <td>3</td>\n",
       "    </tr>\n",
       "    <tr>\n",
       "      <th>1</th>\n",
       "      <td>00003F26576D1122848B6F3CEEC250E5</td>\n",
       "      <td>SJDR5</td>\n",
       "      <td>3</td>\n",
       "    </tr>\n",
       "    <tr>\n",
       "      <th>2</th>\n",
       "      <td>00003F26576D1122848B6F3CEEC250E5</td>\n",
       "      <td>SJDR5</td>\n",
       "      <td>3</td>\n",
       "    </tr>\n",
       "    <tr>\n",
       "      <th>3</th>\n",
       "      <td>00003F26576D1122848B6F3CEEC250E5</td>\n",
       "      <td>SJDR5</td>\n",
       "      <td>3</td>\n",
       "    </tr>\n",
       "    <tr>\n",
       "      <th>4</th>\n",
       "      <td>00003F26576D1122848B6F3CEEC250E5</td>\n",
       "      <td>SJDR5</td>\n",
       "      <td>3</td>\n",
       "    </tr>\n",
       "    <tr>\n",
       "      <th>...</th>\n",
       "      <td>...</td>\n",
       "      <td>...</td>\n",
       "      <td>...</td>\n",
       "    </tr>\n",
       "    <tr>\n",
       "      <th>543582</th>\n",
       "      <td>961F5624F792A928EFB233D7B1C209EB</td>\n",
       "      <td>SJDR2</td>\n",
       "      <td>3</td>\n",
       "    </tr>\n",
       "    <tr>\n",
       "      <th>543583</th>\n",
       "      <td>A0D64E03A02404038732C736B339D714</td>\n",
       "      <td>SJDR2</td>\n",
       "      <td>3</td>\n",
       "    </tr>\n",
       "    <tr>\n",
       "      <th>543584</th>\n",
       "      <td>C51D1AB1F2F548501270065FCF73899D</td>\n",
       "      <td>SJDR2</td>\n",
       "      <td>3</td>\n",
       "    </tr>\n",
       "    <tr>\n",
       "      <th>543585</th>\n",
       "      <td>C51D1AB1F2F548501270065FCF73899D</td>\n",
       "      <td>SJDR2</td>\n",
       "      <td>3</td>\n",
       "    </tr>\n",
       "    <tr>\n",
       "      <th>543586</th>\n",
       "      <td>F9C01A710FAD8F1BC9A83C79C42F611A</td>\n",
       "      <td>SJDR2</td>\n",
       "      <td>3</td>\n",
       "    </tr>\n",
       "  </tbody>\n",
       "</table>\n",
       "<p>543587 rows × 3 columns</p>\n",
       "</div>"
      ],
      "text/plain": [
       "                                    USER PRESUMED_RESIDENCE  CLASSE\n",
       "0       00003F26576D1122848B6F3CEEC250E5              SJDR5       3\n",
       "1       00003F26576D1122848B6F3CEEC250E5              SJDR5       3\n",
       "2       00003F26576D1122848B6F3CEEC250E5              SJDR5       3\n",
       "3       00003F26576D1122848B6F3CEEC250E5              SJDR5       3\n",
       "4       00003F26576D1122848B6F3CEEC250E5              SJDR5       3\n",
       "...                                  ...                ...     ...\n",
       "543582  961F5624F792A928EFB233D7B1C209EB              SJDR2       3\n",
       "543583  A0D64E03A02404038732C736B339D714              SJDR2       3\n",
       "543584  C51D1AB1F2F548501270065FCF73899D              SJDR2       3\n",
       "543585  C51D1AB1F2F548501270065FCF73899D              SJDR2       3\n",
       "543586  F9C01A710FAD8F1BC9A83C79C42F611A              SJDR2       3\n",
       "\n",
       "[543587 rows x 3 columns]"
      ]
     },
     "execution_count": 24,
     "metadata": {},
     "output_type": "execute_result"
    }
   ],
   "source": [
    "df = pd.read_csv('/home/gustavo/Desktop/Mestrado/mestrado_dados/Regiao_Presumida/df_classe.csv')\n",
    "df"
   ]
  },
  {
   "cell_type": "code",
   "execution_count": 28,
   "metadata": {},
   "outputs": [
    {
     "data": {
      "text/html": [
       "<div>\n",
       "<style scoped>\n",
       "    .dataframe tbody tr th:only-of-type {\n",
       "        vertical-align: middle;\n",
       "    }\n",
       "\n",
       "    .dataframe tbody tr th {\n",
       "        vertical-align: top;\n",
       "    }\n",
       "\n",
       "    .dataframe thead th {\n",
       "        text-align: right;\n",
       "    }\n",
       "</style>\n",
       "<table border=\"1\" class=\"dataframe\">\n",
       "  <thead>\n",
       "    <tr style=\"text-align: right;\">\n",
       "      <th></th>\n",
       "      <th>USER</th>\n",
       "      <th>CLASSE</th>\n",
       "    </tr>\n",
       "  </thead>\n",
       "  <tbody>\n",
       "    <tr>\n",
       "      <th>0</th>\n",
       "      <td>5B5F2C071D12AF13219DF5EBE05132AF</td>\n",
       "      <td>3</td>\n",
       "    </tr>\n",
       "    <tr>\n",
       "      <th>1</th>\n",
       "      <td>9FB3B96B6D5E16C9DD564AA3E84F1954</td>\n",
       "      <td>3</td>\n",
       "    </tr>\n",
       "    <tr>\n",
       "      <th>2</th>\n",
       "      <td>B3299B0E587D7275E3E4D530E9EECF50</td>\n",
       "      <td>2</td>\n",
       "    </tr>\n",
       "    <tr>\n",
       "      <th>3</th>\n",
       "      <td>6432F1DF21BA38368D9A165C739EEBB3</td>\n",
       "      <td>2</td>\n",
       "    </tr>\n",
       "    <tr>\n",
       "      <th>4</th>\n",
       "      <td>85D5C50A6D882CA8E4BB00BCA3574417</td>\n",
       "      <td>1</td>\n",
       "    </tr>\n",
       "    <tr>\n",
       "      <th>5</th>\n",
       "      <td>85D5C50A6D882CA8E4BB00BCA3574417</td>\n",
       "      <td>1</td>\n",
       "    </tr>\n",
       "  </tbody>\n",
       "</table>\n",
       "</div>"
      ],
      "text/plain": [
       "                               USER  CLASSE\n",
       "0  5B5F2C071D12AF13219DF5EBE05132AF       3\n",
       "1  9FB3B96B6D5E16C9DD564AA3E84F1954       3\n",
       "2  B3299B0E587D7275E3E4D530E9EECF50       2\n",
       "3  6432F1DF21BA38368D9A165C739EEBB3       2\n",
       "4  85D5C50A6D882CA8E4BB00BCA3574417       1\n",
       "5  85D5C50A6D882CA8E4BB00BCA3574417       1"
      ]
     },
     "execution_count": 28,
     "metadata": {},
     "output_type": "execute_result"
    }
   ],
   "source": [
    "df = pd.DataFrame({'USER': ['5B5F2C071D12AF13219DF5EBE05132AF', '9FB3B96B6D5E16C9DD564AA3E84F1954',\n",
    "                           'B3299B0E587D7275E3E4D530E9EECF50', '6432F1DF21BA38368D9A165C739EEBB3',\n",
    "                           '85D5C50A6D882CA8E4BB00BCA3574417', '85D5C50A6D882CA8E4BB00BCA3574417'],\n",
    "                 'CLASSE': [3,3,2,2,1,1]})\n",
    "df"
   ]
  },
  {
   "cell_type": "code",
   "execution_count": null,
   "metadata": {},
   "outputs": [],
   "source": [
    "plt.figure(figsize=(20,20))\n",
    "pos = nx.spring_layout(G, k = 0.9)  \n",
    "\n",
    "nx.draw_networkx_nodes(G, pos, nodelist = G.nodes, node_color='#bfbf7f', node_shape=\"h\", node_size=300)\n",
    "nx.draw_networkx_edges(G, pos, alpha=0.2)\n",
    "plt.show()"
   ]
  }
 ],
 "metadata": {
  "kernelspec": {
   "display_name": "Python 3",
   "language": "python",
   "name": "python3"
  },
  "language_info": {
   "codemirror_mode": {
    "name": "ipython",
    "version": 3
   },
   "file_extension": ".py",
   "mimetype": "text/x-python",
   "name": "python",
   "nbconvert_exporter": "python",
   "pygments_lexer": "ipython3",
   "version": "3.7.3"
  }
 },
 "nbformat": 4,
 "nbformat_minor": 2
}
