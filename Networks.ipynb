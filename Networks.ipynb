{
 "cells": [
  {
   "cell_type": "code",
   "execution_count": 67,
   "metadata": {},
   "outputs": [],
   "source": [
    "import networkx as nx\n",
    "import matplotlib.pyplot as plt\n",
    "import pandas as pd"
   ]
  },
  {
   "cell_type": "code",
   "execution_count": 85,
   "metadata": {},
   "outputs": [],
   "source": [
    "path = '/home/gustavo/Desktop/Mestrado/mestrado_dados/Redes/'\n",
    "file = 'sjdr_social_undirected_no_null_outdegree.gml'\n",
    "G = nx.read_gml(path + file)\n",
    "nodes_list = list(G.nodes(data=True))"
   ]
  },
  {
   "cell_type": "code",
   "execution_count": 176,
   "metadata": {},
   "outputs": [],
   "source": [
    "x = 0\n",
    "nodes_id = []\n",
    "while x < len(nodes_list):\n",
    "    nodes_id.append(nodes_list[x][0])\n",
    "    x += 1"
   ]
  },
  {
   "cell_type": "code",
   "execution_count": 72,
   "metadata": {},
   "outputs": [],
   "source": [
    "def classe_sjdr(i):\n",
    "    if (i.startswith('SJDR')) | (i.startswith('TR')):\n",
    "        return 3\n",
    "    else:\n",
    "        return 2"
   ]
  },
  {
   "cell_type": "code",
   "execution_count": 30,
   "metadata": {},
   "outputs": [
    {
     "data": {
      "text/html": [
       "<div>\n",
       "<style scoped>\n",
       "    .dataframe tbody tr th:only-of-type {\n",
       "        vertical-align: middle;\n",
       "    }\n",
       "\n",
       "    .dataframe tbody tr th {\n",
       "        vertical-align: top;\n",
       "    }\n",
       "\n",
       "    .dataframe thead th {\n",
       "        text-align: right;\n",
       "    }\n",
       "</style>\n",
       "<table border=\"1\" class=\"dataframe\">\n",
       "  <thead>\n",
       "    <tr style=\"text-align: right;\">\n",
       "      <th></th>\n",
       "      <th>USER</th>\n",
       "      <th>PRESUMED_RESIDENCE</th>\n",
       "      <th>CLASS</th>\n",
       "    </tr>\n",
       "  </thead>\n",
       "  <tbody>\n",
       "    <tr>\n",
       "      <th>0</th>\n",
       "      <td>00003F26576D1122848B6F3CEEC250E5</td>\n",
       "      <td>SJDR5</td>\n",
       "      <td>3</td>\n",
       "    </tr>\n",
       "    <tr>\n",
       "      <th>1</th>\n",
       "      <td>000579E8BA1DA9E5292392473BCCCD2A</td>\n",
       "      <td>LD1</td>\n",
       "      <td>2</td>\n",
       "    </tr>\n",
       "    <tr>\n",
       "      <th>2</th>\n",
       "      <td>0008962B966EF6C5571DF03F5C786677</td>\n",
       "      <td>SJDR2</td>\n",
       "      <td>3</td>\n",
       "    </tr>\n",
       "    <tr>\n",
       "      <th>3</th>\n",
       "      <td>0008B7FB336065A53EC31AD06D712E28</td>\n",
       "      <td>RT</td>\n",
       "      <td>2</td>\n",
       "    </tr>\n",
       "    <tr>\n",
       "      <th>4</th>\n",
       "      <td>0008B8E32E18BF4450B7CAAF0C1CE179</td>\n",
       "      <td>SJDR1</td>\n",
       "      <td>3</td>\n",
       "    </tr>\n",
       "    <tr>\n",
       "      <th>...</th>\n",
       "      <td>...</td>\n",
       "      <td>...</td>\n",
       "      <td>...</td>\n",
       "    </tr>\n",
       "    <tr>\n",
       "      <th>59785</th>\n",
       "      <td>FFFA3339BA362F788F81DF22F3F7B6BA</td>\n",
       "      <td>MDM</td>\n",
       "      <td>2</td>\n",
       "    </tr>\n",
       "    <tr>\n",
       "      <th>59786</th>\n",
       "      <td>FFFDA183352D8DD3AC2913B09BD4174F</td>\n",
       "      <td>SJDR4</td>\n",
       "      <td>3</td>\n",
       "    </tr>\n",
       "    <tr>\n",
       "      <th>59787</th>\n",
       "      <td>FFFDBC5EE75F3127C262488987D6F99D</td>\n",
       "      <td>SJDR1</td>\n",
       "      <td>3</td>\n",
       "    </tr>\n",
       "    <tr>\n",
       "      <th>59788</th>\n",
       "      <td>FFFE9C91DE90C5CA962FE90319E8D620</td>\n",
       "      <td>SJDR4</td>\n",
       "      <td>3</td>\n",
       "    </tr>\n",
       "    <tr>\n",
       "      <th>59789</th>\n",
       "      <td>FFFF6761884073022FB5DFE1B6F54DE3</td>\n",
       "      <td>RT</td>\n",
       "      <td>2</td>\n",
       "    </tr>\n",
       "  </tbody>\n",
       "</table>\n",
       "<p>59790 rows × 3 columns</p>\n",
       "</div>"
      ],
      "text/plain": [
       "                                   USER PRESUMED_RESIDENCE  CLASS\n",
       "0      00003F26576D1122848B6F3CEEC250E5              SJDR5      3\n",
       "1      000579E8BA1DA9E5292392473BCCCD2A                LD1      2\n",
       "2      0008962B966EF6C5571DF03F5C786677              SJDR2      3\n",
       "3      0008B7FB336065A53EC31AD06D712E28                 RT      2\n",
       "4      0008B8E32E18BF4450B7CAAF0C1CE179              SJDR1      3\n",
       "...                                 ...                ...    ...\n",
       "59785  FFFA3339BA362F788F81DF22F3F7B6BA                MDM      2\n",
       "59786  FFFDA183352D8DD3AC2913B09BD4174F              SJDR4      3\n",
       "59787  FFFDBC5EE75F3127C262488987D6F99D              SJDR1      3\n",
       "59788  FFFE9C91DE90C5CA962FE90319E8D620              SJDR4      3\n",
       "59789  FFFF6761884073022FB5DFE1B6F54DE3                 RT      2\n",
       "\n",
       "[59790 rows x 3 columns]"
      ]
     },
     "execution_count": 30,
     "metadata": {},
     "output_type": "execute_result"
    }
   ],
   "source": [
    "df = pd.read_csv('/home/gustavo/Desktop/Mestrado/mestrado_dados/dados_18.11/df_main.csv', index_col=False)\n",
    "df.drop(columns={'Unnamed: 0', 'ANTENNA_ID'}, inplace=True)\n",
    "df = df.groupby(['USER']).first().reset_index()\n",
    "df['CLASS'] = df['PRESUMED_RESIDENCE'].map(classe_sjdr)\n",
    "df"
   ]
  },
  {
   "cell_type": "code",
   "execution_count": 47,
   "metadata": {},
   "outputs": [],
   "source": [
    "df_merge = df[df['USER'].isin(nodes_id)]\n",
    "df_merge = df_merge[['USER', 'CLASS']]\n",
    "df_merge"
   ]
  },
  {
   "cell_type": "code",
   "execution_count": 88,
   "metadata": {},
   "outputs": [
    {
     "data": {
      "text/html": [
       "<div>\n",
       "<style scoped>\n",
       "    .dataframe tbody tr th:only-of-type {\n",
       "        vertical-align: middle;\n",
       "    }\n",
       "\n",
       "    .dataframe tbody tr th {\n",
       "        vertical-align: top;\n",
       "    }\n",
       "\n",
       "    .dataframe thead th {\n",
       "        text-align: right;\n",
       "    }\n",
       "</style>\n",
       "<table border=\"1\" class=\"dataframe\">\n",
       "  <thead>\n",
       "    <tr style=\"text-align: right;\">\n",
       "      <th></th>\n",
       "      <th>USER</th>\n",
       "      <th>CLASS</th>\n",
       "    </tr>\n",
       "  </thead>\n",
       "  <tbody>\n",
       "    <tr>\n",
       "      <th>0</th>\n",
       "      <td>00003F26576D1122848B6F3CEEC250E5</td>\n",
       "      <td>3</td>\n",
       "    </tr>\n",
       "    <tr>\n",
       "      <th>1</th>\n",
       "      <td>000579E8BA1DA9E5292392473BCCCD2A</td>\n",
       "      <td>2</td>\n",
       "    </tr>\n",
       "    <tr>\n",
       "      <th>2</th>\n",
       "      <td>0008962B966EF6C5571DF03F5C786677</td>\n",
       "      <td>3</td>\n",
       "    </tr>\n",
       "    <tr>\n",
       "      <th>3</th>\n",
       "      <td>0008B7FB336065A53EC31AD06D712E28</td>\n",
       "      <td>2</td>\n",
       "    </tr>\n",
       "    <tr>\n",
       "      <th>4</th>\n",
       "      <td>0008B8E32E18BF4450B7CAAF0C1CE179</td>\n",
       "      <td>3</td>\n",
       "    </tr>\n",
       "    <tr>\n",
       "      <th>...</th>\n",
       "      <td>...</td>\n",
       "      <td>...</td>\n",
       "    </tr>\n",
       "    <tr>\n",
       "      <th>59785</th>\n",
       "      <td>FFFA3339BA362F788F81DF22F3F7B6BA</td>\n",
       "      <td>2</td>\n",
       "    </tr>\n",
       "    <tr>\n",
       "      <th>59786</th>\n",
       "      <td>FFFDA183352D8DD3AC2913B09BD4174F</td>\n",
       "      <td>3</td>\n",
       "    </tr>\n",
       "    <tr>\n",
       "      <th>59787</th>\n",
       "      <td>FFFDBC5EE75F3127C262488987D6F99D</td>\n",
       "      <td>3</td>\n",
       "    </tr>\n",
       "    <tr>\n",
       "      <th>59788</th>\n",
       "      <td>FFFE9C91DE90C5CA962FE90319E8D620</td>\n",
       "      <td>3</td>\n",
       "    </tr>\n",
       "    <tr>\n",
       "      <th>59789</th>\n",
       "      <td>FFFF6761884073022FB5DFE1B6F54DE3</td>\n",
       "      <td>2</td>\n",
       "    </tr>\n",
       "  </tbody>\n",
       "</table>\n",
       "<p>54394 rows × 2 columns</p>\n",
       "</div>"
      ],
      "text/plain": [
       "                                   USER  CLASS\n",
       "0      00003F26576D1122848B6F3CEEC250E5      3\n",
       "1      000579E8BA1DA9E5292392473BCCCD2A      2\n",
       "2      0008962B966EF6C5571DF03F5C786677      3\n",
       "3      0008B7FB336065A53EC31AD06D712E28      2\n",
       "4      0008B8E32E18BF4450B7CAAF0C1CE179      3\n",
       "...                                 ...    ...\n",
       "59785  FFFA3339BA362F788F81DF22F3F7B6BA      2\n",
       "59786  FFFDA183352D8DD3AC2913B09BD4174F      3\n",
       "59787  FFFDBC5EE75F3127C262488987D6F99D      3\n",
       "59788  FFFE9C91DE90C5CA962FE90319E8D620      3\n",
       "59789  FFFF6761884073022FB5DFE1B6F54DE3      2\n",
       "\n",
       "[54394 rows x 2 columns]"
      ]
     },
     "execution_count": 88,
     "metadata": {},
     "output_type": "execute_result"
    }
   ],
   "source": [
    "dict_user_class = df_merge.set_index('USER').T.to_dict('records')"
   ]
  },
  {
   "cell_type": "code",
   "execution_count": 153,
   "metadata": {},
   "outputs": [],
   "source": [
    "for i in G.nodes:\n",
    "    for j in dict_user_class.keys():\n",
    "        if i == j:\n",
    "            G.nodes[i]['class'] = dict_user_class.get(j)"
   ]
  },
  {
   "cell_type": "code",
   "execution_count": 174,
   "metadata": {},
   "outputs": [],
   "source": [
    "for n in G.edges:\n",
    "    G.edges[(n)]['numcalls'] = G.edges[(n)]['num_calls']\n",
    "    del G.edges[n]['num_calls']\n",
    "nx.write_gml(G,'/home/gustavo/Desktop/Mestrado/mestrado_dados/Redes/sjdr_social_undirected_no_null_outdegree_with_class.gml')"
   ]
  },
  {
   "cell_type": "code",
   "execution_count": 180,
   "metadata": {},
   "outputs": [
    {
     "data": {
      "text/plain": [
       "161947"
      ]
     },
     "execution_count": 180,
     "metadata": {},
     "output_type": "execute_result"
    }
   ],
   "source": []
  }
 ],
 "metadata": {
  "kernelspec": {
   "display_name": "Python 3",
   "language": "python",
   "name": "python3"
  },
  "language_info": {
   "codemirror_mode": {
    "name": "ipython",
    "version": 3
   },
   "file_extension": ".py",
   "mimetype": "text/x-python",
   "name": "python",
   "nbconvert_exporter": "python",
   "pygments_lexer": "ipython3",
   "version": "3.7.3"
  }
 },
 "nbformat": 4,
 "nbformat_minor": 2
}
