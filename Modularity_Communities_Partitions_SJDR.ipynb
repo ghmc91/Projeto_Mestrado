{
 "cells": [
  {
   "cell_type": "code",
   "execution_count": 7,
   "metadata": {},
   "outputs": [],
   "source": [
    "import networkx as nx\n",
    "import matplotlib.pyplot as plt\n",
    "import pandas as pd\n",
    "import community as community_louvain\n",
    "import matplotlib.cm as cm\n",
    "import networkx.algorithms.community as nx_comm\n",
    "from collections import defaultdict"
   ]
  },
  {
   "cell_type": "code",
   "execution_count": 2,
   "metadata": {},
   "outputs": [],
   "source": [
    "G = nx.read_gml('/home/gustavo/Desktop/Mestrado/mestrado_dados/Redes/sjdr_social_undirected_no_null_outdegree_with_class.gml')"
   ]
  },
  {
   "cell_type": "code",
   "execution_count": 3,
   "metadata": {},
   "outputs": [],
   "source": [
    "G_2 = [x for x,y in G.nodes(data=True) if y['class'] == 2]\n",
    "G_3 = [x for x,y in G.nodes(data=True) if y['class'] == 3]"
   ]
  },
  {
   "cell_type": "code",
   "execution_count": 4,
   "metadata": {},
   "outputs": [],
   "source": [
    "H = G.subgraph(G_2)\n",
    "I = G.subgraph(G_3)"
   ]
  },
  {
   "cell_type": "code",
   "execution_count": 5,
   "metadata": {},
   "outputs": [],
   "source": [
    "partition_G = community_louvain.best_partition(G)\n",
    "partition_H = community_louvain.best_partition(H)\n",
    "partition_I = community_louvain.best_partition(I)"
   ]
  },
  {
   "cell_type": "code",
   "execution_count": 12,
   "metadata": {},
   "outputs": [],
   "source": [
    "def get_communities(graph, partition):\n",
    "    v = defaultdict(list)\n",
    "    for key, value in sorted(partition.items()):\n",
    "        v[value].append(key)\n",
    "    list_partition = list(v.values())\n",
    "    return len(list_partition)\n"
   ]
  },
  {
   "cell_type": "code",
   "execution_count": 11,
   "metadata": {},
   "outputs": [],
   "source": [
    "def get_modularity(graph, partition):\n",
    "    v = defaultdict(list)\n",
    "    for key, value in sorted(partition.items()):\n",
    "        v[value].append(key)\n",
    "    list_partition = list(v.values())\n",
    "    return nx_comm.modularity(graph, list_partition)"
   ]
  },
  {
   "cell_type": "code",
   "execution_count": 49,
   "metadata": {},
   "outputs": [],
   "source": [
    "modularity_G = get_modularity(G, partition_G)\n",
    "modularity_H = get_modularity(H, partition_H)\n",
    "modularity_I = get_modularity(I, partition_I)"
   ]
  },
  {
   "cell_type": "code",
   "execution_count": 50,
   "metadata": {},
   "outputs": [
    {
     "name": "stdout",
     "output_type": "stream",
     "text": [
      "Modularidade de toda rede:  0.8442 \n",
      "Modularidade da classe social 2:  0.999 \n",
      "Modularidade da classe social 3:  0.8403\n"
     ]
    }
   ],
   "source": [
    "print('Modularidade de toda rede: ' , round(modularity_G, 4) , \n",
    "      '\\nModularidade do grupo 2: ' , round(modularity_H, 4),\n",
    "      '\\nModularidade do grupo 3: ' , round(modularity_I, 4))"
   ]
  },
  {
   "cell_type": "code",
   "execution_count": 13,
   "metadata": {},
   "outputs": [],
   "source": [
    "comm_g = get_communities(G, partition_G)\n",
    "comm_h = get_communities(H, partition_H)\n",
    "comm_i = get_communities(I, partition_I)"
   ]
  },
  {
   "cell_type": "code",
   "execution_count": 15,
   "metadata": {},
   "outputs": [
    {
     "name": "stdout",
     "output_type": "stream",
     "text": [
      "Número de comunidades de toda rede:  42679 \n",
      "Número de comunidades do grupo 2:  12581 \n",
      "Número de comunidades do grupo 3:  40953\n"
     ]
    }
   ],
   "source": [
    "print('Número de comunidades de toda rede: ' , comm_g, \n",
    "      '\\nNúmero de comunidades do grupo 2: ' , comm_h,\n",
    "      '\\nNúmero de comunidades do grupo 3: ' , comm_i)"
   ]
  },
  {
   "cell_type": "code",
   "execution_count": 16,
   "metadata": {},
   "outputs": [
    {
     "name": "stdout",
     "output_type": "stream",
     "text": [
      "Número de nós de toda rede:  161947 \n",
      "Número de nós do grupo 2:  17099 \n",
      "Número de nós do grupo 3:  144848\n"
     ]
    }
   ],
   "source": [
    "print('Número de nós de toda rede: ' , len(G.nodes), \n",
    "      '\\nNúmero de nós do grupo 2: ' , len(H.nodes),\n",
    "      '\\nNúmero de nós do grupo 3: ' , len(I.nodes))"
   ]
  }
 ],
 "metadata": {
  "kernelspec": {
   "display_name": "Python 3",
   "language": "python",
   "name": "python3"
  },
  "language_info": {
   "codemirror_mode": {
    "name": "ipython",
    "version": 3
   },
   "file_extension": ".py",
   "mimetype": "text/x-python",
   "name": "python",
   "nbconvert_exporter": "python",
   "pygments_lexer": "ipython3",
   "version": "3.7.3"
  }
 },
 "nbformat": 4,
 "nbformat_minor": 2
}
