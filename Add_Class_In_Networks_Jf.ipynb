{
 "cells": [
  {
   "cell_type": "code",
   "execution_count": 3,
   "metadata": {},
   "outputs": [],
   "source": [
    "import networkx as nx\n",
    "import matplotlib.pyplot as plt\n",
    "import pandas as pd"
   ]
  },
  {
   "cell_type": "markdown",
   "metadata": {},
   "source": [
    "# Exportando dicionários de arestas"
   ]
  },
  {
   "cell_type": "code",
   "execution_count": null,
   "metadata": {},
   "outputs": [],
   "source": [
    "G = nx.read_gml('/home/gustavo/Desktop/Mestrado/mestrado_dados/Redes/jf_social_directed_no_null_outdegree.gml')\n",
    "dict_edges = dict()\n",
    "for e in G.edges():\n",
    "    dict_edges[e] = G.edges[e]\n"
   ]
  },
  {
   "cell_type": "code",
   "execution_count": null,
   "metadata": {},
   "outputs": [],
   "source": [
    "dict_edges = dict()\n",
    "for e in G.edges():\n",
    "    dict_edges[e] = G.edges[e]\n"
   ]
  },
  {
   "cell_type": "code",
   "execution_count": null,
   "metadata": {},
   "outputs": [],
   "source": []
  },
  {
   "cell_type": "code",
   "execution_count": 2,
   "metadata": {},
   "outputs": [],
   "source": [
    "def get_nodes_id(file):\n",
    "    G = nx.read_gml(file)\n",
    "    nodes_list = list(G.nodes(data=True))\n",
    "    x = 0\n",
    "    nodes_id = []\n",
    "    while x < len(nodes_list):\n",
    "        nodes_id.append(nodes_list[x][0])\n",
    "        x += 1\n",
    "    return nodes_id"
   ]
  },
  {
   "cell_type": "code",
   "execution_count": 3,
   "metadata": {},
   "outputs": [],
   "source": [
    "nodes_list = get_nodes_id('/home/gustavo/Desktop/Mestrado/mestrado_dados/Redes/jf_social_directed_no_null_outdegree.gml')"
   ]
  },
  {
   "cell_type": "code",
   "execution_count": 4,
   "metadata": {},
   "outputs": [],
   "source": [
    "df = pd.read_csv('/home/gustavo/Desktop/Mestrado/mestrado_dados/dados_18.11/df_main_jf.csv', sep=';')"
   ]
  },
  {
   "cell_type": "code",
   "execution_count": null,
   "metadata": {},
   "outputs": [
    {
     "name": "stderr",
     "output_type": "stream",
     "text": [
      "/home/gustavo/anaconda3/lib/python3.7/site-packages/ipykernel_launcher.py:3: UserWarning: DataFrame columns are not unique, some columns will be omitted.\n",
      "  This is separate from the ipykernel package so we can avoid doing imports until\n"
     ]
    }
   ],
   "source": [
    "df_merge = df[df['user_from'].isin(nodes_list)]\n",
    "df_merge = df_merge[['user_from', 'classe']]\n",
    "dict_user_class = df_merge.set_index('user_from').T.to_dict('records')\n",
    "dict_user_class = dict_user_class[0]"
   ]
  },
  {
   "cell_type": "code",
   "execution_count": 15,
   "metadata": {},
   "outputs": [],
   "source": [
    "def generate_network_with_class(path_read, path_write):\n",
    "    G = nx.read_gml(path_read)\n",
    "    for i in G.nodes:\n",
    "        for j in dict_user_class.keys():\n",
    "            if i == j:\n",
    "                G.nodes[i]['class'] = dict_user_class.get(j)\n",
    "    for n in G.edges:\n",
    "        G.edges[(n)]['numcalls'] = G.edges[(n)]['num_calls']\n",
    "        del G.edges[n]['num_calls']\n",
    "    nx.write_gml(G,path_write)"
   ]
  },
  {
   "cell_type": "code",
   "execution_count": null,
   "metadata": {},
   "outputs": [],
   "source": [
    "dict_"
   ]
  },
  {
   "cell_type": "code",
   "execution_count": 16,
   "metadata": {},
   "outputs": [],
   "source": [
    "generate_network_with_class('/home/gustavo/Desktop/Mestrado/mestrado_dados/Redes/jf_social_directed_no_null_outdegree.gml',\n",
    "                            '/home/gustavo/Desktop/Mestrado/mestrado_dados/Redes/jf_social_directed_no_null_outdegree_with_class.gml')"
   ]
  }
 ],
 "metadata": {
  "kernelspec": {
   "display_name": "Python 3",
   "language": "python",
   "name": "python3"
  },
  "language_info": {
   "codemirror_mode": {
    "name": "ipython",
    "version": 3
   },
   "file_extension": ".py",
   "mimetype": "text/x-python",
   "name": "python",
   "nbconvert_exporter": "python",
   "pygments_lexer": "ipython3",
   "version": "3.7.3"
  }
 },
 "nbformat": 4,
 "nbformat_minor": 2
}
