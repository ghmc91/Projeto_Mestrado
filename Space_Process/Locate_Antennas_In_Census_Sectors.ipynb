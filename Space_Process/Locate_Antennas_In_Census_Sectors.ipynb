{
 "cells": [
  {
   "cell_type": "code",
   "execution_count": 1,
   "metadata": {},
   "outputs": [],
   "source": [
    "import sys\n",
    "import pandas as pd\n",
    "import geopandas as gpd\n",
    "import datetime\n",
    "import numpy as np\n",
    "from geopy.distance import geodesic\n",
    "import matplotlib.pyplot as plt\n",
    "import scipy\n",
    "from sklearn.metrics import r2_score"
   ]
  },
  {
   "cell_type": "code",
   "execution_count": 2,
   "metadata": {},
   "outputs": [],
   "source": [
    "def read_df_from_file(filename):\n",
    "\tdf = pd.read_csv(filename, sep=\";\")\n",
    "\treturn df"
   ]
  },
  {
   "cell_type": "code",
   "execution_count": 3,
   "metadata": {},
   "outputs": [],
   "source": [
    "def read_shapefile_region(shapefile_name,city_list):\n",
    "\t# Essa função apenas lê o shapefile e filtra os municípios de interesse.\n",
    "\t# Retorna um geodataframe para ser tratado depois.\n",
    "\n",
    "\tgdf_all = gpd.read_file(shapefile_name)#, layer='countries')\n",
    "\t\n",
    "\tgdf_region = gdf_all[gdf_all.NM_MUNICIP.isin(city_list)]\n",
    "\t\n",
    "\t#print(gdf_all.head(10))\n",
    "\t#print(gdf_region)\n",
    "\t#print(len(gdf_region.index))\n",
    "\t\n",
    "\treturn [gdf_region]"
   ]
  },
  {
   "cell_type": "code",
   "execution_count": 4,
   "metadata": {},
   "outputs": [],
   "source": [
    "def calculate_closest_antenna(gdf_region,df_antennas):\n",
    "\t# Essa função lê o gdf_region e o df_antennas e calcula qual é a antena mais \n",
    "\t# próxima de cada região.\n",
    "\t# Esse esquema vai mudar completamente com o Voronoi.\t\n",
    "\t\n",
    "\t# Aqui eu vou:\n",
    "\t#\t+ criar uma lista de setores (com cada linha do gdf_region)\n",
    "\t#\t+ obter lat e long de cada setor\n",
    "\t#\t+ percorrer o df_antennas e ver qual a antena mais próxima do setor\n",
    "\t#\t+ cada linha do setor/closest_antenna vai ter id do setor/id da antena mais próxima\n",
    "\t\n",
    "\tsetores = []\n",
    "\tclosest_antennas = []\n",
    "\tdistance_antennas = []\n",
    "\t\n",
    "\t#\"\"\"\n",
    "\tfor setor in gdf_region.itertuples():\n",
    "\t\t\n",
    "\t\t\n",
    "\t\tsetor_long = setor.geometry.centroid.x\n",
    "\t\tsetor_lat = setor.geometry.centroid.y\n",
    "\t\t#print(setor.ID, setor.CD_GEOCODI, setor_lat, setor_long)\n",
    "\t\tleast_distance = np.Inf\n",
    "\t\tleast_distance_same_city = np.Inf\n",
    "\t\t\n",
    "\t\t\n",
    "\t\tfor antenna in df_antennas.itertuples():\n",
    "\n",
    "\t\t\tantenna_lat = antenna.LAT\n",
    "\t\t\tantenna_long = antenna.LONG\n",
    "\t\t\t\n",
    "\t\t\t#[distance] = calculate_distance_two_coordinates(antenna_lat,antenna_long, setor_lat, setor_long)\n",
    "\t\t\t#print(antenna_lat, antenna_long, setor_lat, setor_long, distance)\n",
    "\t\t\t\n",
    "\t\t\tcoords_1 = (antenna_lat, antenna_long)\n",
    "\t\t\tcoords_2 = (setor_lat, setor_long)\n",
    "\t\t\tdistance = geodesic(coords_1, coords_2).kilometers\n",
    "\t\t\t#print(\"distância para a antena\", antenna.antenna, \" = \",distance)\n",
    "\t\t\t\n",
    "\t\t\tif antenna.CITY == setor.NM_MUNICIP:\n",
    "\t\t\t\tif distance < least_distance_same_city:\n",
    "\t\t\t\t\tleast_distance_same_city = distance\n",
    "\t\t\t\t\tclosest_antenna_same_city = antenna.antenna\n",
    "\t\t\t\n",
    "\t\t\tif distance < least_distance:\n",
    "\t\t\t\t#print(\"atualizou a distância\")\n",
    "\t\t\t\tleast_distance = distance\n",
    "\t\t\t\tclosest_antenna = antenna.CELLID\n",
    "\t\t\t\t\n",
    "\t\t#end for antenna\n",
    "\t\t\n",
    "\t\t\t\n",
    "\t\t#print(\"\\n\\n\\t\\tantena mais próxima do setor\",setor.CD_GEOCODI,\":\", closest_antenna, \"(dist = \",least_distance,\")\")\n",
    "\t\t\n",
    "\t\tsetores.append(setor.CD_GEOCODI)\n",
    "\t\tif least_distance_same_city != np.Inf:\n",
    "\t\t\tclosest_antennas.append(closest_antenna_same_city)\n",
    "\t\t\tdistance_antennas.append(least_distance_same_city)\n",
    "\t\telse:\n",
    "\t\t\tclosest_antennas.append(closest_antenna)\n",
    "\t\t\tdistance_antennas.append(least_distance)\n",
    "\t#end for setor\n",
    "\t#\"\"\"\n",
    "\t\t\n",
    "\treturn [setores,closest_antennas,distance_antennas]\n",
    "#end"
   ]
  },
  {
   "cell_type": "code",
   "execution_count": 5,
   "metadata": {},
   "outputs": [],
   "source": [
    "city_list = ['SÃO JOÃO DEL REI', 'TIRADENTES', 'SÃO VICENTE DE MINAS', 'SÃO TIAGO', 'SANTA CRUZ DE MINAS', 'RITÁPOLIS', 'RESENDE COSTA', 'PRADOS', 'PIEDADE DO RIO GRANDE', 'NAZARENO', 'CORONEL XAVIER CHAVES', 'CONCEIÇÃO DA BARRA DE MINAS', 'MADRE DE DEUS DE MINAS', 'LAGOA DOURADA']\n",
    "[gdf_region] = read_shapefile_region(\"/home/gustavo/Desktop/Mestrado/mestrado_dados/Arquivos_Shape/mg_setores_censitarios/31SEE250GC_SIR.shp\",city_list)\n"
   ]
  },
  {
   "cell_type": "code",
   "execution_count": 6,
   "metadata": {},
   "outputs": [],
   "source": [
    "df_residence_antennas = pd.read_csv(\"/home/gustavo/Desktop/Mestrado/mestrado_dados/Regiao_Presumida/residence_antenna.csv\", sep=\";\")\n",
    "df_antennas = pd.read_csv(\"/home/gustavo/Desktop/Mestrado/mestrado_dados/ProcessamentoVinicius/Sjdr/antennas_sjdr_unique.txt\", sep=\";\")\n"
   ]
  },
  {
   "cell_type": "code",
   "execution_count": 7,
   "metadata": {},
   "outputs": [],
   "source": [
    "[setores,closest_antennas,distance_antennas] = calculate_closest_antenna(gdf_region,df_antennas)"
   ]
  },
  {
   "cell_type": "code",
   "execution_count": 10,
   "metadata": {},
   "outputs": [],
   "source": [
    "d = {'setor': setores, 'closest_antenna': closest_antennas, 'distance_antenna': distance_antennas}\n",
    "df_info_setores_antennas = pd.DataFrame(data=d)\n",
    "df_info_setores_antennas.to_csv (r'/home/gustavo/Desktop/Mestrado/mestrado_dados/ibge/info_setores_antennas_sjdr.csv', index = False, header=True, sep=\";\")"
   ]
  }
 ],
 "metadata": {
  "kernelspec": {
   "display_name": "Python 3",
   "language": "python",
   "name": "python3"
  },
  "language_info": {
   "codemirror_mode": {
    "name": "ipython",
    "version": 3
   },
   "file_extension": ".py",
   "mimetype": "text/x-python",
   "name": "python",
   "nbconvert_exporter": "python",
   "pygments_lexer": "ipython3",
   "version": "3.7.3"
  }
 },
 "nbformat": 4,
 "nbformat_minor": 2
}
