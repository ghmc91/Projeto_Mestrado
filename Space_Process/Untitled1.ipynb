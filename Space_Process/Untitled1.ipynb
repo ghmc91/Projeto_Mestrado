{
 "cells": [
  {
   "cell_type": "code",
   "execution_count": 4,
   "metadata": {},
   "outputs": [
    {
     "data": {
      "text/html": [
       "<div>\n",
       "<style scoped>\n",
       "    .dataframe tbody tr th:only-of-type {\n",
       "        vertical-align: middle;\n",
       "    }\n",
       "\n",
       "    .dataframe tbody tr th {\n",
       "        vertical-align: top;\n",
       "    }\n",
       "\n",
       "    .dataframe thead th {\n",
       "        text-align: right;\n",
       "    }\n",
       "</style>\n",
       "<table border=\"1\" class=\"dataframe\">\n",
       "  <thead>\n",
       "    <tr style=\"text-align: right;\">\n",
       "      <th></th>\n",
       "      <th>user</th>\n",
       "      <th>antenna</th>\n",
       "      <th>presumed_res</th>\n",
       "    </tr>\n",
       "  </thead>\n",
       "  <tbody>\n",
       "    <tr>\n",
       "      <th>0</th>\n",
       "      <td>1</td>\n",
       "      <td>51601</td>\n",
       "      <td>sjdr1</td>\n",
       "    </tr>\n",
       "    <tr>\n",
       "      <th>1</th>\n",
       "      <td>2</td>\n",
       "      <td>23461</td>\n",
       "      <td>sjdr2</td>\n",
       "    </tr>\n",
       "    <tr>\n",
       "      <th>2</th>\n",
       "      <td>3</td>\n",
       "      <td>51372</td>\n",
       "      <td>ld</td>\n",
       "    </tr>\n",
       "    <tr>\n",
       "      <th>3</th>\n",
       "      <td>4</td>\n",
       "      <td>60761</td>\n",
       "      <td>st</td>\n",
       "    </tr>\n",
       "  </tbody>\n",
       "</table>\n",
       "</div>"
      ],
      "text/plain": [
       "   user  antenna presumed_res\n",
       "0     1    51601        sjdr1\n",
       "1     2    23461        sjdr2\n",
       "2     3    51372           ld\n",
       "3     4    60761           st"
      ]
     },
     "execution_count": 4,
     "metadata": {},
     "output_type": "execute_result"
    }
   ],
   "source": [
    "import pandas as pd\n",
    "\n",
    "dict_antennas = { \n",
    "    'mdm': [27711,27712,27713,48582,27451,48581],\n",
    "    'sjdr1': [23441,23442,50153,23443,50152,50151],\n",
    "    'sjdr2':[23461,23463,23462,50933,50931,50932],\n",
    "    'sjdr3':[23471,23472,23473,51311,51312],\n",
    "    'sjdr4':[23451,23452,23453,50663,50661,50662],\n",
    "    'sjdr5':[50141,50142,50143],\n",
    "    'tr1':[29941,29943,53562,50911,49131,50913,29942,53561,49132],\n",
    "    'tr2': [29011,29013,29012],\n",
    "    'ld': [49592,51041,51042,49593,51043],\n",
    "    'rt': [51601,51603,51602],\n",
    "    'sv': [60761,60763,60762],\n",
    "    'st': [51371,51372]}\n",
    "\n",
    "df = pd.DataFrame({'user': [1,2,3,4],\n",
    "                   'antenna': [51601, 23461, 51372, 60761],\n",
    "                   'presumed_res': ['sjdr1', 'sjdr2', 'ld', 'st']})\n",
    "df"
   ]
  },
  {
   "cell_type": "code",
   "execution_count": 7,
   "metadata": {},
   "outputs": [
    {
     "name": "stderr",
     "output_type": "stream",
     "text": [
      "/home/gustavo/anaconda3/lib/python3.7/site-packages/ipykernel_launcher.py:3: SettingWithCopyWarning: \n",
      "A value is trying to be set on a copy of a slice from a DataFrame\n",
      "\n",
      "See the caveats in the documentation: http://pandas.pydata.org/pandas-docs/stable/user_guide/indexing.html#returning-a-view-versus-a-copy\n",
      "  This is separate from the ipykernel package so we can avoid doing imports until\n"
     ]
    }
   ],
   "source": [
    "df['antenna_id'] = ''\n",
    "for x, i in zip(df.antenna, df.index):\n",
    "    df['antenna_id'][i] = [k for k in dict_antennas.keys() if x in dict_antennas[k]][0]"
   ]
  },
  {
   "cell_type": "code",
   "execution_count": 8,
   "metadata": {},
   "outputs": [
    {
     "data": {
      "text/html": [
       "<div>\n",
       "<style scoped>\n",
       "    .dataframe tbody tr th:only-of-type {\n",
       "        vertical-align: middle;\n",
       "    }\n",
       "\n",
       "    .dataframe tbody tr th {\n",
       "        vertical-align: top;\n",
       "    }\n",
       "\n",
       "    .dataframe thead th {\n",
       "        text-align: right;\n",
       "    }\n",
       "</style>\n",
       "<table border=\"1\" class=\"dataframe\">\n",
       "  <thead>\n",
       "    <tr style=\"text-align: right;\">\n",
       "      <th></th>\n",
       "      <th>user</th>\n",
       "      <th>antenna</th>\n",
       "      <th>presumed_res</th>\n",
       "      <th>antenna_id</th>\n",
       "    </tr>\n",
       "  </thead>\n",
       "  <tbody>\n",
       "    <tr>\n",
       "      <th>0</th>\n",
       "      <td>1</td>\n",
       "      <td>51601</td>\n",
       "      <td>sjdr1</td>\n",
       "      <td>rt</td>\n",
       "    </tr>\n",
       "    <tr>\n",
       "      <th>1</th>\n",
       "      <td>2</td>\n",
       "      <td>23461</td>\n",
       "      <td>sjdr2</td>\n",
       "      <td>sjdr2</td>\n",
       "    </tr>\n",
       "    <tr>\n",
       "      <th>2</th>\n",
       "      <td>3</td>\n",
       "      <td>51372</td>\n",
       "      <td>ld</td>\n",
       "      <td>st</td>\n",
       "    </tr>\n",
       "    <tr>\n",
       "      <th>3</th>\n",
       "      <td>4</td>\n",
       "      <td>60761</td>\n",
       "      <td>st</td>\n",
       "      <td>sv</td>\n",
       "    </tr>\n",
       "  </tbody>\n",
       "</table>\n",
       "</div>"
      ],
      "text/plain": [
       "   user  antenna presumed_res antenna_id\n",
       "0     1    51601        sjdr1         rt\n",
       "1     2    23461        sjdr2      sjdr2\n",
       "2     3    51372           ld         st\n",
       "3     4    60761           st         sv"
      ]
     },
     "execution_count": 8,
     "metadata": {},
     "output_type": "execute_result"
    }
   ],
   "source": [
    "df"
   ]
  }
 ],
 "metadata": {
  "kernelspec": {
   "display_name": "Python 3",
   "language": "python",
   "name": "python3"
  },
  "language_info": {
   "codemirror_mode": {
    "name": "ipython",
    "version": 3
   },
   "file_extension": ".py",
   "mimetype": "text/x-python",
   "name": "python",
   "nbconvert_exporter": "python",
   "pygments_lexer": "ipython3",
   "version": "3.7.3"
  }
 },
 "nbformat": 4,
 "nbformat_minor": 2
}
