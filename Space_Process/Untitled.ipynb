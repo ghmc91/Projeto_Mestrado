{
 "cells": [
  {
   "cell_type": "code",
   "execution_count": 1,
   "metadata": {},
   "outputs": [],
   "source": [
    "import pandas as pd"
   ]
  },
  {
   "cell_type": "code",
   "execution_count": 6,
   "metadata": {},
   "outputs": [
    {
     "data": {
      "text/html": [
       "<div>\n",
       "<style scoped>\n",
       "    .dataframe tbody tr th:only-of-type {\n",
       "        vertical-align: middle;\n",
       "    }\n",
       "\n",
       "    .dataframe tbody tr th {\n",
       "        vertical-align: top;\n",
       "    }\n",
       "\n",
       "    .dataframe thead th {\n",
       "        text-align: right;\n",
       "    }\n",
       "</style>\n",
       "<table border=\"1\" class=\"dataframe\">\n",
       "  <thead>\n",
       "    <tr style=\"text-align: right;\">\n",
       "      <th></th>\n",
       "      <th>Cod_setor</th>\n",
       "      <th>V005</th>\n",
       "      <th>classe</th>\n",
       "    </tr>\n",
       "  </thead>\n",
       "  <tbody>\n",
       "    <tr>\n",
       "      <th>0</th>\n",
       "      <td>311520105000001</td>\n",
       "      <td>1177.29</td>\n",
       "      <td>3.0</td>\n",
       "    </tr>\n",
       "    <tr>\n",
       "      <th>1</th>\n",
       "      <td>311520105000002</td>\n",
       "      <td>886.16</td>\n",
       "      <td>2.0</td>\n",
       "    </tr>\n",
       "    <tr>\n",
       "      <th>2</th>\n",
       "      <td>311520105000003</td>\n",
       "      <td>1020.75</td>\n",
       "      <td>3.0</td>\n",
       "    </tr>\n",
       "    <tr>\n",
       "      <th>3</th>\n",
       "      <td>311520105000004</td>\n",
       "      <td>382.49</td>\n",
       "      <td>1.0</td>\n",
       "    </tr>\n",
       "    <tr>\n",
       "      <th>4</th>\n",
       "      <td>311520105000005</td>\n",
       "      <td>1012.74</td>\n",
       "      <td>2.0</td>\n",
       "    </tr>\n",
       "  </tbody>\n",
       "</table>\n",
       "</div>"
      ],
      "text/plain": [
       "         Cod_setor     V005  classe\n",
       "0  311520105000001  1177.29     3.0\n",
       "1  311520105000002   886.16     2.0\n",
       "2  311520105000003  1020.75     3.0\n",
       "3  311520105000004   382.49     1.0\n",
       "4  311520105000005  1012.74     2.0"
      ]
     },
     "execution_count": 6,
     "metadata": {},
     "output_type": "execute_result"
    }
   ],
   "source": [
    "df = pd.read_csv('/home/gustavo/Desktop/Mestrado/mestrado_dados/ibge/sjdr_data_grouped_of_class.csv')\n",
    "df.head()"
   ]
  },
  {
   "cell_type": "code",
   "execution_count": 7,
   "metadata": {},
   "outputs": [
    {
     "data": {
      "text/html": [
       "<div>\n",
       "<style scoped>\n",
       "    .dataframe tbody tr th:only-of-type {\n",
       "        vertical-align: middle;\n",
       "    }\n",
       "\n",
       "    .dataframe tbody tr th {\n",
       "        vertical-align: top;\n",
       "    }\n",
       "\n",
       "    .dataframe thead th {\n",
       "        text-align: right;\n",
       "    }\n",
       "</style>\n",
       "<table border=\"1\" class=\"dataframe\">\n",
       "  <thead>\n",
       "    <tr style=\"text-align: right;\">\n",
       "      <th></th>\n",
       "      <th>Cod_setor</th>\n",
       "      <th>V005</th>\n",
       "      <th>classe</th>\n",
       "      <th>closest_antenna</th>\n",
       "      <th>distance_antenna</th>\n",
       "    </tr>\n",
       "  </thead>\n",
       "  <tbody>\n",
       "    <tr>\n",
       "      <th>0</th>\n",
       "      <td>311520105000001</td>\n",
       "      <td>1177.29</td>\n",
       "      <td>3.0</td>\n",
       "      <td>51603</td>\n",
       "      <td>19.952234</td>\n",
       "    </tr>\n",
       "    <tr>\n",
       "      <th>1</th>\n",
       "      <td>311520105000002</td>\n",
       "      <td>886.16</td>\n",
       "      <td>2.0</td>\n",
       "      <td>51603</td>\n",
       "      <td>19.923082</td>\n",
       "    </tr>\n",
       "    <tr>\n",
       "      <th>2</th>\n",
       "      <td>311520105000003</td>\n",
       "      <td>1020.75</td>\n",
       "      <td>3.0</td>\n",
       "      <td>51603</td>\n",
       "      <td>18.906755</td>\n",
       "    </tr>\n",
       "    <tr>\n",
       "      <th>3</th>\n",
       "      <td>311520105000004</td>\n",
       "      <td>382.49</td>\n",
       "      <td>1.0</td>\n",
       "      <td>51603</td>\n",
       "      <td>19.562769</td>\n",
       "    </tr>\n",
       "    <tr>\n",
       "      <th>4</th>\n",
       "      <td>311520105000005</td>\n",
       "      <td>1012.74</td>\n",
       "      <td>2.0</td>\n",
       "      <td>51603</td>\n",
       "      <td>19.894224</td>\n",
       "    </tr>\n",
       "  </tbody>\n",
       "</table>\n",
       "</div>"
      ],
      "text/plain": [
       "         Cod_setor     V005  classe  closest_antenna  distance_antenna\n",
       "0  311520105000001  1177.29     3.0            51603         19.952234\n",
       "1  311520105000002   886.16     2.0            51603         19.923082\n",
       "2  311520105000003  1020.75     3.0            51603         18.906755\n",
       "3  311520105000004   382.49     1.0            51603         19.562769\n",
       "4  311520105000005  1012.74     2.0            51603         19.894224"
      ]
     },
     "execution_count": 7,
     "metadata": {},
     "output_type": "execute_result"
    }
   ],
   "source": [
    "df_info = pd.read_csv('/home/gustavo/Desktop/Mestrado/mestrado_dados/ibge/info_setores_antennas_sjdr.csv', sep=';')\n",
    "df_info.rename(columns={'setor': 'Cod_setor'}, inplace=True)\n",
    "df = pd.merge(df, df_info, on='Cod_setor')\n",
    "df.head()"
   ]
  },
  {
   "cell_type": "code",
   "execution_count": 8,
   "metadata": {},
   "outputs": [],
   "source": [
    "df.to_csv('/home/gustavo/Desktop/Mestrado/mestrado_dados/ibge/Sector_Class.csv')"
   ]
  }
 ],
 "metadata": {
  "kernelspec": {
   "display_name": "Python 3",
   "language": "python",
   "name": "python3"
  },
  "language_info": {
   "codemirror_mode": {
    "name": "ipython",
    "version": 3
   },
   "file_extension": ".py",
   "mimetype": "text/x-python",
   "name": "python",
   "nbconvert_exporter": "python",
   "pygments_lexer": "ipython3",
   "version": "3.7.3"
  }
 },
 "nbformat": 4,
 "nbformat_minor": 2
}
