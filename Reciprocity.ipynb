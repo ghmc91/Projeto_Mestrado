{
 "cells": [
  {
   "cell_type": "code",
   "execution_count": 1,
   "metadata": {},
   "outputs": [],
   "source": [
    "import networkx as nx"
   ]
  },
  {
   "cell_type": "code",
   "execution_count": 2,
   "metadata": {},
   "outputs": [],
   "source": [
    "G = nx.read_gml('/home/gustavo/Desktop/Mestrado/mestrado_dados/Redes/sjdr_social_directed_no_null_outdegree_with_class.gml')\n"
   ]
  },
  {
   "cell_type": "code",
   "execution_count": 3,
   "metadata": {},
   "outputs": [],
   "source": [
    "for node in G.nodes:\n",
    "    node_dict = G.nodes[node]\n",
    "    if node_dict.get('class') is None:\n",
    "        node_dict['class'] = 0"
   ]
  },
  {
   "cell_type": "code",
   "execution_count": 4,
   "metadata": {},
   "outputs": [],
   "source": [
    "G_2 = [x for x,y in G.nodes(data=True) if y['class'] == 2]\n",
    "G_3 = [x for x,y in G.nodes(data=True) if y['class'] == 3]"
   ]
  },
  {
   "cell_type": "code",
   "execution_count": 5,
   "metadata": {},
   "outputs": [],
   "source": [
    "H = G.subgraph(G_2)\n",
    "I = G.subgraph(G_3)"
   ]
  },
  {
   "cell_type": "code",
   "execution_count": 6,
   "metadata": {},
   "outputs": [],
   "source": [
    "G_reciprocity = nx.reciprocity(G)\n",
    "H_reciprocity = nx.reciprocity(H)\n",
    "I_reciprocity = nx.reciprocity(I)"
   ]
  },
  {
   "cell_type": "code",
   "execution_count": 7,
   "metadata": {},
   "outputs": [
    {
     "name": "stdout",
     "output_type": "stream",
     "text": [
      "Reciprocidade de toda rede:  0.4708 \n",
      "Reciprocidade do grupo 2:  0.4644 \n",
      "Reciprocidade do grupo 3:  0.4287\n"
     ]
    }
   ],
   "source": [
    "print('Reciprocidade de toda rede: ' , round(G_reciprocity, 4) , \n",
    "      '\\nReciprocidade do grupo 2: ' , round(H_reciprocity, 4),\n",
    "      '\\nReciprocidade do grupo 3: ' , round(I_reciprocity, 4))"
   ]
  },
  {
   "cell_type": "code",
   "execution_count": 9,
   "metadata": {},
   "outputs": [
    {
     "data": {
      "text/plain": [
       "{'duration': 27.529999999999998, 'numcalls': 15}"
      ]
     },
     "execution_count": 9,
     "metadata": {},
     "output_type": "execute_result"
    }
   ],
   "source": [
    "G.edges['5B5F2C071D12AF13219DF5EBE05132AF', '12AF4F1B84D5D9BD67FABD71228362A0']"
   ]
  }
 ],
 "metadata": {
  "kernelspec": {
   "display_name": "Python 3",
   "language": "python",
   "name": "python3"
  },
  "language_info": {
   "codemirror_mode": {
    "name": "ipython",
    "version": 3
   },
   "file_extension": ".py",
   "mimetype": "text/x-python",
   "name": "python",
   "nbconvert_exporter": "python",
   "pygments_lexer": "ipython3",
   "version": "3.7.3"
  }
 },
 "nbformat": 4,
 "nbformat_minor": 2
}
