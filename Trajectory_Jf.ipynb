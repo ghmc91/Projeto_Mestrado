{
 "cells": [
  {
   "cell_type": "code",
   "execution_count": 1,
   "metadata": {},
   "outputs": [],
   "source": [
    "import sys\n",
    "import pandas as pd\n",
    "import datetime\n",
    "import csv"
   ]
  },
  {
   "cell_type": "code",
   "execution_count": 2,
   "metadata": {},
   "outputs": [],
   "source": [
    "filename = '/home/gustavo/Desktop/Mestrado/mestrado_dados/dados_18.11/cdr/cdr_regiao_imediata_jf_all_unique_filtered.txt'\n",
    "\n",
    "df_info = pd.read_csv('/home/gustavo/Desktop/Mestrado/mestrado_dados/Regiao_Presumida/residence_antenna_jf.csv', sep=';')\n",
    "df_info.rename(columns={'user': 'user_from'}, inplace=True)\n",
    "\n",
    "df_ibge = pd.read_csv('/home/gustavo/Desktop/Mestrado/mestrado_dados/ibge/Sector_Class_Jf.csv')\n",
    "df_ibge.drop(columns={'Unnamed: 0'}, inplace=True)\n",
    "df_ibge = df_ibge[['V005', 'closest_antenna']]\n",
    "df_ibge = df_ibge.groupby('closest_antenna').mean().reset_index()"
   ]
  },
  {
   "cell_type": "code",
   "execution_count": 3,
   "metadata": {},
   "outputs": [],
   "source": [
    "def classe(i):\n",
    "    if i <= 510:\n",
    "        return 1\n",
    "    elif i <= 1020:\n",
    "        return 2\n",
    "    elif i <= 1530:\n",
    "        return 3\n",
    "    elif i <= 2550:\n",
    "        return 4\n",
    "    elif i <= 5100:\n",
    "        return 5\n",
    "    elif i <= 10200:\n",
    "        return 6\n",
    "    elif i > 10200:\n",
    "        return 7\n",
    "\n",
    "df_ibge['classe'] = df_ibge['V005'].map(classe)\n",
    "df_ibge = df_ibge.sort_values(['classe'])\n",
    "df_ibge.rename(columns={'closest_antenna': 'residence_antenna'}, inplace=True)"
   ]
  },
  {
   "cell_type": "markdown",
   "metadata": {},
   "source": [
    "# Gerando o df_main"
   ]
  },
  {
   "cell_type": "code",
   "execution_count": null,
   "metadata": {},
   "outputs": [],
   "source": [
    "array_df = []\n",
    "for df_cdr in pd.read_csv(filename, sep=';', iterator=True, chunksize=1000000):\n",
    "    array_df.append(df_cdr[['user_from', 'antenna']])"
   ]
  },
  {
   "cell_type": "code",
   "execution_count": null,
   "metadata": {},
   "outputs": [],
   "source": [
    "for df in array_df:\n",
    "    df = pd.merge(df, df_info, on='user_from')"
   ]
  },
  {
   "cell_type": "code",
   "execution_count": null,
   "metadata": {},
   "outputs": [],
   "source": [
    "new_array_df = []\n",
    "for df in array_df:\n",
    "    df.rename(columns={'antenna':'residence_antenna'}, inplace=True)\n",
    "    new_df = pd.merge(df, df_ibge[['residence_antenna', 'classe']], on='residence_antenna')\n",
    "    new_array_df.append(new_df)"
   ]
  },
  {
   "cell_type": "code",
   "execution_count": null,
   "metadata": {},
   "outputs": [],
   "source": [
    "df_all = pd.concat(new_array_df)\n",
    "len(df_all)"
   ]
  },
  {
   "cell_type": "code",
   "execution_count": null,
   "metadata": {},
   "outputs": [],
   "source": [
    "df_all.to_csv('/home/gustavo/Desktop/Mestrado/mestrado_dados/dados_18.11/df_main_jf.csv', index=None, sep=';')"
   ]
  },
  {
   "cell_type": "markdown",
   "metadata": {},
   "source": [
    "# df_main_full"
   ]
  },
  {
   "cell_type": "code",
   "execution_count": 4,
   "metadata": {},
   "outputs": [],
   "source": [
    "array_df = []\n",
    "for df_cdr in pd.read_csv(filename, sep=';', iterator=True, chunksize=1000000):\n",
    "    array_df.append(df_cdr[['date', 'time','user_from', 'antenna']])"
   ]
  },
  {
   "cell_type": "code",
   "execution_count": 5,
   "metadata": {},
   "outputs": [],
   "source": [
    "for df in array_df:\n",
    "    df = pd.merge(df, df_info, on='user_from')"
   ]
  },
  {
   "cell_type": "code",
   "execution_count": 6,
   "metadata": {},
   "outputs": [
    {
     "name": "stderr",
     "output_type": "stream",
     "text": [
      "/home/gustavo/anaconda3/lib/python3.7/site-packages/pandas/core/frame.py:4218: SettingWithCopyWarning: \n",
      "A value is trying to be set on a copy of a slice from a DataFrame\n",
      "\n",
      "See the caveats in the documentation: http://pandas.pydata.org/pandas-docs/stable/user_guide/indexing.html#returning-a-view-versus-a-copy\n",
      "  return super().rename(**kwargs)\n"
     ]
    }
   ],
   "source": [
    "new_array_df = []\n",
    "for df in array_df:\n",
    "    df.rename(columns={'antenna':'residence_antenna'}, inplace=True)\n",
    "    new_df = pd.merge(df, df_ibge[['residence_antenna', 'classe']], on='residence_antenna')\n",
    "    new_array_df.append(new_df)"
   ]
  },
  {
   "cell_type": "code",
   "execution_count": 7,
   "metadata": {},
   "outputs": [],
   "source": [
    "df_all_full = pd.concat(new_array_df)"
   ]
  },
  {
   "cell_type": "code",
   "execution_count": null,
   "metadata": {},
   "outputs": [],
   "source": [
    "df_all_full.to_csv('/home/gustavo/Desktop/Mestrado/mestrado_dados/dados_18.11/df_main_full_jf.csv', index=None, sep=';')"
   ]
  }
 ],
 "metadata": {
  "kernelspec": {
   "display_name": "Python 3",
   "language": "python",
   "name": "python3"
  },
  "language_info": {
   "codemirror_mode": {
    "name": "ipython",
    "version": 3
   },
   "file_extension": ".py",
   "mimetype": "text/x-python",
   "name": "python",
   "nbconvert_exporter": "python",
   "pygments_lexer": "ipython3",
   "version": "3.7.3"
  }
 },
 "nbformat": 4,
 "nbformat_minor": 2
}
